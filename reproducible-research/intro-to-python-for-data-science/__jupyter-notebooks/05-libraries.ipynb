{
 "cells": [
  {
   "cell_type": "markdown",
   "id": "dcd11c78-d524-46df-8f88-87a7d64e2db4",
   "metadata": {},
   "source": [
    "# Libraries"
   ]
  },
  {
   "cell_type": "markdown",
   "id": "ff442329-3351-49f6-ac85-48f0ceed648d",
   "metadata": {},
   "source": [
    "---\n",
    "## Overview\n",
    "\n",
    "Teaching: 10 minutes\n",
    "\n",
    "Exercises: 10 minutes\n",
    "\n",
    "### Questions:\n",
    "- \"How can I use software that other people have written?\"\n",
    "- \"How can I find out what that software does?\"\n",
    "\n",
    "### Objectives:\n",
    "- \"Explain what software libraries are and why programmers create and use them.\"\n",
    "- \"Write programs that import and use modules from Python's standard library.\"\n",
    "- \"Find and read documentation for the standard library interactively (in the interpreter) and online.\"\n",
    "---"
   ]
  },
  {
   "cell_type": "markdown",
   "id": "e079f80b-4690-46c2-9c52-d9fb224c101e",
   "metadata": {},
   "source": [
    "## Most of the power of a programming language is in its libraries.\n",
    "\n"
   ]
  },
  {
   "cell_type": "markdown",
   "id": "9fd1fe7c-9273-4a01-8664-061e67e4fd79",
   "metadata": {},
   "source": [
    "*   A *library* is a collection of files (called *modules*) that contains\n",
    "    functions for use by other programs.\n",
    "    *   May also contain data values (e.g., numerical constants) and other things.\n",
    "    *   Library's contents are supposed to be related, but there's no way to enforce that.\n",
    "*   The Python [standard library][stdlib] is an extensive suite of modules that comes\n",
    "    with Python itself.\n",
    "*   Many additional libraries are available from [PyPI][pypi] (the Python Package Index).\n",
    "*   We will see later how to write new libraries.\n",
    "\n",
    "[pypi]: https://pypi.python.org/pypi/\n",
    "[stdlib]: https://docs.python.org/3/library/"
   ]
  },
  {
   "cell_type": "markdown",
   "id": "f24eff06-f375-4231-960a-d1cbe3705c64",
   "metadata": {
    "tags": []
   },
   "source": [
    "---\n",
    "### Libraries and modules"
   ]
  },
  {
   "cell_type": "markdown",
   "id": "9f4ac0ec-45dd-496f-b8f7-2b767529c2f6",
   "metadata": {},
   "source": [
    "> A library is a collection of modules, but the terms are often used\n",
    "> interchangeably, especially since many libraries only consist of a single\n",
    "> module, so don't worry if you mix them.\n",
    "---\n"
   ]
  },
  {
   "cell_type": "markdown",
   "id": "5c5cd820-8dc2-44e4-bdfc-2f0b25b7b0a7",
   "metadata": {},
   "source": [
    "## A program must import a library module before using it.\n",
    "\n"
   ]
  },
  {
   "cell_type": "markdown",
   "id": "a7fbfc2a-2af9-44d8-9259-7240802cc643",
   "metadata": {},
   "source": [
    "*   Use `import` to load a library module into a program's memory.\n",
    "*   Then refer to things from the module as `module_name.thing_name`.\n",
    "    *   Python uses `.` to mean \"part of\".\n",
    "*   Using `math`, one of the modules in the standard library:\n",
    "\n"
   ]
  },
  {
   "cell_type": "code",
   "execution_count": null,
   "id": "cffeb037-67e1-47b6-ba57-b675a44e2e1e",
   "metadata": {},
   "outputs": [],
   "source": [
    "import math\n",
    "\n",
    "print('pi is', math.pi)\n",
    "print('cos(pi) is', math.cos(math.pi))"
   ]
  },
  {
   "cell_type": "markdown",
   "id": "6a45e765-54a3-4cd5-8d7e-a59be17eacdd",
   "metadata": {},
   "source": [
    "*   Have to refer to each item with the module's name.\n",
    "    *   `math.cos(pi)` won't work: the reference to `pi`\n",
    "        doesn't somehow \"inherit\" the function's reference to `math`."
   ]
  },
  {
   "cell_type": "markdown",
   "id": "e93a119a-46ce-4c3a-8db7-d1188bb7b081",
   "metadata": {},
   "source": [
    "## Use `help` to learn about the contents of a library module.\n",
    "\n"
   ]
  },
  {
   "cell_type": "markdown",
   "id": "16de9811-4d6c-462c-bdb8-683def784094",
   "metadata": {},
   "source": [
    "*   Works just like help for a function.\n",
    "\n"
   ]
  },
  {
   "cell_type": "code",
   "execution_count": null,
   "id": "232eb0f7-8b25-44ec-81d2-74b8d39f6dff",
   "metadata": {
    "tags": []
   },
   "outputs": [],
   "source": [
    "help(math)"
   ]
  },
  {
   "cell_type": "markdown",
   "id": "e7203b95-3745-4e10-918d-dae22d54b1e0",
   "metadata": {},
   "source": [
    "## Import specific items from a library module to shorten programs.\n",
    "\n"
   ]
  },
  {
   "cell_type": "markdown",
   "id": "ccb08dd7-839c-414e-9686-b42e0405c67b",
   "metadata": {},
   "source": [
    "*   Use `from ... import ...` to load only specific items from a library module.\n",
    "*   Then refer to them directly without library name as prefix.\n",
    "\n"
   ]
  },
  {
   "cell_type": "code",
   "execution_count": null,
   "id": "1b72f037-c844-44ff-b140-66f549fff180",
   "metadata": {},
   "outputs": [],
   "source": [
    "from math import cos, pi\n",
    "\n",
    "print('cos(pi) is', cos(pi))"
   ]
  },
  {
   "cell_type": "markdown",
   "id": "43f85665-b309-4e2c-bb3c-8ab7d024a985",
   "metadata": {},
   "source": [
    "## Create an alias for a library module when importing it to shorten programs.\n",
    "\n"
   ]
  },
  {
   "cell_type": "markdown",
   "id": "e92c1ab4-1a36-44ae-96bc-d5c343a18f21",
   "metadata": {},
   "source": [
    "*   Use `import ... as ...` to give a library a short *alias* while importing it.\n",
    "*   Then refer to items in the library using that shortened name.\n"
   ]
  },
  {
   "cell_type": "code",
   "execution_count": null,
   "id": "1439fd38-58af-4989-b3ac-9c415a842752",
   "metadata": {},
   "outputs": [],
   "source": [
    "import math as m\n",
    "\n",
    "print('cos(pi) is', m.cos(m.pi))"
   ]
  },
  {
   "cell_type": "markdown",
   "id": "b8e2bb81-e3a6-446a-97e3-e84b6b3f9b10",
   "metadata": {},
   "source": [
    "*   Commonly used for libraries that are frequently used or have long names.\n",
    "    *   E.g., the `matplotlib` plotting library is often aliased as `mpl`.\n",
    "*   But can make programs harder to understand,\n",
    "    since readers must learn your program's aliases.\n",
    "\n"
   ]
  },
  {
   "cell_type": "markdown",
   "id": "9b327fb6-8c72-4ef9-a779-9fa588bb2734",
   "metadata": {},
   "source": [
    "---\n",
    "### Exploring the Math Module"
   ]
  },
  {
   "cell_type": "markdown",
   "id": "a30b2326-0c7f-4e0e-a6fe-61afa8601568",
   "metadata": {},
   "source": [
    "> 1. What function from the `math` module can you use to calculate a square root\n",
    ">    *without* using `sqrt`?\n",
    "> 2. Since the library contains this function, why does `sqrt` exist?\n",
    ">\n"
   ]
  },
  {
   "cell_type": "markdown",
   "id": "9539f997-74d1-4ff7-a0e2-f92c4feb2659",
   "metadata": {
    "jp-MarkdownHeadingCollapsed": true,
    "tags": []
   },
   "source": [
    "### Solution"
   ]
  },
  {
   "cell_type": "markdown",
   "id": "452f6cc4-b83e-4a34-b7a9-2fb956e174cf",
   "metadata": {},
   "source": [
    "> > 1. Using `help(math)` we see that we've got `pow(x,y)` in addition to `sqrt(x)`,\n",
    "> >    so we could use `pow(x, 0.5)` to find a square root.\n",
    "> > 2. The `sqrt(x)` function is arguably more readable than `pow(x, 0.5)` when\n",
    "> >    implementing equations. Readability is a cornerstone of good programming, so it\n",
    "> >    makes sense to provide a special function for this specific common case.\n",
    "> >\n",
    "> >    Also, the design of Python's `math` library has its origin in the C standard,\n",
    "> >    which includes both `sqrt(x)` and `pow(x,y)`, so a little bit of the history\n",
    "> >    of programming is showing in Python's function names."
   ]
  },
  {
   "cell_type": "markdown",
   "id": "f8daf20f-cd71-49c5-970c-e48c71117edc",
   "metadata": {},
   "source": [
    "---\n",
    "### Locating the Right Module"
   ]
  },
  {
   "cell_type": "markdown",
   "id": "3cfced65-86b2-4777-bdd7-3cc996bfc503",
   "metadata": {},
   "source": [
    "> You want to select a random character from a string:\n",
    ">\n"
   ]
  },
  {
   "cell_type": "code",
   "execution_count": null,
   "id": "4c586989-d50e-4e8c-b99f-3402a21f127d",
   "metadata": {},
   "outputs": [],
   "source": [
    "bases = 'ACTTGCTTGAC'"
   ]
  },
  {
   "cell_type": "markdown",
   "id": "9edcd9d3-1a66-4e31-8a33-2624505342f9",
   "metadata": {},
   "source": [
    "> 1. Which [standard library][stdlib] module could help you?\n",
    "> 2. Which function would you select from that module? Are there alternatives?\n",
    "> 3. Try to write a program that uses the function.\n",
    ">\n",
    "\n",
    "[stdlib]: https://docs.python.org/3/library/"
   ]
  },
  {
   "cell_type": "markdown",
   "id": "003d3f12-8a61-4175-a89e-38e5a0c1486d",
   "metadata": {
    "jp-MarkdownHeadingCollapsed": true,
    "tags": []
   },
   "source": [
    "### Solution"
   ]
  },
  {
   "cell_type": "markdown",
   "id": "bc7c0c9a-b559-44d1-844c-677baf13a3bb",
   "metadata": {},
   "source": [
    "> > The [random module][randommod] seems like it could help.\n",
    "> >\n",
    "> > The string has 11 characters, each having a positional index from 0 to 10.\n",
    "> > You could use the [`random.randrange`](https://docs.python.org/3/library/random.html#random.randrange)\n",
    "> > or [`random.randint`](https://docs.python.org/3/library/random.html#random.randint) functions\n",
    "> > to get a random integer between 0 and 10, and then select the `bases` character at that index:\n",
    "> >\n",
    "\n",
    "[randommod]: https://docs.python.org/3/library/random.html"
   ]
  },
  {
   "cell_type": "code",
   "execution_count": null,
   "id": "ae0d14e7-45bb-4587-846c-de7f996cbf42",
   "metadata": {},
   "outputs": [],
   "source": [
    "from random import randrange\n",
    "\n",
    "random_index = randrange(len(bases))\n",
    "print(bases[random_index])"
   ]
  },
  {
   "cell_type": "markdown",
   "id": "885b7ae1-1fe5-44ac-ad34-3a29c4613e66",
   "metadata": {},
   "source": [
    "> > or more compactly:\n",
    "> >"
   ]
  },
  {
   "cell_type": "code",
   "execution_count": null,
   "id": "0f88f49a-e40b-4dab-9194-9ecdfdacf28e",
   "metadata": {},
   "outputs": [],
   "source": [
    "from random import randrange\n",
    "\n",
    "print(bases[randrange(len(bases))])"
   ]
  },
  {
   "cell_type": "markdown",
   "id": "41dad4aa-3c08-481d-8544-29fc09c27f64",
   "metadata": {},
   "source": [
    "> > Perhaps you found the [`random.sample`](https://docs.python.org/3/library/random.html#random.sample) function? \n",
    "> > It allows for slightly less typing but might be a bit harder to understand just by reading:\n",
    "> >"
   ]
  },
  {
   "cell_type": "code",
   "execution_count": null,
   "id": "b4720212-70fd-4623-9d91-9c3ce53af412",
   "metadata": {},
   "outputs": [],
   "source": [
    "from random import sample\n",
    "\n",
    "print(sample(bases, 1)[0])"
   ]
  },
  {
   "cell_type": "markdown",
   "id": "ac6f306c-06b1-4550-b896-6a36be64c5da",
   "metadata": {},
   "source": [
    "> > Note that this function returns a list of values. Learn more about\n",
    "> > lists in [here](http://swcarpentry.github.io/python-novice-gapminder/11-lists/index.html).\n",
    "> > \n",
    "> > The simplest and shortest solution is the [`random.choice`](https://docs.python.org/3/library/random.html#random.choice) \n",
    "> > function that does exactly what we want:\n",
    "> > "
   ]
  },
  {
   "cell_type": "code",
   "execution_count": null,
   "id": "b96b5c88-4167-48b9-9d4e-586890349f59",
   "metadata": {},
   "outputs": [],
   "source": [
    "from random import choice\n",
    "\n",
    "print(choice(bases))"
   ]
  },
  {
   "cell_type": "markdown",
   "id": "8a61de87-4178-47b9-abb6-95918b29c116",
   "metadata": {},
   "source": [
    "---\n",
    "### Jigsaw Puzzle (Parson's Problem) Programming Example"
   ]
  },
  {
   "cell_type": "markdown",
   "id": "e4e0058c-78a5-42f4-8f28-06be516c7912",
   "metadata": {},
   "source": [
    "> Rearrange the following statements so that a random\n",
    "> DNA base is printed and its index in the string. \n",
    "> Not all statements may be needed.  Feel free to use/add\n",
    "> intermediate variables.\n"
   ]
  },
  {
   "cell_type": "markdown",
   "id": "da3b9a31-89e4-4254-a4dc-b2a9acec215f",
   "metadata": {},
   "source": [
    "> ~~~ python\n",
    "> bases=\"ACTTGCTTGAC\"\n",
    "> import math\n",
    "> import random\n",
    "> ___ = random.randrange(n_bases)\n",
    "> ___ = len(bases)\n",
    "> print(\"random base \", bases[___], \"base index\", ___)\n",
    "> ~~~\n",
    ">"
   ]
  },
  {
   "cell_type": "markdown",
   "id": "bb965091-ce03-41c0-9a7d-f56bb98c806d",
   "metadata": {},
   "source": [
    "### Solution"
   ]
  },
  {
   "cell_type": "code",
   "execution_count": null,
   "id": "b8f0ab6b-1823-42ea-9e1c-2bb7976080d2",
   "metadata": {},
   "outputs": [],
   "source": [
    "import math \n",
    "import random\n",
    "bases = \"ACTTGCTTGAC\" \n",
    "n_bases = len(bases)\n",
    "idx = random.randrange(n_bases)\n",
    "print(\"random base\", bases[idx], \"base index\", idx)"
   ]
  },
  {
   "cell_type": "markdown",
   "id": "9cddd132-4fac-4487-8a38-8c03e6d0f807",
   "metadata": {},
   "source": [
    "---\n",
    "### When Is Help Available?"
   ]
  },
  {
   "cell_type": "markdown",
   "id": "93cd9dd0-ae83-4bdc-8144-10a0e85b3657",
   "metadata": {},
   "source": [
    "> When a colleague of yours types `help(math)`,\n",
    "> Python reports an error:\n",
    ">\n"
   ]
  },
  {
   "cell_type": "markdown",
   "id": "e118eb90-9541-430d-9f54-9c41382d6424",
   "metadata": {},
   "source": [
    "> ~~~ error\n",
    "> NameError: name 'math' is not defined\n",
    "> ~~~\n",
    ">\n",
    "\n"
   ]
  },
  {
   "cell_type": "markdown",
   "id": "2e82a329-9681-4fc8-957a-a9dde1efe0e1",
   "metadata": {},
   "source": [
    "> What has your colleague forgotten to do?\n",
    ">"
   ]
  },
  {
   "cell_type": "markdown",
   "id": "5ec52199-abbc-46b3-a186-341b6b4afa96",
   "metadata": {
    "jp-MarkdownHeadingCollapsed": true,
    "tags": []
   },
   "source": [
    "### Solution"
   ]
  },
  {
   "cell_type": "markdown",
   "id": "a3311e03-fe57-41e0-b0f4-a7d6c5ffc1a6",
   "metadata": {},
   "source": [
    "> > Importing the math module (`import math`)\n"
   ]
  },
  {
   "cell_type": "markdown",
   "id": "cb56b65b-7914-42fa-a5ed-2c03d59abbe1",
   "metadata": {},
   "source": [
    "---\n",
    "### Importing With Aliases"
   ]
  },
  {
   "cell_type": "markdown",
   "id": "3e9f632a-4c56-4969-98cb-e235c075c73e",
   "metadata": {},
   "source": [
    "> 1. Fill in the blanks so that the program below prints `90.0`.\n",
    "> 2. Rewrite the program so that it uses `import` *without* `as`.\n",
    "> 3. Which form do you find easier to read?\n",
    ">\n"
   ]
  },
  {
   "cell_type": "markdown",
   "id": "696c3db7-98dc-4ced-8e52-d5c62bb56285",
   "metadata": {},
   "source": [
    "> ~~~ python\n",
    "> import math as m\n",
    "> angle = ____.degrees(____.pi / 2)\n",
    "> print(____)\n",
    "> ~~~\n",
    "> "
   ]
  },
  {
   "cell_type": "markdown",
   "id": "6fed2993-3445-48d7-8ae6-c45c58e92c50",
   "metadata": {
    "jp-MarkdownHeadingCollapsed": true,
    "tags": []
   },
   "source": [
    "### Solution"
   ]
  },
  {
   "cell_type": "code",
   "execution_count": null,
   "id": "d802f4a5-0547-4e31-8ba1-dd6b395c137d",
   "metadata": {},
   "outputs": [],
   "source": [
    "import math as m\n",
    "angle = m.degrees(m.pi / 2)\n",
    "print(angle)"
   ]
  },
  {
   "cell_type": "markdown",
   "id": "050a2f50-4a72-4484-b664-2d9ef4daa6ca",
   "metadata": {},
   "source": [
    "> >\n",
    "> > can be written as\n",
    "> >"
   ]
  },
  {
   "cell_type": "code",
   "execution_count": null,
   "id": "d71b4d28-f5aa-49c8-a899-9346f9c72ba3",
   "metadata": {},
   "outputs": [],
   "source": [
    "import math\n",
    "angle = math.degrees(math.pi / 2)\n",
    "print(angle)"
   ]
  },
  {
   "cell_type": "markdown",
   "id": "51061089-e1fa-499f-83b5-d1f202134958",
   "metadata": {},
   "source": [
    "> >\n",
    "> > Since you just wrote the code and are familiar with it, you might actually\n",
    "> > find the first version easier to read. But when trying to read a huge piece\n",
    "> > of code written by someone else, or when getting back to your own huge piece\n",
    "> > of code after several months, non-abbreviated names are often easier, except\n",
    "> > where there are clear abbreviation conventions."
   ]
  },
  {
   "cell_type": "markdown",
   "id": "b709965c-d12a-440e-9e66-f7d0edf8621e",
   "metadata": {},
   "source": [
    "---\n",
    "### There Are Many Ways To Import Libraries!"
   ]
  },
  {
   "cell_type": "markdown",
   "id": "6ed05c31-3697-47a9-a296-e4e5b71d7e55",
   "metadata": {},
   "source": [
    "> Match the following print statements with the appropriate library calls.\n",
    ">\n"
   ]
  },
  {
   "cell_type": "markdown",
   "id": "55d3e8b2-3180-4bf3-9e12-b05b6276c586",
   "metadata": {},
   "source": [
    "> Print commands:\n",
    ">\n",
    "> 1. `print(\"sin(pi/2) =\", sin(pi/2))`\n",
    "> 2. `print(\"sin(pi/2) =\", m.sin(m.pi/2))`\n",
    "> 3. `print(\"sin(pi/2) =\", math.sin(math.pi/2))`\n",
    ">\n"
   ]
  },
  {
   "cell_type": "markdown",
   "id": "830923c2-541f-4928-9da8-6728f80ea353",
   "metadata": {},
   "source": [
    "> Library calls:\n",
    ">\n",
    "> 1. `from math import sin, pi`\n",
    "> 2. `import math`\n",
    "> 3. `import math as m`\n",
    "> 4. `from math import *`\n",
    ">\n"
   ]
  },
  {
   "cell_type": "markdown",
   "id": "b33fd08a-06f2-4a6c-8204-f4dffdc49ace",
   "metadata": {
    "jp-MarkdownHeadingCollapsed": true,
    "tags": []
   },
   "source": [
    "### Solution"
   ]
  },
  {
   "cell_type": "markdown",
   "id": "622341fb-2f57-43dc-a3d5-ba0182128d74",
   "metadata": {},
   "source": [
    "> > 1. Library calls 1 and 4. In order to directly refer to `sin` and `pi` without\n",
    "> >    the library name as prefix, you need to use the `from ... import ...`\n",
    "> >    statement. Whereas library call 1 specifically imports the two functions\n",
    "> >    `sin` and `pi`, library call 4 imports all functions in the `math` module.\n",
    "> > 2. Library call 3. Here `sin` and `pi` are referred to with a shortened library\n",
    "> >    name `m` instead of `math`. Library call 3 does exactly that using the\n",
    "> >    `import ... as ...` syntax - it creates an alias for `math` in the form of\n",
    "> >    the shortened name `m`.\n",
    "> > 3. Library call 2. Here `sin` and `pi` are referred to with the regular library\n",
    "> >    name `math`, so the regular `import ...` call suffices.\n",
    "> >"
   ]
  },
  {
   "cell_type": "markdown",
   "id": "f4ee2405-0908-4a5a-be76-7a4947eacda6",
   "metadata": {},
   "source": [
    "> > __Note:__ although library call 4 works, importing all names from a module using a wildcard \n",
    "> > import is [not recommended][pep8-imports] as it makes it unclear which names from the module\n",
    "> > are used in the code. In general it is best to make your imports as specific as possible and to \n",
    "> > only import what your code uses. In library call 1, the `import` statement explicitly tells us\n",
    "> > that the `sin` function is imported from the `math` module, but library call 4 does not\n",
    "> > convey this information.\n",
    "\n",
    "[pep8-imports]: https://pep8.org/#imports"
   ]
  },
  {
   "cell_type": "markdown",
   "id": "25e396e9-b448-46a7-a737-68e9d904066c",
   "metadata": {},
   "source": [
    "---\n",
    "### Importing Specific Items"
   ]
  },
  {
   "cell_type": "markdown",
   "id": "041283b6-ae9d-4d4e-9bed-857fef49e2b3",
   "metadata": {},
   "source": [
    "> 1. Fill in the blanks so that the program below prints `90.0`.\n",
    "> 2. Do you find this version easier to read than preceding ones?\n",
    "> 3. Why *wouldn't* programmers always use this form of `import`?\n"
   ]
  },
  {
   "cell_type": "markdown",
   "id": "1ed11303-1361-4bb7-9beb-274c43e6c6a8",
   "metadata": {},
   "source": [
    "> ~~~ python\n",
    "> ____ math import ____, ____\n",
    "> angle = degrees(pi / 2)\n",
    "> print(angle)\n",
    "> ~~~\n"
   ]
  },
  {
   "cell_type": "markdown",
   "id": "4e130afd-44c9-4d7e-9b0b-5293a8d49e0a",
   "metadata": {
    "jp-MarkdownHeadingCollapsed": true,
    "tags": []
   },
   "source": [
    "### Solution"
   ]
  },
  {
   "cell_type": "code",
   "execution_count": null,
   "id": "8ebd8225-efd1-42f6-981d-a8912390173d",
   "metadata": {},
   "outputs": [],
   "source": [
    "from math import degrees, pi\n",
    "angle = degrees(pi / 2)\n",
    "print(angle)"
   ]
  },
  {
   "cell_type": "markdown",
   "id": "d229cd60-df1c-47da-8cca-e4c5cd61aca9",
   "metadata": {},
   "source": [
    "> > Most likely you find this version easier to read since it's less dense.\n",
    "> > The main reason not to use this form of import is to avoid name clashes.\n",
    "> > For instance, you wouldn't import `degrees` this way if you also wanted to\n",
    "> > use the name `degrees` for a variable or function of your own. Or if you\n",
    "> > were to also import a function named `degrees` from another library."
   ]
  },
  {
   "cell_type": "markdown",
   "id": "0d7750f2-a84d-4f83-93e5-3b878e7e0a20",
   "metadata": {},
   "source": [
    "---\n",
    "### Reading Error Messages"
   ]
  },
  {
   "cell_type": "markdown",
   "id": "1ca616d0-a93d-4b73-89f9-439d6de3f8f2",
   "metadata": {},
   "source": [
    "> 1. Read the code below and try to identify what the errors are without running it.\n",
    "> 2. Run the code, and read the error message. What type of error is it?\n",
    ">\n"
   ]
  },
  {
   "cell_type": "markdown",
   "id": "f5a929af-dcdf-461b-86bb-a40c525d52a9",
   "metadata": {},
   "source": [
    "> ~~~ python\n",
    "> from math import log\n",
    "> log(0)\n",
    "> ~~~"
   ]
  },
  {
   "cell_type": "markdown",
   "id": "9190221a-6e85-4086-9440-e7d1326da907",
   "metadata": {
    "jp-MarkdownHeadingCollapsed": true,
    "tags": []
   },
   "source": [
    "### Solution"
   ]
  },
  {
   "cell_type": "code",
   "execution_count": null,
   "id": "f278330b-2e7b-4b93-80db-189b41d80f24",
   "metadata": {},
   "outputs": [],
   "source": [
    "from math import log\n",
    "log(0)"
   ]
  },
  {
   "cell_type": "markdown",
   "id": "8ca55be4-6003-4168-8e95-dd43b444fa12",
   "metadata": {},
   "source": [
    "> > 1. The logarithm of `x` is only defined for `x > 0`, so 0 is outside the\n",
    "> >    domain of the function.\n",
    "> > 2. You get an error of type `ValueError`, indicating that the function\n",
    "> >    received an inappropriate argument value. The additional message\n",
    "> >    \"math domain error\" makes it clearer what the problem is.\n",
    "> \n"
   ]
  },
  {
   "cell_type": "markdown",
   "id": "3d7c78f4-1cff-4fc3-9cc4-f0f33180b24f",
   "metadata": {},
   "source": [
    "---\n",
    "## Keypoints:\n",
    "- \"Most of the power of a programming language is in its libraries.\"\n",
    "- \"A program must import a library module in order to use it.\"\n",
    "- \"Use `help` to learn about the contents of a library module.\"\n",
    "- \"Import specific items from a library to shorten programs.\"\n",
    "- \"Create an alias for a library when importing it to shorten programs.\"\n",
    "---"
   ]
  },
  {
   "cell_type": "markdown",
   "id": "83dca120-602c-4039-9757-96bd90809a18",
   "metadata": {},
   "source": [
    "*This course material was created from the [Plotting and Programming in Python](http://swcarpentry.github.io/python-novice-gapminder/) curriculum developed by [The Software Carpentry Foundation](https://software-carpentry.org/) of [The Carpentries](https://carpentries.org/) licensed under [CC-BY 4.0](https://creativecommons.org/licenses/by/4.0/)*"
   ]
  }
 ],
 "metadata": {
  "kernelspec": {
   "display_name": "Python 3 (ipykernel)",
   "language": "python",
   "name": "python3"
  },
  "language_info": {
   "codemirror_mode": {
    "name": "ipython",
    "version": 3
   },
   "file_extension": ".py",
   "mimetype": "text/x-python",
   "name": "python",
   "nbconvert_exporter": "python",
   "pygments_lexer": "ipython3",
   "version": "3.9.12"
  }
 },
 "nbformat": 4,
 "nbformat_minor": 5
}
