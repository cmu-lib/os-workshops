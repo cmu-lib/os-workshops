{
 "cells": [
  {
   "cell_type": "markdown",
   "id": "10b0bd36-51cd-440c-b216-6e016dfc0265",
   "metadata": {},
   "source": [
    "# Reading Tabular Data into DataFrames"
   ]
  },
  {
   "cell_type": "markdown",
   "id": "965ed347-ff88-4a8d-95b2-ebe8f37d41ae",
   "metadata": {},
   "source": [
    "---\n",
    "## Overview\n",
    "\n",
    "Teaching: 10 minutes\n",
    "\n",
    "Exercises: 10 minutes\n",
    "\n",
    "### Questions:\n",
    "- \"How can I read tabular data?\"\n",
    "\n",
    "### Objectives:\n",
    "- \"Import the Pandas library.\"\n",
    "- \"Use Pandas to load a simple CSV data set.\"\n",
    "- \"Get some basic information about a Pandas DataFrame.\"\n",
    "---"
   ]
  },
  {
   "cell_type": "markdown",
   "id": "f36928ae-ae26-4809-bc04-174b96dad2fb",
   "metadata": {},
   "source": [
    "## Use the Pandas library to do statistics on tabular data.\n",
    "\n"
   ]
  },
  {
   "cell_type": "markdown",
   "id": "3621f8b4-2bc9-491d-b81e-d87cf26be710",
   "metadata": {},
   "source": [
    "*   Pandas is a widely-used Python library for statistics, particularly on tabular data.\n",
    "*   Borrows many features from R's dataframes.\n",
    "    *   A 2-dimensional table whose columns have names\n",
    "        and potentially have different data types.\n",
    "*   Load it with `import pandas as pd`. The alias pd is commonly used for Pandas.\n",
    "*   Read a Comma Separated Values (CSV) data file with `pd.read_csv`.\n",
    "    *   Argument is the name of the file to be read.\n",
    "    *   Assign result to a variable to store the data that was read.\n",
    "\n"
   ]
  },
  {
   "cell_type": "code",
   "execution_count": null,
   "id": "c23d68e6-022e-41d8-b832-24e9d7181099",
   "metadata": {},
   "outputs": [],
   "source": [
    "import pandas as pd\n",
    "\n",
    "data = pd.read_csv('data/gapminder_gdp_oceania.csv')\n",
    "print(data)"
   ]
  },
  {
   "cell_type": "markdown",
   "id": "e04f4ac9-e189-4d9c-a7c8-704454af846b",
   "metadata": {},
   "source": [
    "*   The columns in a dataframe are the observed variables, and the rows are the observations.\n",
    "*   Pandas uses backslash `\\` to show wrapped lines when output is too wide to fit the screen.\n",
    "\n"
   ]
  },
  {
   "cell_type": "markdown",
   "id": "caf42a2c-ed58-4608-8952-6b57ed62944f",
   "metadata": {},
   "source": [
    "---\n",
    "### File Not Found"
   ]
  },
  {
   "cell_type": "markdown",
   "id": "c6c2d5e7-96b4-45ee-8c57-029d1c7d737a",
   "metadata": {},
   "source": [
    "> Our lessons store their data files in a `data` sub-directory,\n",
    "> which is why the path to the file is `data/gapminder_gdp_oceania.csv`.\n",
    "> If you forget to include `data/`,\n",
    "> or if you include it but your copy of the file is somewhere else,\n",
    "> you will get a runtime error\n",
    "> that ends with a line like this:\n",
    ">\n"
   ]
  },
  {
   "cell_type": "markdown",
   "id": "54cf34db-117a-4e78-9684-d2b09cbec4df",
   "metadata": {},
   "source": [
    "> ~~~ error\n",
    "> FileNotFoundError: [Errno 2] No such file or directory: 'data/gapminder_gdp_oceania.csv'\n",
    "> ~~~\n",
    "---"
   ]
  },
  {
   "cell_type": "markdown",
   "id": "f40850d8-d79a-43ed-95fb-18aa3c70e171",
   "metadata": {},
   "source": [
    "## Use `index_col` to specify that a column's values should be used as row headings.\n",
    "\n"
   ]
  },
  {
   "cell_type": "markdown",
   "id": "2805724e-c696-4d35-a471-35c8443b4e0f",
   "metadata": {},
   "source": [
    "*   Row headings are numbers (0 and 1 in this case).\n",
    "*   Really want to index by country.\n",
    "*   Pass the name of the column to `read_csv` as its `index_col` parameter to do this.\n",
    "\n"
   ]
  },
  {
   "cell_type": "code",
   "execution_count": null,
   "id": "ff531d21-ae91-4d06-a0a0-8d2a566614ef",
   "metadata": {},
   "outputs": [],
   "source": [
    "data = pd.read_csv('data/gapminder_gdp_oceania.csv', index_col='country')\n",
    "print(data)"
   ]
  },
  {
   "cell_type": "markdown",
   "id": "e1d7f3b8-ef13-4fff-9ed1-08a5735fe9c7",
   "metadata": {},
   "source": [
    "## Use the `DataFrame.info()` method to find out more about a dataframe.\n",
    "\n"
   ]
  },
  {
   "cell_type": "code",
   "execution_count": null,
   "id": "a6321a11-30ef-4eb7-95ac-0758ea9154fe",
   "metadata": {},
   "outputs": [],
   "source": [
    "data.info()"
   ]
  },
  {
   "cell_type": "markdown",
   "id": "302a8948-fa3d-4b0e-9307-82fef542c5af",
   "metadata": {},
   "source": [
    "*   This is a `DataFrame`\n",
    "*   Two rows named `'Australia'` and `'New Zealand'`\n",
    "*   Twelve columns, each of which has two actual 64-bit floating point values.\n",
    "    *   We will talk later about null values, which are used to represent missing observations.\n",
    "*   Uses 208 bytes of memory.\n",
    "\n"
   ]
  },
  {
   "cell_type": "markdown",
   "id": "69fa7e3e-e6cc-47ca-8718-cf397ac5a633",
   "metadata": {},
   "source": [
    "## The `DataFrame.columns` variable stores information about the dataframe's columns.\n",
    "\n"
   ]
  },
  {
   "cell_type": "markdown",
   "id": "a4b0d16c-d1c3-4b5d-b425-9cb27b2be169",
   "metadata": {},
   "source": [
    "*   Note that this is data, *not* a method.  (It doesn't have parentheses.)\n",
    "    *   Like `math.pi`.\n",
    "    *   So do not use `()` to try to call it.\n",
    "*   Called a *member variable*, or just *member*.\n",
    "\n"
   ]
  },
  {
   "cell_type": "code",
   "execution_count": null,
   "id": "dbc900eb-b618-4b34-949a-39c9ccd1a769",
   "metadata": {},
   "outputs": [],
   "source": [
    "print(data.columns)"
   ]
  },
  {
   "cell_type": "markdown",
   "id": "0adcfad5-3007-4059-8357-15d9ef7cc08c",
   "metadata": {},
   "source": [
    "## Use `DataFrame.T` to transpose a dataframe.\n",
    "\n"
   ]
  },
  {
   "cell_type": "markdown",
   "id": "579ac418-a353-4e6b-8de7-59590f9f9e97",
   "metadata": {},
   "source": [
    "*   Sometimes want to treat columns as rows and vice versa.\n",
    "*   Transpose (written `.T`) doesn't copy the data, just changes the program's view of it.\n",
    "*   Like `columns`, it is a member variable.\n",
    "\n"
   ]
  },
  {
   "cell_type": "code",
   "execution_count": null,
   "id": "bb57edf7-3c8c-4934-99bb-7d480728bf19",
   "metadata": {},
   "outputs": [],
   "source": [
    "print(data.T)"
   ]
  },
  {
   "cell_type": "markdown",
   "id": "759a9b0a-967f-4934-b559-c90490c857ca",
   "metadata": {},
   "source": [
    "## Use `DataFrame.describe()` to get summary statistics about data.\n",
    "\n"
   ]
  },
  {
   "cell_type": "markdown",
   "id": "8e19f6e3-4993-461c-a0bd-9add0c41750d",
   "metadata": {},
   "source": [
    "`DataFrame.describe()` gets the summary statistics of only the columns that have numerical data. \n",
    "All other columns are ignored, unless you use the argument `include='all'`.\n"
   ]
  },
  {
   "cell_type": "code",
   "execution_count": null,
   "id": "840b3575-6df4-4191-a8c7-ed077b516d9b",
   "metadata": {},
   "outputs": [],
   "source": [
    "print(data.describe())"
   ]
  },
  {
   "cell_type": "markdown",
   "id": "c4b2f640-5fba-474d-87f2-a43911fc7666",
   "metadata": {},
   "source": [
    "*   Not particularly useful with just two records,\n",
    "    but very helpful when there are thousands.\n",
    "\n"
   ]
  },
  {
   "cell_type": "markdown",
   "id": "98888169-0993-423d-ada1-2b72eef6e0f4",
   "metadata": {},
   "source": [
    "---\n",
    "### Reading Other Data"
   ]
  },
  {
   "cell_type": "markdown",
   "id": "9a6d3405-cf5f-4120-ab37-f803bf53489b",
   "metadata": {},
   "source": [
    "> Read the data in `gapminder_gdp_americas.csv`\n",
    "> (which should be in the same directory as `gapminder_gdp_oceania.csv`)\n",
    "> into a variable called `americas`\n",
    "> and display its summary statistics.\n",
    ">\n"
   ]
  },
  {
   "cell_type": "markdown",
   "id": "c6cbd6cc-9ca9-4173-8953-aa0b6e7efee6",
   "metadata": {
    "jp-MarkdownHeadingCollapsed": true,
    "tags": []
   },
   "source": [
    "### Solution"
   ]
  },
  {
   "cell_type": "markdown",
   "id": "2cd413f7-b9a0-4b0e-af04-f6289029f561",
   "metadata": {},
   "source": [
    "> > To read in a CSV, we use `pd.read_csv` and pass the filename `'data/gapminder_gdp_americas.csv'` to it.\n",
    "> > We also once again pass the column name `'country'` to the parameter `index_col` in order to index by country.\n",
    "> > The summary statistics can be displayed with the `DataFrame.describe()` method.\n"
   ]
  },
  {
   "cell_type": "code",
   "execution_count": null,
   "id": "a6ae3705-950d-4f3b-a73d-94a67fccda83",
   "metadata": {},
   "outputs": [],
   "source": [
    "americas = pd.read_csv('data/gapminder_gdp_americas.csv', index_col='country')\n",
    "americas.describe()"
   ]
  },
  {
   "cell_type": "markdown",
   "id": "19264be0-d513-4feb-84bf-478c1aeecefa",
   "metadata": {},
   "source": [
    "---\n",
    "### Inspecting Data"
   ]
  },
  {
   "cell_type": "markdown",
   "id": "e4d5670c-d03d-478a-b703-70005123c45e",
   "metadata": {},
   "source": [
    "> After reading the data for the Americas,\n",
    "> use `help(americas.head)` and `help(americas.tail)`\n",
    "> to find out what `DataFrame.head` and `DataFrame.tail` do.\n",
    ">\n",
    "> 1.  What method call will display the first three rows of this data?\n",
    "> 2.  What method call will display the last three columns of this data?\n",
    ">     (Hint: you may need to change your view of the data.)\n",
    ">\n"
   ]
  },
  {
   "cell_type": "markdown",
   "id": "cbdf4460-0193-453b-afad-cd3cdf313f35",
   "metadata": {
    "jp-MarkdownHeadingCollapsed": true,
    "tags": []
   },
   "source": [
    "### Solution"
   ]
  },
  {
   "cell_type": "markdown",
   "id": "01b22e73-cb89-4a19-9ab6-a99905cb9fe5",
   "metadata": {},
   "source": [
    "> > 1. We can check out the first five rows of `americas` by executing `americas.head()`\n",
    "> >    (allowing us to view the head of the DataFrame). We can specify the number of rows we wish\n",
    "> >    to see by specifying the parameter `n` in our call\n",
    "> >    to `americas.head()`. To view the first three rows, execute:\n",
    "> >\n"
   ]
  },
  {
   "cell_type": "code",
   "execution_count": null,
   "id": "29be795e-3a98-42cd-bdbd-1107c4d77cbc",
   "metadata": {},
   "outputs": [],
   "source": [
    "americas.head(n=3)"
   ]
  },
  {
   "cell_type": "markdown",
   "id": "ce61fb84-81eb-4ac7-a08b-2bbd01c7202d",
   "metadata": {},
   "source": [
    "> > 2. To check out the last three rows of `americas`, we would use the command,\n",
    "> >    `americas.tail(n=3)`, analogous to `head()` used above. However, here we want to look at\n",
    "> >    the last three columns so we need to change our view and then use `tail()`. To do so, we\n",
    "> >     create a new DataFrame in which rows and columns are switched:\n",
    "> >\n"
   ]
  },
  {
   "cell_type": "code",
   "execution_count": null,
   "id": "95488656-b067-4f2f-a59a-e2af5d529f05",
   "metadata": {},
   "outputs": [],
   "source": [
    "americas_flipped = americas.T"
   ]
  },
  {
   "cell_type": "markdown",
   "id": "37fede35-9f57-4f6c-8bef-95af89ddb37a",
   "metadata": {},
   "source": [
    "> >    We can then view the last three columns of `americas` by viewing the last three rows\n",
    "> >    of `americas_flipped`:\n"
   ]
  },
  {
   "cell_type": "code",
   "execution_count": null,
   "id": "f3319caf-c785-4767-b053-04a5ad79b962",
   "metadata": {},
   "outputs": [],
   "source": [
    "americas_flipped.tail(n=3)"
   ]
  },
  {
   "cell_type": "markdown",
   "id": "a902c7eb-835f-4ac6-9a89-51405072da71",
   "metadata": {},
   "source": [
    "> >    This shows the data that we want, but we may prefer to display three columns instead of three rows,\n",
    "> >    so we can flip it back:\n"
   ]
  },
  {
   "cell_type": "code",
   "execution_count": null,
   "id": "b47f319d-2529-48be-977c-f483ea2510af",
   "metadata": {},
   "outputs": [],
   "source": [
    "americas_flipped.tail(n=3).T "
   ]
  },
  {
   "cell_type": "markdown",
   "id": "75f96d5e-1df2-4e24-b670-d650f309acee",
   "metadata": {},
   "source": [
    "> >    __Note:__ we could have done the above in a single line of code by 'chaining' the commands:\n"
   ]
  },
  {
   "cell_type": "code",
   "execution_count": null,
   "id": "87d29f0e-5eff-4d1f-9cd0-d48821c122cf",
   "metadata": {},
   "outputs": [],
   "source": [
    "americas.T.tail(n=3).T"
   ]
  },
  {
   "cell_type": "markdown",
   "id": "e5a1f191-034c-4d34-882d-8daf1f11b3c2",
   "metadata": {},
   "source": [
    "---\n",
    "### Reading Files in Other Directories"
   ]
  },
  {
   "cell_type": "markdown",
   "id": "f0781b58-8f1c-48fb-8745-3f44b059fd06",
   "metadata": {},
   "source": [
    "> The data for your current project is stored in a file called `microbes.csv`,\n",
    "> which is located in a folder called `field_data`.\n",
    "> You are doing analysis in a notebook called `analysis.ipynb`\n",
    "> in a sibling folder called `thesis`:\n",
    ">\n"
   ]
  },
  {
   "cell_type": "markdown",
   "id": "ffc4ef7e-dbd7-48d9-8847-321b4c810a2f",
   "metadata": {},
   "source": [
    "> ~~~ python\n",
    "> your_home_directory\n",
    "> +-- field_data/\n",
    "> |   +-- microbes.csv\n",
    "> +-- thesis/\n",
    ">     +-- analysis.ipynb\n",
    "> ~~~"
   ]
  },
  {
   "cell_type": "markdown",
   "id": "cd1b7b52-f7f9-4d53-83d7-f0c0388e6f67",
   "metadata": {},
   "source": [
    "> What value(s) should you pass to `read_csv` to read `microbes.csv` in `analysis.ipynb`?\n",
    "> \n"
   ]
  },
  {
   "cell_type": "markdown",
   "id": "ec803397-e8fb-45a3-ab11-15393ef97ae6",
   "metadata": {
    "jp-MarkdownHeadingCollapsed": true,
    "tags": []
   },
   "source": [
    "### Solution"
   ]
  },
  {
   "cell_type": "markdown",
   "id": "3f07dc26-b265-4d29-bece-c3aaf9e2287b",
   "metadata": {},
   "source": [
    "> > We need to specify the path to the file of interest in the call to `pd.read_csv`. We first need to 'jump' out of\n",
    "> > the folder `thesis` using '../' and then into the folder `field_data` using 'field_data/'. Then we can specify the filename `microbes.csv.\n",
    "> > The result is as follows:\n"
   ]
  },
  {
   "cell_type": "markdown",
   "id": "6a57755f-eab9-4538-8f63-bb0d349d3c08",
   "metadata": {},
   "source": [
    "> > ~~~ python\n",
    "> > data_microbes = pd.read_csv('../field_data/microbes.csv')\n",
    "> > ~~~\n"
   ]
  },
  {
   "cell_type": "markdown",
   "id": "aaed8f4a-c51c-4c2e-86d2-89381b7b7134",
   "metadata": {},
   "source": [
    "---\n",
    "### Writing Data"
   ]
  },
  {
   "cell_type": "markdown",
   "id": "6c8e49b8-e863-4c5d-976e-d92e9a23a482",
   "metadata": {},
   "source": [
    "> As well as the `read_csv` function for reading data from a file,\n",
    "> Pandas provides a `to_csv` function to write dataframes to files.\n",
    "> Applying what you've learned about reading from files,\n",
    "> write one of your dataframes to a file called `processed.csv`.\n",
    "> You can use `help` to get information on how to use `to_csv`.\n"
   ]
  },
  {
   "cell_type": "markdown",
   "id": "eb769a1b-bb89-4281-b4c2-5c9811e00c98",
   "metadata": {
    "jp-MarkdownHeadingCollapsed": true,
    "tags": []
   },
   "source": [
    "### Solution"
   ]
  },
  {
   "cell_type": "markdown",
   "id": "f55c58f4-558d-451c-bbcc-65fcb2cbfb37",
   "metadata": {},
   "source": [
    "> > In order to write the DataFrame `americas` to a file called `processed.csv`, execute the following command:\n"
   ]
  },
  {
   "cell_type": "code",
   "execution_count": null,
   "id": "1ba88a82-3b76-4f96-bee8-33672a87ba16",
   "metadata": {},
   "outputs": [],
   "source": [
    "americas.to_csv('processed.csv')"
   ]
  },
  {
   "cell_type": "markdown",
   "id": "d713d33d-90a2-48af-8694-c42819755347",
   "metadata": {},
   "source": [
    "> > For help on `to_csv`, you could execute, for example:\n"
   ]
  },
  {
   "cell_type": "code",
   "execution_count": null,
   "id": "8fe3f8bb-e5c0-4ff0-b935-6333b7cab318",
   "metadata": {},
   "outputs": [],
   "source": [
    "help(americas.to_csv)"
   ]
  },
  {
   "cell_type": "markdown",
   "id": "03114eb5-5586-41b2-9771-a1c8e4de1e62",
   "metadata": {},
   "source": [
    "> > Note that `help(to_csv)` throws an error! This is a subtlety and is due to the fact that `to_csv` is NOT a function in \n",
    "> > and of itself and the actual call is `americas.to_csv`. \n",
    "> \n"
   ]
  },
  {
   "cell_type": "markdown",
   "id": "19f73db3-279f-4b7f-9f81-4f8d10ba46be",
   "metadata": {},
   "source": [
    "---\n",
    "## Keypoints:\n",
    "- \"Use the Pandas library to get basic statistics out of tabular data.\"\n",
    "- \"Use `index_col` to specify that a column's values should be used as row headings.\"\n",
    "- \"Use `DataFrame.info` to find out more about a dataframe.\"\n",
    "- \"The `DataFrame.columns` variable stores information about the dataframe's columns.\"\n",
    "- \"Use `DataFrame.T` to transpose a dataframe.\"\n",
    "- \"Use `DataFrame.describe` to get summary statistics about data.\"\n",
    "---"
   ]
  },
  {
   "cell_type": "markdown",
   "id": "e30f3237-b942-49d2-a2ff-1e89005ea212",
   "metadata": {},
   "source": [
    "*This course material was created from the [Plotting and Programming in Python](http://swcarpentry.github.io/python-novice-gapminder/) curriculum developed by [The Software Carpentry Foundation](https://software-carpentry.org/) of [The Carpentries](https://carpentries.org/) licensed under [CC-BY 4.0](https://creativecommons.org/licenses/by/4.0/)*"
   ]
  }
 ],
 "metadata": {
  "kernelspec": {
   "display_name": "Python 3 (ipykernel)",
   "language": "python",
   "name": "python3"
  },
  "language_info": {
   "codemirror_mode": {
    "name": "ipython",
    "version": 3
   },
   "file_extension": ".py",
   "mimetype": "text/x-python",
   "name": "python",
   "nbconvert_exporter": "python",
   "pygments_lexer": "ipython3",
   "version": "3.9.12"
  }
 },
 "nbformat": 4,
 "nbformat_minor": 5
}
