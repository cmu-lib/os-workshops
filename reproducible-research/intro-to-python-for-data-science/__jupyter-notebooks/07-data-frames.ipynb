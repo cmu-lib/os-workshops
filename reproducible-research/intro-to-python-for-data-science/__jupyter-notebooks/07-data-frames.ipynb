{
 "cells": [
  {
   "cell_type": "markdown",
   "id": "ec3832ff-2589-4115-a668-93a2706fa3c6",
   "metadata": {},
   "source": [
    "# Pandas DataFrames"
   ]
  },
  {
   "cell_type": "markdown",
   "id": "9d05cb02-eaf5-4bbb-96f1-44f4dc9c5d04",
   "metadata": {},
   "source": [
    "---\n",
    "## Overview\n",
    "\n",
    "Teaching: 15 minutes\n",
    "\n",
    "Exercises: 15 minutes\n",
    "\n",
    "### Questions:\n",
    "- \"How can I do statistical analysis of tabular data?\"\n",
    "\n",
    "### Objectives:\n",
    "- \"Select individual values from a Pandas dataframe.\"\n",
    "- \"Select entire rows or entire columns from a dataframe.\"\n",
    "- \"Select a subset of both rows and columns from a dataframe in a single operation.\"\n",
    "- \"Select a subset of a dataframe by a single Boolean criterion.\"\n",
    "---"
   ]
  },
  {
   "cell_type": "markdown",
   "id": "deb040fe-f07c-42c9-901a-82390a1ca682",
   "metadata": {},
   "source": [
    "## Note about Pandas DataFrames/Series\n",
    "\n"
   ]
  },
  {
   "cell_type": "markdown",
   "id": "6d4bb54b-6a86-48b4-849e-d7e082f7806a",
   "metadata": {},
   "source": [
    "A [DataFrame][pandas-dataframe] is a collection of [Series][pandas-series];\n",
    "The DataFrame is the way Pandas represents a table, and Series is the data-structure\n",
    "Pandas use to represent a column.\n",
    "\n",
    "Pandas is built on top of the [Numpy][numpy] library, which in practice means that\n",
    "most of the methods defined for Numpy Arrays apply to Pandas Series/DataFrames.\n",
    "\n",
    "What makes Pandas so attractive is the powerful interface to access individual records\n",
    "of the table, proper handling of missing values, and relational-databases operations\n",
    "between DataFrames.\n",
    "\n",
    "[pandas-dataframe]: https://pandas.pydata.org/pandas-docs/stable/generated/pandas.DataFrame.html\n",
    "[pandas-series]: https://pandas.pydata.org/pandas-docs/stable/generated/pandas.Series.html\n",
    "[numpy]: http://www.numpy.org/"
   ]
  },
  {
   "cell_type": "markdown",
   "id": "44b2454c-d208-48be-8934-70e9ff5b6784",
   "metadata": {},
   "source": [
    "## Selecting values\n",
    "\n"
   ]
  },
  {
   "cell_type": "markdown",
   "id": "832b20cc-67e8-4ae5-ac02-3f148d21079b",
   "metadata": {},
   "source": [
    "To access a value at the position `[i,j]` of a DataFrame, we have two options, depending on\n",
    "what is the meaning of `i` in use.\n",
    "Remember that a DataFrame provides an *index* as a way to identify the rows of the table;\n",
    "a row, then, has a *position* inside the table as well as a *label*, which\n",
    "uniquely identifies its *entry* in the DataFrame.\n",
    "\n"
   ]
  },
  {
   "cell_type": "markdown",
   "id": "6332564b-96dd-4435-b2af-e7648c45359e",
   "metadata": {},
   "source": [
    "## Use `DataFrame.iloc[..., ...]` to select values by their (entry) position\n",
    "\n"
   ]
  },
  {
   "cell_type": "markdown",
   "id": "5087f225-c544-4bed-81f9-0ccab8dbaf04",
   "metadata": {},
   "source": [
    "*   Can specify location by numerical index analogously to 2D version of character selection in strings.\n",
    "\n"
   ]
  },
  {
   "cell_type": "code",
   "execution_count": null,
   "id": "0d35e7b2-c421-44bb-9173-c13d5f588d66",
   "metadata": {},
   "outputs": [],
   "source": [
    "import pandas as pd\n",
    "data = pd.read_csv('data/gapminder_gdp_europe.csv', index_col='country')\n",
    "print(data.iloc[0, 0])"
   ]
  },
  {
   "cell_type": "markdown",
   "id": "b04737a1-8fef-4707-9f49-6fc6b2732bca",
   "metadata": {
    "tags": []
   },
   "source": [
    "## Use `DataFrame.loc[..., ...]` to select values by their (entry) label.\n",
    "\n"
   ]
  },
  {
   "cell_type": "markdown",
   "id": "0ac98ca9-5aa5-4889-97d5-43c43dbac86e",
   "metadata": {},
   "source": [
    "*   Can specify location by row name analogously to 2D version of dictionary keys.\n",
    "\n"
   ]
  },
  {
   "cell_type": "code",
   "execution_count": null,
   "id": "7e07a485-a3d2-4f09-b4b4-6ac10bddec27",
   "metadata": {},
   "outputs": [],
   "source": [
    "print(data.loc[\"Albania\", \"gdpPercap_1952\"])"
   ]
  },
  {
   "cell_type": "markdown",
   "id": "7b03b976-7ab8-4f13-bc69-636a81bc5128",
   "metadata": {},
   "source": [
    "## Use `:` on its own to mean all columns or all rows.\n",
    "\n"
   ]
  },
  {
   "cell_type": "markdown",
   "id": "056232bb-ea3d-4318-b2a6-eb7fe21dd46e",
   "metadata": {},
   "source": [
    "*   Just like Python's usual slicing notation.\n",
    "\n"
   ]
  },
  {
   "cell_type": "code",
   "execution_count": null,
   "id": "3a1dd49d-98a5-41cd-b8a1-b5355afeff31",
   "metadata": {},
   "outputs": [],
   "source": [
    "print(data.loc[\"Albania\", :])"
   ]
  },
  {
   "cell_type": "markdown",
   "id": "b80d1485-e368-4fb4-9b30-5c24de3459f4",
   "metadata": {},
   "source": [
    "*   Would get the same result printing `data.loc[\"Albania\"]` (without a second index).\n",
    "\n"
   ]
  },
  {
   "cell_type": "code",
   "execution_count": null,
   "id": "b6e73fee-bad6-4ae0-ac26-b3a23a91ba29",
   "metadata": {},
   "outputs": [],
   "source": [
    "print(data.loc[:, \"gdpPercap_1952\"])"
   ]
  },
  {
   "cell_type": "markdown",
   "id": "d1eb6104-22a4-4582-8645-c69f20fc5a4e",
   "metadata": {},
   "source": [
    "*   Would get the same result printing `data[\"gdpPercap_1952\"]`\n",
    "*   Also get the same result printing `data.gdpPercap_1952` (not recommended, because easily confused with `.` notation for methods)\n",
    "\n"
   ]
  },
  {
   "cell_type": "markdown",
   "id": "9607cf7e-9132-4487-a380-d5de5b247302",
   "metadata": {},
   "source": [
    "## Select multiple columns or rows using `DataFrame.loc` and a named slice.\n",
    "\n"
   ]
  },
  {
   "cell_type": "code",
   "execution_count": null,
   "id": "dfe7ae7b-d92f-4596-9fd0-c06a450b6e45",
   "metadata": {},
   "outputs": [],
   "source": [
    "print(data.loc['Italy':'Poland', 'gdpPercap_1962':'gdpPercap_1972'])"
   ]
  },
  {
   "cell_type": "markdown",
   "id": "497ceff4-00a9-45b8-9004-ae0481dd4840",
   "metadata": {},
   "source": [
    "In the above code, we discover that **slicing using `loc` is inclusive at both\n",
    "ends**, which differs from **slicing using `iloc`**, where slicing indicates\n",
    "everything up to but not including the final index. \n",
    "\n",
    "\n"
   ]
  },
  {
   "cell_type": "markdown",
   "id": "0e956e96-144a-47fa-b63f-61e590c502c3",
   "metadata": {},
   "source": [
    "## Result of slicing can be used in further operations.\n",
    "\n"
   ]
  },
  {
   "cell_type": "markdown",
   "id": "6523e0bf-d326-49fd-9988-28460bbe5f70",
   "metadata": {},
   "source": [
    "*   Usually don't just print a slice.\n",
    "*   All the statistical operators that work on entire dataframes\n",
    "    work the same way on slices.\n",
    "*   E.g., calculate max of a slice.\n",
    "\n"
   ]
  },
  {
   "cell_type": "code",
   "execution_count": null,
   "id": "4b0a3e10-4ecf-4ab4-9629-fef9a506ddc2",
   "metadata": {},
   "outputs": [],
   "source": [
    "print(data.loc['Italy':'Poland', 'gdpPercap_1962':'gdpPercap_1972'].max())"
   ]
  },
  {
   "cell_type": "code",
   "execution_count": null,
   "id": "dc1d5540-3f8b-4194-91c8-1e4ea1bad31d",
   "metadata": {},
   "outputs": [],
   "source": [
    "print(data.loc['Italy':'Poland', 'gdpPercap_1962':'gdpPercap_1972'].min())"
   ]
  },
  {
   "cell_type": "markdown",
   "id": "3e35ece5-b3fd-455a-b0fe-3b0a3fd44d32",
   "metadata": {},
   "source": [
    "## Use comparisons to select data based on value.\n",
    "\n"
   ]
  },
  {
   "cell_type": "markdown",
   "id": "eb82f0df-a31d-4696-bef4-766d76983bb8",
   "metadata": {},
   "source": [
    "*   Comparison is applied element by element.\n",
    "*   Returns a similarly-shaped dataframe of `True` and `False`.\n",
    "\n"
   ]
  },
  {
   "cell_type": "code",
   "execution_count": null,
   "id": "c2fcfda9-8a86-454b-8a37-4cc967b1e49a",
   "metadata": {},
   "outputs": [],
   "source": [
    "# Use a subset of data to keep output readable.\n",
    "subset = data.loc['Italy':'Poland', 'gdpPercap_1962':'gdpPercap_1972']\n",
    "print('Subset of data:\\n', subset)\n",
    "\n",
    "# Which values were greater than 10000 ?\n",
    "print('\\nWhere are values large?\\n', subset > 10000)"
   ]
  },
  {
   "cell_type": "markdown",
   "id": "bf73f851-6ae3-4523-87f8-f7428cb79142",
   "metadata": {},
   "source": [
    "## Select values or NaN using a Boolean mask.\n",
    "\n"
   ]
  },
  {
   "cell_type": "markdown",
   "id": "e44fc251-6bbd-4db5-b831-a3cf9e2fa724",
   "metadata": {},
   "source": [
    "*   A frame full of Booleans is sometimes called a *mask* because of how it can be used.\n",
    "\n"
   ]
  },
  {
   "cell_type": "code",
   "execution_count": null,
   "id": "65b7ea4a-d7c0-486e-986f-9a034005fcbe",
   "metadata": {},
   "outputs": [],
   "source": [
    "mask = subset > 10000\n",
    "print(subset[mask])"
   ]
  },
  {
   "cell_type": "markdown",
   "id": "7fd28ec0-fe2e-4c95-bd4e-4801402a1be6",
   "metadata": {},
   "source": [
    "*   Get the value where the mask is true, and NaN (Not a Number) where it is false.\n",
    "*   Useful because NaNs are ignored by operations like max, min, average, etc.\n",
    "\n"
   ]
  },
  {
   "cell_type": "code",
   "execution_count": null,
   "id": "a175aa0a-2b1f-42fb-9b71-9044d5bbab37",
   "metadata": {},
   "outputs": [],
   "source": [
    "print(subset[subset > 10000].describe())"
   ]
  },
  {
   "cell_type": "markdown",
   "id": "2c168a05-cdee-49cd-99da-3bc1a2c2eaa5",
   "metadata": {},
   "source": [
    "## Group By: split-apply-combine\n",
    "\n"
   ]
  },
  {
   "cell_type": "markdown",
   "id": "560ba070-0d98-47bb-93b5-6b916cc0a629",
   "metadata": {},
   "source": [
    "Pandas vectorizing methods and grouping operations are features that provide users \n",
    "much flexibility to analyse their data.\n",
    "\n",
    "For instance, let's say we want to have a clearer view on how the European countries \n",
    "split themselves according to their GDP.\n",
    "\n"
   ]
  },
  {
   "cell_type": "markdown",
   "id": "27e9a8ad-4939-4145-9fd6-075e1664d6fd",
   "metadata": {},
   "source": [
    "1.  We may have a glance by splitting the countries in two groups during the years surveyed,\n",
    "    those who presented a GDP *higher* than the European average and those with a *lower* GDP.\n",
    "2.  We then estimate a *wealthy score* based on the historical (from 1962 to 2007) values,\n",
    "    where we account how many times a country has participated in the groups of *lower* or *higher* GDP\n",
    "\n"
   ]
  },
  {
   "cell_type": "code",
   "execution_count": null,
   "id": "d6b71a8f-db0c-4463-ba7d-d4c71eae9a96",
   "metadata": {},
   "outputs": [],
   "source": [
    "mask_higher = data > data.mean()\n",
    "wealth_score = mask_higher.aggregate('sum', axis=1) / len(data.columns)\n",
    "wealth_score"
   ]
  },
  {
   "cell_type": "markdown",
   "id": "3a87f6be-e158-42a5-b424-894f344efa8b",
   "metadata": {},
   "source": [
    "Finally, for each group in the `wealth_score` table, we sum their (financial) contribution\n",
    "across the years surveyed using chained methods:\n",
    "\n"
   ]
  },
  {
   "cell_type": "code",
   "execution_count": null,
   "id": "001e49a8-2292-4e95-841d-6b9a097ffece",
   "metadata": {},
   "outputs": [],
   "source": [
    "data.groupby(wealth_score).sum()"
   ]
  },
  {
   "cell_type": "markdown",
   "id": "3e037d03-66c4-44c3-a745-2b879f7a467c",
   "metadata": {},
   "source": [
    "---\n",
    "### Selection of Individual Values"
   ]
  },
  {
   "cell_type": "markdown",
   "id": "103f9d1f-64ac-47ce-9d93-3eada74f8cd3",
   "metadata": {},
   "source": [
    "> Assume Pandas has been imported into your notebook\n",
    "> and the Gapminder GDP data for Europe has been loaded:\n",
    ">\n"
   ]
  },
  {
   "cell_type": "code",
   "execution_count": null,
   "id": "036938e9-238a-4744-9d70-d0acc169de79",
   "metadata": {},
   "outputs": [],
   "source": [
    "import pandas as pd\n",
    "\n",
    "df = pd.read_csv('data/gapminder_gdp_europe.csv', index_col='country')"
   ]
  },
  {
   "cell_type": "markdown",
   "id": "84db43c2-a8f6-42ba-a8f0-06ada9b6969c",
   "metadata": {},
   "source": [
    "> Write an expression to find the Per Capita GDP of Serbia in 2007.\n"
   ]
  },
  {
   "cell_type": "markdown",
   "id": "37d7c56e-34ca-47f7-a486-83f46b23cd60",
   "metadata": {
    "jp-MarkdownHeadingCollapsed": true,
    "tags": []
   },
   "source": [
    "### Solution"
   ]
  },
  {
   "cell_type": "markdown",
   "id": "8c0faa0d-6f8a-4e31-adb9-875526a85457",
   "metadata": {},
   "source": [
    "> > The selection can be done by using the labels for both the row (\"Serbia\") and the column (\"gdpPercap_2007\"):\n"
   ]
  },
  {
   "cell_type": "code",
   "execution_count": null,
   "id": "bbf31d2b-0502-4107-acfd-08190cfdeeb2",
   "metadata": {},
   "outputs": [],
   "source": [
    "print(df.loc['Serbia', 'gdpPercap_2007'])"
   ]
  },
  {
   "cell_type": "markdown",
   "id": "b5eef4d4-42b6-4850-8ef3-3174ed323954",
   "metadata": {},
   "source": [
    "---\n",
    "### Extent of Slicing"
   ]
  },
  {
   "cell_type": "markdown",
   "id": "afb1a9e7-0ab9-408a-9f4e-71e094af3022",
   "metadata": {},
   "source": [
    "> 1.  Do the two statements below produce the same output?\n",
    "> 2.  Based on this,\n",
    ">     what rule governs what is included (or not) in numerical slices and named slices in Pandas?\n",
    "> \n"
   ]
  },
  {
   "cell_type": "markdown",
   "id": "fcec0960-dd61-456e-81c4-2f88b00f6dd0",
   "metadata": {},
   "source": [
    "> ~~~ python\n",
    "> print(df.iloc[0:2, 0:2])\n",
    "> print(df.loc['Albania':'Belgium', 'gdpPercap_1952':'gdpPercap_1962'])\n",
    "> ~~~\n",
    ">"
   ]
  },
  {
   "cell_type": "markdown",
   "id": "11d3ff46-2f7e-4675-a02c-f9ac8a3ddf78",
   "metadata": {
    "jp-MarkdownHeadingCollapsed": true,
    "tags": []
   },
   "source": [
    "### Solution"
   ]
  },
  {
   "cell_type": "markdown",
   "id": "3188c1eb-5e32-44ec-b28e-a56c0bcda609",
   "metadata": {},
   "source": [
    "> > No, they do not produce the same output! The output of the first statement is:\n"
   ]
  },
  {
   "cell_type": "code",
   "execution_count": null,
   "id": "e03a1fe7-eb2c-409f-ab49-dd445d9b0c9b",
   "metadata": {},
   "outputs": [],
   "source": [
    "print(df.iloc[0:2, 0:2])"
   ]
  },
  {
   "cell_type": "markdown",
   "id": "d0e087c2-039c-497a-b198-17f14e001352",
   "metadata": {},
   "source": [
    "> > The second statement gives:\n"
   ]
  },
  {
   "cell_type": "code",
   "execution_count": null,
   "id": "2688930f-b5d0-48ae-999e-afbfa9105a9c",
   "metadata": {},
   "outputs": [],
   "source": [
    "print(df.loc['Albania':'Belgium', 'gdpPercap_1952':'gdpPercap_1962'])"
   ]
  },
  {
   "cell_type": "markdown",
   "id": "e3ab42a7-aab6-4d04-91b4-b25b0e668649",
   "metadata": {},
   "source": [
    "> > Clearly, the second statement produces an additional column and an additional row compared to the first statement.  \n",
    "> > What conclusion can we draw? We see that a numerical slice, 0:2, *omits* the final index (i.e. index 2)\n",
    "> > in the range provided,\n",
    "> > while a named slice, 'gdpPercap_1952':'gdpPercap_1962', *includes* the final element.\n"
   ]
  },
  {
   "cell_type": "markdown",
   "id": "85e4892c-ffd5-495a-9b0c-e135b27e31dd",
   "metadata": {},
   "source": [
    "---\n",
    "### Reconstructing Data"
   ]
  },
  {
   "cell_type": "markdown",
   "id": "6a9a66fa-6359-4112-b64f-eec9af700d45",
   "metadata": {},
   "source": [
    "> Explain what each line in the following short program does:\n",
    "> what is in `first`, `second`, etc.?\n",
    ">\n"
   ]
  },
  {
   "cell_type": "markdown",
   "id": "c8d4bb98-d5ea-491d-8d2d-7c2a9b5b8988",
   "metadata": {},
   "source": [
    "> ~~~ python\n",
    "> first = pd.read_csv('data/gapminder_all.csv', index_col='country')\n",
    "> second = first[first['continent'] == 'Americas']\n",
    "> third = second.drop('Puerto Rico')\n",
    "> fourth = third.drop('continent', axis = 1)\n",
    "> fourth.to_csv('result.csv')\n",
    "> ~~~\n",
    "> "
   ]
  },
  {
   "cell_type": "markdown",
   "id": "39b2c4b4-aee3-4d59-9f5f-91309f0f6278",
   "metadata": {
    "jp-MarkdownHeadingCollapsed": true,
    "tags": []
   },
   "source": [
    "### Solution"
   ]
  },
  {
   "cell_type": "markdown",
   "id": "a91bd192-2dfa-4857-b3e4-492781783684",
   "metadata": {},
   "source": [
    "> > Let's go through this piece of code line by line.\n"
   ]
  },
  {
   "cell_type": "code",
   "execution_count": null,
   "id": "38d5501d-9cf0-454b-9a9a-de8d457e090c",
   "metadata": {},
   "outputs": [],
   "source": [
    "first = pd.read_csv('data/gapminder_all.csv', index_col='country')"
   ]
  },
  {
   "cell_type": "markdown",
   "id": "ff721426-f10a-4cf6-9257-9f67bb3188be",
   "metadata": {},
   "source": [
    "> > This line loads the dataset containing the GDP data from all countries into a dataframe called \n",
    "> > `first`. The `index_col='country'` parameter selects which column to use as the \n",
    "> > row labels in the dataframe.  \n"
   ]
  },
  {
   "cell_type": "code",
   "execution_count": null,
   "id": "d8cf356c-2475-4872-854a-60f19df62f91",
   "metadata": {},
   "outputs": [],
   "source": [
    "second = first[first['continent'] == 'Americas']"
   ]
  },
  {
   "cell_type": "markdown",
   "id": "b5e56700-25c3-4f94-9905-cac9a93a8bf8",
   "metadata": {},
   "source": [
    "> > This line makes a selection: only those rows of `first` for which the 'continent' column matches \n",
    "> > 'Americas' are extracted. Notice how the Boolean expression inside the brackets, \n",
    "> > `first['continent'] == 'Americas'`, is used to select only those rows where the expression is true. \n",
    "> > Try printing this expression! Can you print also its individual True/False elements? \n",
    "> > (hint: first assign the expression to a variable)\n"
   ]
  },
  {
   "cell_type": "code",
   "execution_count": null,
   "id": "dae402ba-841e-4b86-b5fd-435654c12a4e",
   "metadata": {},
   "outputs": [],
   "source": [
    "third = second.drop('Puerto Rico')"
   ]
  },
  {
   "cell_type": "markdown",
   "id": "9e06d1bb-0cb6-4da1-a694-a7a3ad0096f2",
   "metadata": {},
   "source": [
    "> > As the syntax suggests, this line drops the row from `second` where the label is 'Puerto Rico'. The \n",
    "> > resulting dataframe `third` has one row less than the original dataframe `second`.\n"
   ]
  },
  {
   "cell_type": "code",
   "execution_count": null,
   "id": "1c036633-c73f-4dd8-8299-f52d8d8d4361",
   "metadata": {},
   "outputs": [],
   "source": [
    "fourth = third.drop('continent', axis = 1)"
   ]
  },
  {
   "cell_type": "markdown",
   "id": "a02a68af-a76f-429d-b8f3-28ed3e627326",
   "metadata": {},
   "source": [
    "> > Again we apply the drop function, but in this case we are dropping not a row but a whole column. \n",
    "> > To accomplish this, we need to specify also the `axis` parameter (we want to drop the second column \n",
    "> > which has index 1).\n"
   ]
  },
  {
   "cell_type": "code",
   "execution_count": null,
   "id": "99af65bc-c25b-470b-a337-5d78f70ec599",
   "metadata": {},
   "outputs": [],
   "source": [
    "fourth.to_csv('result.csv')"
   ]
  },
  {
   "cell_type": "markdown",
   "id": "20c4def7-5f5d-460c-9779-1290ca7e0019",
   "metadata": {},
   "source": [
    "> > The final step is to write the data that we have been working on to a csv file. Pandas makes this easy \n",
    "> > with the `to_csv()` function. The only required argument to the function is the filename. Note that the \n",
    "> > file will be written in the directory from which you started the Jupyter or Python session.\n"
   ]
  },
  {
   "cell_type": "markdown",
   "id": "8b3eea6e-1c25-471e-8fd5-6f1484557b53",
   "metadata": {},
   "source": [
    "---\n",
    "### Selecting Indices"
   ]
  },
  {
   "cell_type": "markdown",
   "id": "d99e29a4-3a3e-4c2c-80ef-77c569864a37",
   "metadata": {},
   "source": [
    "> Explain in simple terms what `idxmin` and `idxmax` do in the short program below.\n",
    "> When would you use these methods?\n",
    ">\n"
   ]
  },
  {
   "cell_type": "markdown",
   "id": "d43ee1aa-0085-450b-9e71-902ee7310fd3",
   "metadata": {},
   "source": [
    "> ~~~ python\n",
    "> data = pd.read_csv('data/gapminder_gdp_europe.csv', index_col='country')\n",
    "> print(data.idxmin())\n",
    "> print(data.idxmax())\n",
    "> ~~~"
   ]
  },
  {
   "cell_type": "markdown",
   "id": "ba2a8b56-eafb-4faa-887f-d7fbbcb99675",
   "metadata": {
    "jp-MarkdownHeadingCollapsed": true,
    "tags": []
   },
   "source": [
    "### Solution"
   ]
  },
  {
   "cell_type": "code",
   "execution_count": null,
   "id": "13c106ba-22b1-4cb2-b36d-4f1ea59993a0",
   "metadata": {},
   "outputs": [],
   "source": [
    "data = pd.read_csv('data/gapminder_gdp_europe.csv', index_col='country')"
   ]
  },
  {
   "cell_type": "code",
   "execution_count": null,
   "id": "d0941abb-60be-4022-bb50-6aab4114f0bd",
   "metadata": {},
   "outputs": [],
   "source": [
    "print(data.idxmin())"
   ]
  },
  {
   "cell_type": "code",
   "execution_count": null,
   "id": "8e24a961-909a-45c4-8c63-68fee8eb1de1",
   "metadata": {},
   "outputs": [],
   "source": [
    "print(data.idxmax())"
   ]
  },
  {
   "cell_type": "markdown",
   "id": "bc0ef883-e2fb-47c2-9474-b81a364bf70a",
   "metadata": {},
   "source": [
    "> > For each column in `data`, `idxmin` will return the index value corresponding to each column's minimum;\n",
    "> > `idxmax` will do accordingly the same for each column's maximum value.\n",
    "> >\n",
    "> > You can use these functions whenever you want to get the row index of the minimum/maximum value and not the actual minimum/maximum value.\n"
   ]
  },
  {
   "cell_type": "markdown",
   "id": "6bbb56be-fa09-43c8-988c-719933cfcb47",
   "metadata": {},
   "source": [
    "---\n",
    "### Practice with Selection"
   ]
  },
  {
   "cell_type": "markdown",
   "id": "6c7ae7e4-d014-4dfa-a775-d96bcc61c356",
   "metadata": {},
   "source": [
    "> Assume Pandas has been imported and the Gapminder GDP data for Europe has been loaded.\n",
    "> Write an expression to select each of the following:\n",
    ">\n",
    "> 1.  GDP per capita for all countries in 1982.\n",
    "> 2.  GDP per capita for Denmark for all years.\n",
    "> 3.  GDP per capita for all countries for years *after* 1985.\n",
    "> 4.  GDP per capita for each country in 2007 as a multiple of \n",
    ">     GDP per capita for that country in 1952.\n",
    ">\n"
   ]
  },
  {
   "cell_type": "markdown",
   "id": "86811d8f-412c-4194-b3e3-f66c0c935452",
   "metadata": {
    "jp-MarkdownHeadingCollapsed": true,
    "tags": []
   },
   "source": [
    "### Solution"
   ]
  },
  {
   "cell_type": "markdown",
   "id": "977f3c38-858d-4b1e-880b-c9ec4bd25c1a",
   "metadata": {},
   "source": [
    "> > 1:\n"
   ]
  },
  {
   "cell_type": "code",
   "execution_count": null,
   "id": "f82a8a0c-78d2-4eb3-be38-c49edb1c23ac",
   "metadata": {},
   "outputs": [],
   "source": [
    "data['gdpPercap_1982']"
   ]
  },
  {
   "cell_type": "markdown",
   "id": "5a49e615-4606-41b6-898f-9e289b62dde8",
   "metadata": {},
   "source": [
    "> >\n",
    "> >\n",
    "> > 2:"
   ]
  },
  {
   "cell_type": "code",
   "execution_count": null,
   "id": "13b3258f-0bb8-4794-9c73-be3cff8c2969",
   "metadata": {},
   "outputs": [],
   "source": [
    "data.loc['Denmark',:]"
   ]
  },
  {
   "cell_type": "markdown",
   "id": "b328810a-2356-4614-9661-9826d410679a",
   "metadata": {},
   "source": [
    "> > 3:\n"
   ]
  },
  {
   "cell_type": "code",
   "execution_count": null,
   "id": "61a08922-ecb7-4683-97db-eeb105f5ed65",
   "metadata": {},
   "outputs": [],
   "source": [
    "data.loc[:,'gdpPercap_1985':]"
   ]
  },
  {
   "cell_type": "markdown",
   "id": "d5bb595a-598f-42f5-ac74-e339a821a186",
   "metadata": {},
   "source": [
    "> > Pandas is smart enough to recognize the number at the end of the column label and does not give you an error, although no column named `gdpPercap_1985` actually exists. This is useful if new columns are added to the CSV file later.\n",
    "> >\n",
    "> >\n"
   ]
  },
  {
   "cell_type": "markdown",
   "id": "57059daa-2eb3-49b6-9e81-3993e4f071d8",
   "metadata": {},
   "source": [
    "> > \n",
    "> >\n",
    "> > 4:\n"
   ]
  },
  {
   "cell_type": "code",
   "execution_count": null,
   "id": "b5dbaa72-416c-484a-b858-83d7b6f60286",
   "metadata": {},
   "outputs": [],
   "source": [
    "data['gdpPercap_2007']/data['gdpPercap_1952']"
   ]
  },
  {
   "cell_type": "markdown",
   "id": "1a24e4a8-3aee-4532-9b1f-908d35d63e0a",
   "metadata": {},
   "source": [
    "---\n",
    "### Many Ways of Access"
   ]
  },
  {
   "cell_type": "markdown",
   "id": "13bb904f-62f6-4830-b926-75487acafe03",
   "metadata": {},
   "source": [
    "> There are at least two ways of accessing a value or slice of a DataFrame: by name or index.\n",
    "> However, there are many others. For example, a single column or row can be accessed either as a `DataFrame`\n",
    "> or a `Series` object.\n",
    ">\n",
    "> Suggest different ways of doing the following operations on a DataFrame:\n",
    "> 1. Access a single column\n",
    "> 2. Access a single row\n",
    "> 3. Access an individual DataFrame element\n",
    "> 4. Access several columns\n",
    "> 5. Access several rows\n",
    "> 6. Access a subset of specific rows and columns\n",
    "> 7. Access a subset of row and column ranges\n",
    ">"
   ]
  },
  {
   "cell_type": "markdown",
   "id": "0e1032c1-0aee-4e5d-9ab6-19548f87a999",
   "metadata": {
    "jp-MarkdownHeadingCollapsed": true,
    "tags": []
   },
   "source": [
    "### Solution\n"
   ]
  },
  {
   "cell_type": "markdown",
   "id": "3dd15a79-bf03-4ba3-98d8-7d6fce959d87",
   "metadata": {},
   "source": [
    "> > 1\\. Access a single column:\n"
   ]
  },
  {
   "cell_type": "markdown",
   "id": "16e0a608-7996-48b1-b211-eb279682d802",
   "metadata": {},
   "source": [
    "> > ~~~ python\n",
    "> > # by name\n",
    "> > data[\"col_name\"]   # as a Series\n",
    "> > data[[\"col_name\"]] # as a DataFrame\n",
    "> >\n",
    "> > # by name using .loc\n",
    "> > data.T.loc[\"col_name\"]  # as a Series\n",
    "> > data.T.loc[[\"col_name\"]].T  # as a DataFrame\n",
    "> >\n",
    "> > # Dot notation (Series)\n",
    "> > data.col_name\n",
    "> >\n",
    "> > # by index (iloc)\n",
    "> > data.iloc[:, col_index]   # as a Series\n",
    "> > data.iloc[:, [col_index]] # as a DataFrame\n",
    "> >\n",
    "> > # using a mask\n",
    "> > data.T[data.T.index == \"col_name\"].T\n",
    "> > ~~~\n",
    "> >"
   ]
  },
  {
   "cell_type": "markdown",
   "id": "1d8785ee-c073-4af5-992e-b0f8c5e8bee2",
   "metadata": {},
   "source": [
    "> > 2\\. Access a single row:"
   ]
  },
  {
   "cell_type": "markdown",
   "id": "7664cd7b-4131-4426-972f-331dabb62ec3",
   "metadata": {},
   "source": [
    "> > ~~~ python\n",
    "> > # by name using .loc\n",
    "> > data.loc[\"row_name\"] # as a Series\n",
    "> > data.loc[[\"row_name\"]] # as a DataFrame\n",
    "> >\n",
    "> > # by name\n",
    "> > data.T[\"row_name\"] # as a Series\n",
    "> > data.T[[\"row_name\"]].T # as a DataFrame\n",
    "> >\n",
    "> > # by index\n",
    "> > data.iloc[row_index]   # as a Series\n",
    "> > data.iloc[[row_index]]   # as a DataFrame\n",
    "> >\n",
    "> > # using mask\n",
    "> > data[data.index == \"row_name\"]\n",
    "> > ~~~\n",
    "> >"
   ]
  },
  {
   "cell_type": "markdown",
   "id": "e4e063df-553b-4513-b79c-e30f4cc9dfa8",
   "metadata": {},
   "source": [
    "> > 3\\. Access an individual DataFrame element:\n"
   ]
  },
  {
   "cell_type": "markdown",
   "id": "c1724bf4-49b2-48eb-b3ef-26718ecf10f9",
   "metadata": {},
   "source": [
    "> > ~~~ python\n",
    "> > # by column/row names\n",
    "> > data[\"column_name\"][\"row_name\"]         # as a Series\n",
    "> >\n",
    "> > data[[\"col_name\"]].loc[\"row_name\"]  # as a Series\n",
    "> > data[[\"col_name\"]].loc[[\"row_name\"]]  # as a DataFrame\n",
    "> >\n",
    "> > data.loc[\"row_name\"][\"col_name\"]  # as a value\n",
    "> > data.loc[[\"row_name\"]][\"col_name\"]  # as a Series\n",
    "> > data.loc[[\"row_name\"]][[\"col_name\"]]  # as a DataFrame\n",
    "> >\n",
    "> > data.loc[\"row_name\", \"col_name\"]  # as a value\n",
    "> > data.loc[[\"row_name\"], \"col_name\"]  # as a Series. Preserves index. Column name is moved to `.name`.\n",
    "> > data.loc[\"row_name\", [\"col_name\"]]  # as a Series. Index is moved to `.name.` Sets index to column name.\n",
    "> > data.loc[[\"row_name\"], [\"col_name\"]]  # as a DataFrame (preserves original index and column name)\n",
    "> >\n",
    "> > # by column/row names: Dot notation\n",
    "> > data.col_name.row_name\n",
    "> >\n",
    "> > # by column/row indices\n",
    "> > data.iloc[row_index, col_index] # as a value\n",
    "> > data.iloc[[row_index], col_index] # as a Series. Preserves index. Column name is moved to `.name`\n",
    "> > data.iloc[row_index, [col_index]] # as a Series. Index is moved to `.name.` Sets index to column name.\n",
    "> > data.iloc[[row_index], [col_index]] # as a DataFrame (preserves original index and column name)\n",
    "> >\n",
    "> > # column name + row index\n",
    "> > data[\"col_name\"][row_index]\n",
    "> > data.col_name[row_index]\n",
    "> > data[\"col_name\"].iloc[row_index]\n",
    "> >\n",
    "> > # column index + row name\n",
    "> > data.iloc[:, [col_index]].loc[\"row_name\"]  # as a Series\n",
    "> > data.iloc[:, [col_index]].loc[[\"row_name\"]]  # as a DataFrame\n",
    "> >\n",
    "> > # using masks\n",
    "> > data[data.index == \"row_name\"].T[data.T.index == \"col_name\"].T\n",
    "> > ~~~\n",
    "> >"
   ]
  },
  {
   "cell_type": "markdown",
   "id": "7d486b40-f532-4dce-b08d-27bfc6108ee5",
   "metadata": {},
   "source": [
    "> > 4\\. Access several columns:\n"
   ]
  },
  {
   "cell_type": "markdown",
   "id": "80e364a3-969b-4003-ab45-0a8a52870a1f",
   "metadata": {},
   "source": [
    "> > ~~~ python\n",
    "> > # by name\n",
    "> > data[[\"col1\", \"col2\", \"col3\"]]\n",
    "> > data.loc[:, [\"col1\", \"col2\", \"col3\"]]\n",
    "> >\n",
    "> > # by index\n",
    "> > data.iloc[:, [col1_index, col2_index, col3_index]]\n",
    "> > ~~~\n",
    "> > "
   ]
  },
  {
   "cell_type": "markdown",
   "id": "039fce2c-310c-437b-9c29-55e817085bb1",
   "metadata": {},
   "source": [
    "> > 5\\. Access several rows\n"
   ]
  },
  {
   "cell_type": "markdown",
   "id": "0ebab5a9-0005-4472-8207-58c3523a716f",
   "metadata": {},
   "source": [
    "> > ~~~ python\n",
    "> > # by name\n",
    "> > data.loc[[\"row1\", \"row2\", \"row3\"]]\n",
    "> >\n",
    "> > # by index\n",
    "> > data.iloc[[row1_index, row2_index, row3_index]]\n",
    "> > ~~~\n",
    "> > "
   ]
  },
  {
   "cell_type": "markdown",
   "id": "33cd676b-b161-4f85-b0fc-ffc6a0c79332",
   "metadata": {},
   "source": [
    "> > 6\\. Access a subset of specific rows and columns\n"
   ]
  },
  {
   "cell_type": "markdown",
   "id": "e2f08bd8-3a3a-4570-adcb-62af95aa8015",
   "metadata": {},
   "source": [
    "> > ~~~ python\n",
    "> > # by names\n",
    "> > data.loc[[\"row1\", \"row2\", \"row3\"], [\"col1\", \"col2\", \"col3\"]]\n",
    "> >\n",
    "> > # by indices\n",
    "> > data.iloc[[row1_index, row2_index, row3_index], [col1_index, col2_index, col3_index]]\n",
    "> >\n",
    "> > # column names + row indices\n",
    "> > data[[\"col1\", \"col2\", \"col3\"]].iloc[[row1_index, row2_index, row3_index]]\n",
    "> >\n",
    "> > # column indices + row names\n",
    "> > data.iloc[:, [col1_index, col2_index, col3_index]].loc[[\"row1\", \"row2\", \"row3\"]]\n",
    "> > ~~~\n",
    "> > "
   ]
  },
  {
   "cell_type": "markdown",
   "id": "aa5e8766-1c31-49f7-a528-859bb7c6f12e",
   "metadata": {},
   "source": [
    "> > 7\\. Access a subset of row and column ranges\n"
   ]
  },
  {
   "cell_type": "markdown",
   "id": "9000da5d-56b5-4856-a2d2-0dcca7265873",
   "metadata": {},
   "source": [
    "> > ~~~ python\n",
    "> > # by name\n",
    "> > data.loc[\"row1\":\"row2\", \"col1\":\"col2\"]\n",
    "> >\n",
    "> > # by index\n",
    "> > data.iloc[row1_index:row2_index, col1_index:col2_index]\n",
    "> >\n",
    "> > # column names + row indices\n",
    "> > data.loc[:, \"col1_name\":\"col2_name\"].iloc[row1_index:row2_index]\n",
    "> >\n",
    "> > # column indices + row names\n",
    "> > data.iloc[:, col1_index:col2_index].loc[\"row1\":\"row2\"]\n",
    "> > ~~~\n",
    "> >"
   ]
  },
  {
   "cell_type": "markdown",
   "id": "471f1f7f-6ea1-4125-a6f8-2716758438a6",
   "metadata": {},
   "source": [
    "---\n",
    "### Exploring available methods using the `dir()` function"
   ]
  },
  {
   "cell_type": "markdown",
   "id": "c6453210-70e0-4c62-90f3-ae7511abd86b",
   "metadata": {},
   "source": [
    "> Python includes a `dir()` function that can be used to display all of the available methods (functions) that are built into a data object.  In Episode 4, we used some methods with a string. But we can see many more are available by using `dir()`:\n",
    ">\n"
   ]
  },
  {
   "cell_type": "markdown",
   "id": "5e540cdf-1669-4908-a1d1-685bf70142bd",
   "metadata": {},
   "source": [
    "> ~~~ python\n",
    "> my_string = 'Hello world!'   # creation of a string object \n",
    "> dir(my_string)\n",
    "> ~~~\n",
    ">"
   ]
  },
  {
   "cell_type": "markdown",
   "id": "04894dad-a883-4baa-943f-3ac7c310766f",
   "metadata": {},
   "source": [
    "> This command returns:\n",
    ">"
   ]
  },
  {
   "cell_type": "code",
   "execution_count": null,
   "id": "5b383766-eba7-47db-8a99-2e0cf1ba6ae1",
   "metadata": {
    "tags": []
   },
   "outputs": [],
   "source": [
    "my_string = 'Hello world!'   # creation of a string object \n",
    "dir(my_string)"
   ]
  },
  {
   "cell_type": "markdown",
   "id": "a3479c34-b37a-4311-8656-fea5547740c2",
   "metadata": {},
   "source": [
    "> You can use `help()` or <kbd>Shift</kbd>+<kbd>Tab</kbd> to get more information about what these methods do.\n",
    ">\n",
    "> Assume Pandas has been imported and the Gapminder GDP data for Europe has been loaded as `data`.  Then, use `dir()` \n",
    "> to find the function that prints out the median per-capita GDP across all European countries for each year that information is available.\n",
    ">\n"
   ]
  },
  {
   "cell_type": "markdown",
   "id": "9f2bc7a0-52ed-4b46-a4b6-71d6d56abf7b",
   "metadata": {
    "jp-MarkdownHeadingCollapsed": true,
    "tags": []
   },
   "source": [
    "### Solution"
   ]
  },
  {
   "cell_type": "markdown",
   "id": "0e72d3b6-d38e-4340-b6a5-4f78f12ec2c1",
   "metadata": {},
   "source": [
    "> > Among many choices, `dir()` lists the `median()` function as a possibility.  Thus,\n"
   ]
  },
  {
   "cell_type": "code",
   "execution_count": null,
   "id": "1d682f63-e4b4-4223-aa4e-0156efc2da51",
   "metadata": {},
   "outputs": [],
   "source": [
    "data.median()"
   ]
  },
  {
   "cell_type": "markdown",
   "id": "bf812e13-e1d3-499d-abd5-9680076d17d7",
   "metadata": {},
   "source": [
    "---\n",
    "### Interpretation"
   ]
  },
  {
   "cell_type": "markdown",
   "id": "c46e0921-16cb-4109-be1c-4da26a08d536",
   "metadata": {},
   "source": [
    "> Poland's borders have been stable since 1945,\n",
    "> but changed several times in the years before then.\n",
    "> How would you handle this if you were creating a table of GDP per capita for Poland\n",
    "> for the entire twentieth century?"
   ]
  },
  {
   "cell_type": "markdown",
   "id": "e91ab861-6637-4c24-9427-5de4aa8def82",
   "metadata": {},
   "source": [
    "---\n",
    "## Keypoints:\n",
    "- \"Use `DataFrame.iloc[..., ...]` to select values by integer location.\"\n",
    "- \"Use `:` on its own to mean all columns or all rows.\"\n",
    "- \"Select multiple columns or rows using `DataFrame.loc` and a named slice.\"\n",
    "- \"Result of slicing can be used in further operations.\"\n",
    "- \"Use comparisons to select data based on value.\"\n",
    "- \"Select values or NaN using a Boolean mask.\"\n",
    "---"
   ]
  },
  {
   "cell_type": "markdown",
   "id": "02ab3397-41a0-4e93-a730-b78f68dd25fc",
   "metadata": {},
   "source": [
    "*This course material was created from the [Plotting and Programming in Python](http://swcarpentry.github.io/python-novice-gapminder/) curriculum developed by [The Software Carpentry Foundation](https://software-carpentry.org/) of [The Carpentries](https://carpentries.org/) licensed under [CC-BY 4.0](https://creativecommons.org/licenses/by/4.0/)*"
   ]
  }
 ],
 "metadata": {
  "kernelspec": {
   "display_name": "Python 3 (ipykernel)",
   "language": "python",
   "name": "python3"
  },
  "language_info": {
   "codemirror_mode": {
    "name": "ipython",
    "version": 3
   },
   "file_extension": ".py",
   "mimetype": "text/x-python",
   "name": "python",
   "nbconvert_exporter": "python",
   "pygments_lexer": "ipython3",
   "version": "3.9.12"
  }
 },
 "nbformat": 4,
 "nbformat_minor": 5
}
