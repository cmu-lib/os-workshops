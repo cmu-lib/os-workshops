{
 "cells": [
  {
   "cell_type": "markdown",
   "id": "d8462216-d6d3-4c45-aea2-149d098c3efc",
   "metadata": {},
   "source": [
    "# Variables and Assignment"
   ]
  },
  {
   "cell_type": "markdown",
   "id": "0749dd57-1ef8-4ea5-b8dc-63fa896e5bf1",
   "metadata": {},
   "source": [
    "---\n",
    "## Overview\n",
    "\n",
    "Teaching: 10 minutes\n",
    "\n",
    "Exercises: 10 minutes\n",
    "\n",
    "### Questions\n",
    "- How can I store data in programs?\n",
    "\n",
    "### Objectives\n",
    "- Write programs that assign scalar values to variables and perform calculations with those values.\n",
    "- Correctly trace value changes in programs that use scalar assignment.\n",
    "---"
   ]
  },
  {
   "cell_type": "markdown",
   "id": "5899f848-847f-4191-9b36-24870cebb460",
   "metadata": {},
   "source": [
    "\n",
    "## Use variables to store values.\n",
    "\n"
   ]
  },
  {
   "cell_type": "markdown",
   "id": "5501872e-2aae-4ca8-85dd-92004fc594d4",
   "metadata": {},
   "source": [
    "*   **Variables** are names for values.\n",
    "*   In Python the `=` symbol assigns the value on the right to the name on the left.\n",
    "*   The variable is created when a value is assigned to it.\n",
    "*   Here, Python assigns an age to a variable `age`\n",
    "    and a name in quotes to a variable `first_name`.\n"
   ]
  },
  {
   "cell_type": "code",
   "execution_count": null,
   "id": "7fa0806d-e4b6-460c-84d6-4c13a4278ed5",
   "metadata": {},
   "outputs": [],
   "source": [
    "age = 42\n",
    "first_name = 'Ahmed'"
   ]
  },
  {
   "cell_type": "markdown",
   "id": "426d97ba-5440-46ec-9260-5186a6b16469",
   "metadata": {},
   "source": [
    "*   Variable names\n",
    "    * can **only** contain letters, digits, and underscore `_` (typically used to separate words in long variable names)\n",
    "    * cannot start with a digit\n",
    "    * are **case sensitive** (age, Age and AGE are three different variables)\n",
    "*   Variable names that start with underscores like `__alistairs_real_age` have a special meaning\n",
    "    so we won't do that until we understand the convention."
   ]
  },
  {
   "cell_type": "markdown",
   "id": "f4964569-2adb-4c5d-bdcf-ad5896e58ebd",
   "metadata": {},
   "source": [
    "## Use `print` to display values.\n",
    "\n"
   ]
  },
  {
   "cell_type": "markdown",
   "id": "7e4b1b12-31a9-49b9-8920-49812f2ccd45",
   "metadata": {},
   "source": [
    "*   Python has a built-in function called `print` that prints things as text.\n",
    "*   Call the function (i.e., tell Python to run it) by using its name.\n",
    "*   Provide values to the function (i.e., the things to print) in parentheses.\n",
    "*   To add a string to the printout, wrap the string in single or double quotes.\n",
    "*   The values passed to the function are called **arguments**\n",
    "\n"
   ]
  },
  {
   "cell_type": "code",
   "execution_count": null,
   "id": "cb04e91e-2bfd-4ad5-b5f0-f318c46161ba",
   "metadata": {},
   "outputs": [],
   "source": [
    "print(first_name, 'is', age, 'years old')"
   ]
  },
  {
   "cell_type": "markdown",
   "id": "e4b68f5e-7e58-41ee-bd2a-6100da1f6783",
   "metadata": {},
   "source": [
    "*   `print` automatically puts a single space between items to separate them.\n",
    "*   And wraps around to a new line at the end.\n",
    "\n",
    "## Variables must be created before they are used.\n",
    "\n",
    "*   If a variable doesn't exist yet, or if the name has been mis-spelled,\n",
    "    Python reports an error. (Unlike some languages, which \"guess\" a default value.)\n",
    "\n"
   ]
  },
  {
   "cell_type": "code",
   "execution_count": null,
   "id": "f3f5b68a-0b48-4f38-90fd-3d636b36dd6d",
   "metadata": {},
   "outputs": [],
   "source": [
    "print(last_name)"
   ]
  },
  {
   "cell_type": "markdown",
   "id": "cb431ebc-3acd-42c5-9b17-1cee3bdfb1c9",
   "metadata": {},
   "source": [
    "*   The last line of an error message is usually the most informative.\n",
    "*   We will look at error messages in detail [later]({{ page.root }}/15-scope/#reading-error-messages).\n",
    "\n"
   ]
  },
  {
   "cell_type": "markdown",
   "id": "60569b4d-8e88-4329-9d09-71e372e07b0a",
   "metadata": {},
   "source": [
    "---\n",
    "> ## Variables Persist Between Cells\n",
    ">\n",
    "> Be aware that it is the *order* of execution of cells that is important in a Jupyter notebook, not the order\n",
    "> in which they appear. Python will remember *all* the code that was run previously, including any variables you have\n",
    "> defined, irrespective of the order in the notebook. Therefore if you define variables lower down the notebook and then\n",
    "> (re)run cells further up, those defined further down will still be present. As an example, create two cells with the\n",
    "> following content, in this order:\n",
    ">\n",
    "---"
   ]
  },
  {
   "cell_type": "code",
   "execution_count": null,
   "id": "f3e9dfcb-aa9a-4d44-9ea6-f81946bcaea6",
   "metadata": {},
   "outputs": [],
   "source": [
    "print(myval)"
   ]
  },
  {
   "cell_type": "code",
   "execution_count": null,
   "id": "841be69b-2c19-4a54-b6ff-9bc501513d8b",
   "metadata": {},
   "outputs": [],
   "source": [
    "myval = 1"
   ]
  },
  {
   "cell_type": "markdown",
   "id": "500a5962-d3b6-4ec5-998f-a758b0470097",
   "metadata": {},
   "source": [
    "\n",
    "> If you execute this in order, the first cell will give an error. However, if you run the first cell *after* the second\n",
    "> cell it will print out `1`. To prevent confusion, it can be helpful to use the `Kernel` -> `Restart & Run All` option which\n",
    "> clears the interpreter and runs everything from a clean slate going top to bottom.\n",
    "\n"
   ]
  },
  {
   "cell_type": "markdown",
   "id": "2f73708b-bcf4-4fe0-a9a4-224f7779e1e4",
   "metadata": {},
   "source": [
    "## Variables can be used in calculations.\n",
    "\n"
   ]
  },
  {
   "cell_type": "markdown",
   "id": "d8392e21-98f0-40db-91cc-13df9839c381",
   "metadata": {},
   "source": [
    "*   We can use variables in calculations just as if they were values.\n",
    "    *   Remember, we assigned the value `42` to `age` a few lines ago."
   ]
  },
  {
   "cell_type": "code",
   "execution_count": null,
   "id": "652dcdcc-cde8-42f7-b778-904f16cd601b",
   "metadata": {},
   "outputs": [],
   "source": [
    "age = age + 3\n",
    "print('Age in three years:', age)"
   ]
  },
  {
   "cell_type": "markdown",
   "id": "ded92b7c-12c2-4590-a256-ea4031171983",
   "metadata": {},
   "source": [
    "## Use an index to get a single character from a string.\n",
    "\n"
   ]
  },
  {
   "cell_type": "markdown",
   "id": "053b7a11-dc7d-447a-b3c8-6ac0c001dd27",
   "metadata": {},
   "source": [
    "*   The characters (individual letters, numbers, and so on) in a string are\n",
    "    ordered. For example, the string `'AB'` is not the same as `'BA'`. Because of\n",
    "    this ordering, we can treat the string as a list of characters.\n",
    "*   Each position in the string (first, second, etc.) is given a number. This\n",
    "    number is called an **index** or sometimes a subscript.\n",
    "*   Indices are numbered from 0.\n",
    "*   Use the position's index in square brackets to get the character at that\n",
    "    position.\n",
    "\n",
    "![an illustration of indexing](../fig/2_indexing.svg)\n",
    "\n"
   ]
  },
  {
   "cell_type": "code",
   "execution_count": null,
   "id": "9ca1abcb-4074-4e65-bd21-eb147191544f",
   "metadata": {},
   "outputs": [],
   "source": [
    "atom_name = 'helium'\n",
    "print(atom_name[0])"
   ]
  },
  {
   "cell_type": "markdown",
   "id": "ee960f90-f0a5-470e-8a1d-895e507ad892",
   "metadata": {},
   "source": [
    "## Use a slice to get a substring.\n",
    "\n"
   ]
  },
  {
   "cell_type": "markdown",
   "id": "1680dd14-3936-4eb3-9f1f-861af13d7892",
   "metadata": {},
   "source": [
    "*   A part of a string is called a **substring**. A substring can be as short as a\n",
    "    single character.\n",
    "*   An item in a list is called an element. Whenever we treat a string as if it\n",
    "    were a list, the string's elements are its individual characters.\n",
    "*   A slice is a part of a string (or, more generally, a part of any list-like thing).\n",
    "*   We take a slice with the notation `[start:stop]`, where `start` is the integer\n",
    "    index of the first element we want and `stop` is the integer index of\n",
    "    the element _just after_ the last element we want.\n",
    "*   The difference between `stop` and `start` is the slice's length.\n",
    "*   Taking a slice does not change the contents of the original string. Instead,\n",
    "    taking a slice returns a copy of part of the original string.\n",
    "\n"
   ]
  },
  {
   "cell_type": "code",
   "execution_count": null,
   "id": "bccd0cee-4ef7-4a6d-b5fa-e9722d1f7925",
   "metadata": {},
   "outputs": [],
   "source": [
    "atom_name = 'sodium'\n",
    "print(atom_name[0:3])"
   ]
  },
  {
   "cell_type": "markdown",
   "id": "ac8a6920-6dd8-442b-922a-eb2ff2590c04",
   "metadata": {},
   "source": [
    "## Use the built-in function `len` to find the length of a string.\n",
    "\n"
   ]
  },
  {
   "cell_type": "code",
   "execution_count": null,
   "id": "1b4e844e-b3ad-4dc9-8d24-566172549041",
   "metadata": {},
   "outputs": [],
   "source": [
    "print(len('helium'))"
   ]
  },
  {
   "cell_type": "markdown",
   "id": "c64ac0bf-14f0-45bc-be97-5f483f1a1315",
   "metadata": {},
   "source": [
    "*   Nested functions are evaluated from the inside out,\n",
    "     like in mathematics.\n",
    "\n"
   ]
  },
  {
   "cell_type": "markdown",
   "id": "9f9808b1-04df-4486-b82d-b583bdd59379",
   "metadata": {},
   "source": [
    "## Python is case-sensitive.\n",
    "\n"
   ]
  },
  {
   "cell_type": "markdown",
   "id": "b1a0bb2b-f673-436c-8452-568779e44f00",
   "metadata": {},
   "source": [
    "*   Python thinks that upper- and lower-case letters are different,\n",
    "    so `Name` and `name` are different variables.\n",
    "*   There are conventions for using upper-case letters at the start of variable names so we will use lower-case letters for now.\n",
    "\n"
   ]
  },
  {
   "cell_type": "markdown",
   "id": "4df975a4-6d38-4ae2-8786-32b722c64aea",
   "metadata": {},
   "source": [
    "## Use meaningful variable names.\n",
    "\n"
   ]
  },
  {
   "cell_type": "markdown",
   "id": "47840927-cd99-41c5-89c9-bf08433abaa3",
   "metadata": {},
   "source": [
    "*   Python doesn't care what you call variables as long as they obey the rules\n",
    "    (alphanumeric characters and the underscore).\n",
    "\n"
   ]
  },
  {
   "cell_type": "code",
   "execution_count": null,
   "id": "c01a9172-afd3-4fe2-9f17-6155dc38724a",
   "metadata": {},
   "outputs": [],
   "source": [
    "flabadab = 42\n",
    "ewr_422_yY = 'Ahmed'\n",
    "print(ewr_422_yY, 'is', flabadab, 'years old')"
   ]
  },
  {
   "cell_type": "markdown",
   "id": "fc3563f2-60aa-4cf9-9b3f-490fa29cb056",
   "metadata": {},
   "source": [
    "*   Use meaningful variable names to help other people understand what the program does.\n",
    "*   The most important \"other person\" is your future self.\n",
    "\n"
   ]
  },
  {
   "cell_type": "markdown",
   "id": "b5734e3c-647f-4ed2-82a7-0e4f28824133",
   "metadata": {},
   "source": [
    "---\n",
    "### Swapping Values"
   ]
  },
  {
   "cell_type": "markdown",
   "id": "2676e396-d66b-4fdc-bf85-f21f16280327",
   "metadata": {},
   "source": [
    "> Fill the table showing the values of the variables in this program\n",
    "> *after* each statement is executed.\n",
    ">\n"
   ]
  },
  {
   "cell_type": "code",
   "execution_count": null,
   "id": "92ec8c1e-865f-4a8a-8df0-ca527eb6a56f",
   "metadata": {},
   "outputs": [],
   "source": [
    "# Command  # Value of x   # Value of y   # Value of swap #\n",
    "x = 1.0    #              #              #               #\n",
    "y = 3.0    #              #              #               #\n",
    "swap = x   #              #              #               #\n",
    "x = y      #              #              #               #\n",
    "y = swap   #              #              #               #"
   ]
  },
  {
   "cell_type": "markdown",
   "id": "48f3f162-023c-4b39-af70-b9d8bfcada25",
   "metadata": {
    "jp-MarkdownHeadingCollapsed": true,
    "tags": []
   },
   "source": [
    "### Solution"
   ]
  },
  {
   "cell_type": "code",
   "execution_count": null,
   "id": "afc2edc7-f373-49e8-806d-28aa245a56d9",
   "metadata": {},
   "outputs": [],
   "source": [
    "# Command  # Value of x   # Value of y   # Value of swap #\n",
    "x = 1.0    # 1.0          # not defined  # not defined   #\n",
    "y = 3.0    # 1.0          # 3.0          # not defined   #\n",
    "swap = x   # 1.0          # 3.0          # 1.0           #\n",
    "x = y      # 3.0          # 3.0          # 1.0           #\n",
    "y = swap   # 3.0          # 1.0          # 1.0           #"
   ]
  },
  {
   "cell_type": "markdown",
   "id": "197f495d-331d-4fd3-b623-24e961387032",
   "metadata": {},
   "source": [
    "> >\n",
    "> > These three lines exchange the values in `x` and `y` using the `swap`\n",
    "> > variable for temporary storage. This is a fairly common programming idiom.\n",
    "\n"
   ]
  },
  {
   "cell_type": "markdown",
   "id": "3ac866d7-80ae-4f5e-83bd-a794f21332a2",
   "metadata": {},
   "source": [
    "---\n",
    "### Predicting Values"
   ]
  },
  {
   "cell_type": "markdown",
   "id": "07b9ea07-54f1-43cf-b7e0-7dd67e9222d0",
   "metadata": {},
   "source": [
    "> What is the final value of `position` in the program below?\n",
    "> (Try to predict the value without running the program,\n",
    "> then check your prediction.)\n",
    ">\n"
   ]
  },
  {
   "cell_type": "code",
   "execution_count": null,
   "id": "9209d28a-1978-41f6-8650-85341667438c",
   "metadata": {},
   "outputs": [],
   "source": [
    "initial = 'left'\n",
    "position = initial\n",
    "initial = 'right'"
   ]
  },
  {
   "cell_type": "markdown",
   "id": "3bd3565b-f309-4fb5-876f-a22f35d08746",
   "metadata": {
    "jp-MarkdownHeadingCollapsed": true,
    "tags": []
   },
   "source": [
    "### Solution"
   ]
  },
  {
   "cell_type": "code",
   "execution_count": null,
   "id": "aabf2dc8-f1ba-4c0d-a17d-730f3d34ed17",
   "metadata": {},
   "outputs": [],
   "source": [
    " print(position)"
   ]
  },
  {
   "cell_type": "markdown",
   "id": "9c2231d1-c83d-4af7-a8f6-e573c0da9a83",
   "metadata": {},
   "source": [
    "> > The `initial` variable is assigned the value `'left'`.\n",
    "> > In the second line, the `position` variable also receives\n",
    "> > the string value `'left'`. In third line, the `initial` variable is given the\n",
    "> > value `'right'`, but the `position` variable retains its string value\n",
    "> > of `'left'`."
   ]
  },
  {
   "cell_type": "markdown",
   "id": "2a882612-1674-4874-a847-4210f6036e38",
   "metadata": {},
   "source": [
    "---\n",
    "### Challenge"
   ]
  },
  {
   "cell_type": "markdown",
   "id": "13f5313c-5d00-4301-969d-ee7c833f078b",
   "metadata": {},
   "source": [
    "> If you assign `a = 123`,\n",
    "> what happens if you try to get the second digit of `a` via `a[1]`?\n",
    ">\n"
   ]
  },
  {
   "cell_type": "markdown",
   "id": "35acd50a-62e9-4f0a-bc4b-55c4191a20a7",
   "metadata": {
    "jp-MarkdownHeadingCollapsed": true,
    "tags": []
   },
   "source": [
    "### Solution"
   ]
  },
  {
   "cell_type": "code",
   "execution_count": null,
   "id": "3eb4dee9-f612-4382-9398-101b53c9e9a7",
   "metadata": {},
   "outputs": [],
   "source": [
    "a = 123\n",
    "print(a[1])"
   ]
  },
  {
   "cell_type": "markdown",
   "id": "f173cd8d-9370-4ad6-a729-e178eafda04c",
   "metadata": {},
   "source": [
    "> > Numbers are not strings or sequences and Python will raise an error if you try to perform an index operation on a\n",
    "> > number. In the next lesson on types and type conversion,\n",
    "> > we will learn more about types and how to convert between different types. If you want the Nth digit of a number you\n",
    "> > can convert it into a string using the `str` built-in function and then perform an index operation on that string.\n",
    "> >\n"
   ]
  },
  {
   "cell_type": "code",
   "execution_count": null,
   "id": "43d671b0-103d-44ee-82ec-8a1cd5f40a4f",
   "metadata": {},
   "outputs": [],
   "source": [
    "a = str(123)\n",
    "print(a[1])"
   ]
  },
  {
   "cell_type": "markdown",
   "id": "0cbd07fb-5558-4474-986c-ba6fb113e671",
   "metadata": {},
   "source": [
    "---\n",
    "### Choosing a Name"
   ]
  },
  {
   "cell_type": "markdown",
   "id": "e5f06a3a-7406-49de-82e7-f5bd1227e135",
   "metadata": {},
   "source": [
    "> Which is a better variable name, `m`, `min`, or `minutes`?\n",
    "> Why?\n",
    "> Hint: think about which code you would rather inherit\n",
    "> from someone who is leaving the lab:\n",
    ">\n",
    "> 1. `ts = m * 60 + s`\n",
    "> 2. `tot_sec = min * 60 + sec`\n",
    "> 3. `total_seconds = minutes * 60 + seconds`\n",
    ">\n"
   ]
  },
  {
   "cell_type": "markdown",
   "id": "414f39eb-e6cb-47b8-b6d8-09619ce6d900",
   "metadata": {
    "jp-MarkdownHeadingCollapsed": true,
    "tags": []
   },
   "source": [
    "### Solution"
   ]
  },
  {
   "cell_type": "markdown",
   "id": "f3e6e613-4fd1-40c3-be50-2a176afed5bb",
   "metadata": {},
   "source": [
    "> > `minutes` is better because `min` might mean something like \"minimum\"\n",
    "> > (and actually is an existing built-in function in Python that we will cover later).\n",
    "\n"
   ]
  },
  {
   "cell_type": "markdown",
   "id": "6f2476ae-50ff-48bf-9a43-8179163a7c27",
   "metadata": {},
   "source": [
    "---\n",
    "### Slicing practice"
   ]
  },
  {
   "cell_type": "markdown",
   "id": "e76ee19c-39a0-43fc-8240-0d72d28eaea6",
   "metadata": {},
   "source": [
    "> What does the following program print?\n",
    ">"
   ]
  },
  {
   "cell_type": "markdown",
   "id": "cb57f6dc-4168-47fb-8226-fc32e102ae90",
   "metadata": {},
   "source": [
    "> ~~~ python\n",
    "> atom_name = 'carbon'\n",
    "> print('atom_name[1:3] is:', atom_name[1:3])\n",
    "> ~~~"
   ]
  },
  {
   "cell_type": "markdown",
   "id": "2c5ad4a8-a883-432c-92f6-e633583f0d2a",
   "metadata": {
    "jp-MarkdownHeadingCollapsed": true,
    "tags": []
   },
   "source": [
    "### Solution"
   ]
  },
  {
   "cell_type": "code",
   "execution_count": null,
   "id": "c790e537-6757-4dc2-beae-e9d868978d8e",
   "metadata": {},
   "outputs": [],
   "source": [
    "atom_name = 'carbon'\n",
    "print('atom_name[1:3] is:', atom_name[1:3])"
   ]
  },
  {
   "cell_type": "markdown",
   "id": "c5687d6c-8fbb-48e2-bd25-2bda4254fd67",
   "metadata": {},
   "source": [
    "---\n",
    "### Slicing concepts"
   ]
  },
  {
   "cell_type": "markdown",
   "id": "16763111-8a1c-4527-8b9f-2c47ac1599d2",
   "metadata": {},
   "source": [
    "> Given the following string:\n",
    ">\n"
   ]
  },
  {
   "cell_type": "code",
   "execution_count": null,
   "id": "ccabf3d2-f670-4503-9e67-1ea16474874c",
   "metadata": {},
   "outputs": [],
   "source": [
    "species_name = \"Acacia buxifolia\""
   ]
  },
  {
   "cell_type": "markdown",
   "id": "fd7fb0be-6eba-4778-a2d5-81661f34e87d",
   "metadata": {},
   "source": [
    "> What would these expressions return?\n",
    ">\n",
    "> 1.  `species_name[2:8]`\n",
    "> 2.  `species_name[11:]` (without a value after the colon)\n",
    "> 3.  `species_name[:4]` (without a value before the colon)\n",
    "> 4.  `species_name[:]` (just a colon)\n",
    "> 5.  `species_name[11:-3]`\n",
    "> 6.  `species_name[-5:-3]`\n",
    "> 7.  What happens when you choose a `stop` value which is out of range? (i.e., try `species_name[0:20]` or `species_name[:103]`)\n",
    ">\n"
   ]
  },
  {
   "cell_type": "markdown",
   "id": "9bba3c5f-32d3-46b5-8a8d-e7ec7f48c5bc",
   "metadata": {
    "jp-MarkdownHeadingCollapsed": true,
    "tags": []
   },
   "source": [
    "### Solutions"
   ]
  },
  {
   "cell_type": "markdown",
   "id": "4bb7f3aa-c49f-49fb-b192-af8ce5b13609",
   "metadata": {
    "tags": []
   },
   "source": [
    "> > 1.  `species_name[2:8]` returns the substring `'acia b'`\n",
    "> > 2.  `species_name[11:]` returns the substring `'folia'`, from position 11 until the end\n",
    "> > 3.  `species_name[:4]` returns the substring `'Acac'`, from the start up to but not including position 4\n",
    "> > 4.  `species_name[:]` returns the entire string `'Acacia buxifolia'`\n",
    "> > 5.  `species_name[11:-3]` returns the substring `'fo'`, from the 11th position to the third last position\n",
    "> > 6.  `species_name[-5:-3]` also returns the substring `'fo'`, from the fifth last position to the third last\n",
    "> > 7.  If a part of the slice is out of range, the operation does not fail. `species_name[0:20]` gives the same result as `species_name[0:]`, and `species_name[:103]` gives the same result as `species_name[:]`\n"
   ]
  },
  {
   "cell_type": "markdown",
   "id": "0d6bc51e-f7e8-47b9-8e52-aab9f4be07a0",
   "metadata": {},
   "source": [
    "---\n",
    "## Keypoints:\n",
    "- Use variables to store values.\n",
    "- Use `print` to display values.\n",
    "- Variables persist between cells.\n",
    "- Variables must be created before they are used.\n",
    "- Variables can be used in calculations.\n",
    "- Use an index to get a single character from a string.\n",
    "- Use a slice to get a substring.\n",
    "- Use the built-in function `len` to find the length of a string.\n",
    "- Python is case-sensitive.\n",
    "- Use meaningful variable names.\n",
    "---"
   ]
  },
  {
   "cell_type": "markdown",
   "id": "6bce7ff2-cbb9-4061-99db-ba2325fcfc23",
   "metadata": {},
   "source": [
    "*This course material was created from the [Plotting and Programming in Python](http://swcarpentry.github.io/python-novice-gapminder/) curriculum developed by [The Software Carpentry Foundation](https://software-carpentry.org/) of [The Carpentries](https://carpentries.org/) licensed under [CC-BY 4.0](https://creativecommons.org/licenses/by/4.0/)*"
   ]
  }
 ],
 "metadata": {
  "kernelspec": {
   "display_name": "Python 3 (ipykernel)",
   "language": "python",
   "name": "python3"
  },
  "language_info": {
   "codemirror_mode": {
    "name": "ipython",
    "version": 3
   },
   "file_extension": ".py",
   "mimetype": "text/x-python",
   "name": "python",
   "nbconvert_exporter": "python",
   "pygments_lexer": "ipython3",
   "version": "3.9.12"
  }
 },
 "nbformat": 4,
 "nbformat_minor": 5
}
