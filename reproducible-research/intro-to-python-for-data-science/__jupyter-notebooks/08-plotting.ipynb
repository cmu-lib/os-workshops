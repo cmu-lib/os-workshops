{
 "cells": [
  {
   "cell_type": "markdown",
   "id": "92d4e558-96fb-4e06-ac74-436a2c7be3e8",
   "metadata": {},
   "source": [
    "# Plotting"
   ]
  },
  {
   "cell_type": "markdown",
   "id": "9fce4c08-5993-4850-aaf3-f6a6f660befe",
   "metadata": {},
   "source": [
    "---\n",
    "## Overview\n",
    "\n",
    "Teaching: 15 minutes\n",
    "\n",
    "Exercises: 15 minutes\n",
    "\n",
    "### Questions:\n",
    "- \"How can I plot my data?\"\n",
    "- \"How can I save my plot for publishing?\"\n",
    "\n",
    "### Objectives:\n",
    "- \"Create a time series plot showing a single data set.\"\n",
    "- \"Create a scatter plot showing relationship between two data sets.\"\n",
    "---"
   ]
  },
  {
   "cell_type": "markdown",
   "id": "83abc93b-8fa2-473e-b1c9-cbd2d7eae52a",
   "metadata": {},
   "source": [
    "## [`matplotlib`](https://matplotlib.org/) is the most widely used scientific plotting library in Python.\n",
    "\n"
   ]
  },
  {
   "cell_type": "markdown",
   "id": "aa34f2c2-dcbb-41e2-9353-799799944120",
   "metadata": {},
   "source": [
    "*   Commonly use a sub-library called [`matplotlib.pyplot`](https://matplotlib.org/stable/api/_as_gen/matplotlib.pyplot.html#module-matplotlib.pyplot).\n",
    "*   The Jupyter Notebook will render plots inline by default.\n",
    "\n"
   ]
  },
  {
   "cell_type": "code",
   "execution_count": null,
   "id": "65af85d9-f6dd-476b-93bb-1a9906363319",
   "metadata": {},
   "outputs": [],
   "source": [
    "import matplotlib.pyplot as plt"
   ]
  },
  {
   "cell_type": "markdown",
   "id": "5f945f11-9d16-4240-9576-b17f2334a2e1",
   "metadata": {},
   "source": [
    "*   Simple plots are then (fairly) simple to create.\n",
    "\n"
   ]
  },
  {
   "cell_type": "code",
   "execution_count": null,
   "id": "b5428b5a-f60f-4341-b215-d782f1728203",
   "metadata": {},
   "outputs": [],
   "source": [
    "time = [0, 1, 2, 3]\n",
    "position = [0, 100, 200, 300]\n",
    "\n",
    "plt.plot(time, position)\n",
    "plt.xlabel('Time (hr)')\n",
    "plt.ylabel('Position (km)')"
   ]
  },
  {
   "cell_type": "markdown",
   "id": "ebbc36e4-16b7-4027-9cb2-8fe188bd8508",
   "metadata": {},
   "source": [
    "---\n",
    "### Display All Open Figures"
   ]
  },
  {
   "cell_type": "markdown",
   "id": "c155a2ce-dd77-40c1-bd10-5026b4a07e6c",
   "metadata": {},
   "source": [
    "> In our Jupyter Notebook example, running the cell should generate the figure directly below the code. \n",
    "> The figure is also included in the Notebook document for future viewing.\n",
    "> However, other Python environments like an interactive Python session started from a terminal \n",
    "> or a Python script executed via the command line require an additional command to display the figure.\n",
    ">\n"
   ]
  },
  {
   "cell_type": "markdown",
   "id": "6d42f371-b810-4252-81ab-554a06a0142a",
   "metadata": {},
   "source": [
    "> Instruct `matplotlib` to show a figure:\n",
    "> ~~~ python\n",
    "> plt.show()\n",
    "> ~~~\n",
    ">"
   ]
  },
  {
   "cell_type": "markdown",
   "id": "0744d0ea-30af-4225-ad0f-37b9dad473ac",
   "metadata": {},
   "source": [
    "> This command can also be used within a Notebook - for instance, to display multiple figures\n",
    "> if several are created by a single cell.\n",
    ">\n",
    "---"
   ]
  },
  {
   "cell_type": "markdown",
   "id": "04326fc6-cb79-403c-8dd8-28712124c72b",
   "metadata": {},
   "source": [
    "## Plot data directly from a [`Pandas dataframe`](https://pandas.pydata.org/pandas-docs/stable/reference/api/pandas.DataFrame.html).\n",
    "\n"
   ]
  },
  {
   "cell_type": "markdown",
   "id": "bbb3506d-964d-4bc0-a093-f8ebcff5759e",
   "metadata": {},
   "source": [
    "*   We can also plot [Pandas dataframes](https://pandas.pydata.org/pandas-docs/stable/generated/pandas.DataFrame.html).\n",
    "*   This implicitly uses [`matplotlib.pyplot`](https://matplotlib.org/stable/api/_as_gen/matplotlib.pyplot.html#module-matplotlib.pyplot).\n",
    "*   Before plotting, we convert the column headings from a `string` to `integer` data type, since they represent numerical values\n",
    "\n"
   ]
  },
  {
   "cell_type": "code",
   "execution_count": null,
   "id": "afc5e3e9-e08a-4a73-b46a-22892b9fd076",
   "metadata": {},
   "outputs": [],
   "source": [
    "import pandas as pd\n",
    "\n",
    "data = pd.read_csv('data/gapminder_gdp_oceania.csv', index_col='country')\n",
    "\n",
    "# Extract year from last 4 characters of each column name\n",
    "# The current column names are structured as 'gdpPercap_(year)', \n",
    "# so we want to keep the (year) part only for clarity when plotting GDP vs. years\n",
    "# To do this we use strip(), which removes from the string the characters stated in the argument\n",
    "# This method works on strings, so we call str before strip()\n",
    "\n",
    "years = data.columns.str.strip('gdpPercap_')\n",
    "\n",
    "# Convert year values to integers, saving results back to dataframe\n",
    "\n",
    "data.columns = years.astype(int)\n",
    "\n",
    "data.loc['Australia'].plot()"
   ]
  },
  {
   "cell_type": "markdown",
   "id": "f2f1d811-d3ff-42b5-a68a-19d0f9103a2e",
   "metadata": {},
   "source": [
    "## Select and transform data, then plot it.\n",
    "\n"
   ]
  },
  {
   "cell_type": "markdown",
   "id": "0e8a4f4f-d664-433b-9281-2bbc0e7b7309",
   "metadata": {},
   "source": [
    "*   By default, [`DataFrame.plot`](https://pandas.pydata.org/pandas-docs/stable/generated/pandas.DataFrame.plot.html#pandas.DataFrame.plot) plots with the rows as the X axis.\n",
    "*   We can transpose the data in order to plot multiple series.\n",
    "\n"
   ]
  },
  {
   "cell_type": "code",
   "execution_count": null,
   "id": "b2b7a863-0102-48f2-ba1e-e3c5f5fb15d3",
   "metadata": {},
   "outputs": [],
   "source": [
    "data.T.plot()\n",
    "plt.ylabel('GDP per capita')"
   ]
  },
  {
   "cell_type": "markdown",
   "id": "9aed92c4-ba48-4501-988b-193cdd2d6dc7",
   "metadata": {},
   "source": [
    "## Many styles of plot are available.\n",
    "\n"
   ]
  },
  {
   "cell_type": "markdown",
   "id": "1b3b79b2-85f6-4e6a-b457-8230cd6e749e",
   "metadata": {},
   "source": [
    "*   For example, do a bar plot using a fancier style.\n",
    "\n"
   ]
  },
  {
   "cell_type": "code",
   "execution_count": null,
   "id": "4735ba02-af1d-4880-bd58-20c3385fb289",
   "metadata": {},
   "outputs": [],
   "source": [
    "plt.style.use('ggplot')\n",
    "data.T.plot(kind='bar')\n",
    "plt.ylabel('GDP per capita')"
   ]
  },
  {
   "cell_type": "markdown",
   "id": "8344f9b9-a186-4940-a74e-f7838480c300",
   "metadata": {},
   "source": [
    "## Data can also be plotted by calling the `matplotlib` `plot` function directly.\n"
   ]
  },
  {
   "cell_type": "markdown",
   "id": "c331afad-daad-4d6b-a84b-79bf64dece72",
   "metadata": {},
   "source": [
    "*   The command is `plt.plot(x, y)`\n",
    "*   The color and format of markers can also be specified as an additional optional argument e.g., `b-` is a blue line, `g--` is a green dashed line.\n",
    "\n"
   ]
  },
  {
   "cell_type": "markdown",
   "id": "1f5b1e54-e418-4b18-baf4-db9f0fe2d638",
   "metadata": {},
   "source": [
    "## Get Australia data from dataframe\n",
    "\n"
   ]
  },
  {
   "cell_type": "code",
   "execution_count": null,
   "id": "f5b2ce4b-2a17-4377-836e-ed1ba302a39c",
   "metadata": {},
   "outputs": [],
   "source": [
    "years = data.columns\n",
    "gdp_australia = data.loc['Australia']\n",
    "\n",
    "plt.plot(years, gdp_australia, 'g--')"
   ]
  },
  {
   "cell_type": "markdown",
   "id": "8664ec1f-c25d-4288-b5ba-f97bf8d769be",
   "metadata": {},
   "source": [
    "## Can plot many sets of data together.\n",
    "\n"
   ]
  },
  {
   "cell_type": "code",
   "execution_count": null,
   "id": "1c11472f-7fd9-4a11-95b1-d924def2c033",
   "metadata": {},
   "outputs": [],
   "source": [
    "# Select two countries' worth of data.\n",
    "gdp_australia = data.loc['Australia']\n",
    "gdp_nz = data.loc['New Zealand']\n",
    "\n",
    "# Plot with differently-colored markers.\n",
    "plt.plot(years, gdp_australia, 'b-', label='Australia')\n",
    "plt.plot(years, gdp_nz, 'g-', label='New Zealand')\n",
    "\n",
    "# Create legend.\n",
    "plt.legend(loc='upper left')\n",
    "plt.xlabel('Year')\n",
    "plt.ylabel('GDP per capita ($)')"
   ]
  },
  {
   "cell_type": "markdown",
   "id": "04e77c88-d985-47c9-a9e4-a74a0313b24d",
   "metadata": {},
   "source": [
    "---\n",
    "### Adding a Legend"
   ]
  },
  {
   "cell_type": "markdown",
   "id": "4ac99d4a-8488-4105-bdfb-c2e80516473f",
   "metadata": {},
   "source": [
    "> Often when plotting multiple datasets on the same figure it is desirable to have \n",
    "> a legend describing the data.\n",
    ">\n",
    "> This can be done in `matplotlib` in two stages:\n",
    "> \n"
   ]
  },
  {
   "cell_type": "markdown",
   "id": "3a7cbcf5-674f-4a90-b897-3ac0a0262b69",
   "metadata": {},
   "source": [
    "> * Provide a label for each dataset in the figure:\n",
    ">\n",
    "> ~~~ python\n",
    "> plt.plot(years, gdp_australia, label='Australia')\n",
    "> plt.plot(years, gdp_nz, label='New Zealand')\n",
    "> ~~~\n",
    ">\n",
    "> * Instruct `matplotlib` to create the legend.\n",
    ">\n",
    "> ~~~ python\n",
    "> plt.legend()\n",
    "> ~~~"
   ]
  },
  {
   "cell_type": "markdown",
   "id": "afcc9465-6a7e-48e5-a4b2-2e7322f962a9",
   "metadata": {},
   "source": [
    ">\n",
    "> By default matplotlib will attempt to place the legend in a suitable position. If you\n",
    "> would rather specify a position this can be done with the `loc=` argument, e.g to place\n",
    "> the legend in the upper left corner of the plot, specify `loc='upper left'`\n",
    ">\n",
    "---"
   ]
  },
  {
   "cell_type": "code",
   "execution_count": null,
   "id": "051c9745-b12e-4af7-8812-f0654fb3e8e3",
   "metadata": {},
   "outputs": [],
   "source": [
    "plt.plot(years, gdp_australia, label='Australia')\n",
    "plt.plot(years, gdp_nz, label='New Zealand')\n",
    "plt.legend()"
   ]
  },
  {
   "cell_type": "markdown",
   "id": "604aeacd-5872-46ce-8849-78b957848cad",
   "metadata": {},
   "source": [
    "*   Plot a scatter plot correlating the GDP of Australia and New Zealand\n",
    "*   Use either `plt.scatter` or `DataFrame.plot.scatter`\n",
    "\n"
   ]
  },
  {
   "cell_type": "code",
   "execution_count": null,
   "id": "b97631ea-02c4-441a-a0f7-3f58081da936",
   "metadata": {},
   "outputs": [],
   "source": [
    "plt.scatter(gdp_australia, gdp_nz)"
   ]
  },
  {
   "cell_type": "code",
   "execution_count": null,
   "id": "d4787e2c-d48d-428b-81a7-42eea36d06d2",
   "metadata": {},
   "outputs": [],
   "source": [
    "data.T.plot.scatter(x = 'Australia', y = 'New Zealand')"
   ]
  },
  {
   "cell_type": "markdown",
   "id": "11322b22-cb32-455f-a089-5a491e887319",
   "metadata": {},
   "source": [
    "---\n",
    "### Minima and Maxima"
   ]
  },
  {
   "cell_type": "markdown",
   "id": "6b468460-fa45-4486-a25c-382a953d0198",
   "metadata": {},
   "source": [
    "> Fill in the blanks below to plot the minimum GDP per capita over time\n",
    "> for all the countries in Europe.\n",
    "> Modify it again to plot the maximum GDP per capita over time for Europe.\n",
    "> \n"
   ]
  },
  {
   "cell_type": "markdown",
   "id": "61ae4c76-8586-4251-9bda-aced3b58734d",
   "metadata": {},
   "source": [
    "> ~~~ python\n",
    "> data_europe = pd.read_csv('data/gapminder_gdp_europe.csv', index_col='country')\n",
    "> data_europe.____.plot(label='min')\n",
    "> data_europe.____\n",
    "> plt.legend(loc='best')\n",
    "> plt.xticks(rotation=90)\n",
    "> ~~~\n",
    ">\n"
   ]
  },
  {
   "cell_type": "markdown",
   "id": "0f67e24e-26cf-4926-8755-81a94db10177",
   "metadata": {
    "jp-MarkdownHeadingCollapsed": true,
    "tags": []
   },
   "source": [
    "### Solution"
   ]
  },
  {
   "cell_type": "code",
   "execution_count": null,
   "id": "78da30a7-64fe-4666-a83b-eb080b8beb64",
   "metadata": {},
   "outputs": [],
   "source": [
    "data_europe = pd.read_csv('data/gapminder_gdp_europe.csv', index_col='country')\n",
    "data_europe.min().plot(label='min')\n",
    "data_europe.max().plot(label='max')\n",
    "plt.legend(loc='best')\n",
    "plt.xticks(rotation=90)"
   ]
  },
  {
   "cell_type": "markdown",
   "id": "86fee970-07a0-4436-88cd-891238be4a58",
   "metadata": {},
   "source": [
    "---\n",
    "### Correlations"
   ]
  },
  {
   "cell_type": "markdown",
   "id": "eac8dbab-3fd3-43b9-9e01-f773e708cf1a",
   "metadata": {},
   "source": [
    "> Modify the example in the notes to create a scatter plot showing\n",
    "> the relationship between the minimum and maximum GDP per capita\n",
    "> among the countries in Asia for each year in the data set.\n",
    "> What relationship do you see (if any)?\n",
    ">\n",
    ">\n"
   ]
  },
  {
   "cell_type": "markdown",
   "id": "f6969ce9-5ee4-4a82-a381-b08b765e11b9",
   "metadata": {
    "jp-MarkdownHeadingCollapsed": true,
    "tags": []
   },
   "source": [
    "### Solution\n"
   ]
  },
  {
   "cell_type": "code",
   "execution_count": null,
   "id": "888bf180-cc15-4cb8-ab1e-cd4f3c80e099",
   "metadata": {},
   "outputs": [],
   "source": [
    "data_asia = pd.read_csv('data/gapminder_gdp_asia.csv', index_col='country')\n",
    "data_asia.describe().T.plot(kind='scatter', x='min', y='max')"
   ]
  },
  {
   "cell_type": "markdown",
   "id": "86030bb7-6ebb-4a36-89b9-b09416374824",
   "metadata": {},
   "source": [
    "> > No particular correlations can be seen between the minimum and maximum gdp values\n",
    "> > year on year. It seems the fortunes of asian countries do not rise and fall together.\n"
   ]
  },
  {
   "cell_type": "markdown",
   "id": "893869f9-423d-4c79-ab0d-ea0452133d60",
   "metadata": {},
   "source": [
    "###"
   ]
  },
  {
   "cell_type": "markdown",
   "id": "0c6cf50d-a4c2-42a0-a4fa-a6403c0097c4",
   "metadata": {},
   "source": [
    "> You might note that the variability in the maximum is much higher than\n",
    "> that of the minimum.  Take a look at the maximum and the max indexes:\n"
   ]
  },
  {
   "cell_type": "code",
   "execution_count": null,
   "id": "6dfa8fe1-b9ca-41b4-ba47-d950bf31329a",
   "metadata": {},
   "outputs": [],
   "source": [
    "data_asia = pd.read_csv('data/gapminder_gdp_asia.csv', index_col='country')\n",
    "data_asia.max().plot()\n",
    "print(data_asia.idxmax())\n",
    "print(data_asia.idxmin())"
   ]
  },
  {
   "cell_type": "markdown",
   "id": "d13ced3b-f8df-451d-8a56-6b2d1e38992b",
   "metadata": {
    "jp-MarkdownHeadingCollapsed": true,
    "tags": []
   },
   "source": [
    "### Solution\n"
   ]
  },
  {
   "cell_type": "markdown",
   "id": "29e047f8-668a-4a31-b27f-d15c92e520c3",
   "metadata": {},
   "source": [
    "> > Seems the variability in this value is due to a sharp drop after 1972.\n",
    "> > Some geopolitics at play perhaps? Given the dominance of oil producing countries,\n",
    "> > maybe the Brent crude index would make an interesting comparison?\n",
    "> > Whilst Myanmar consistently has the lowest gdp, the highest gdb nation has varied\n",
    "> > more notably."
   ]
  },
  {
   "cell_type": "markdown",
   "id": "5cd7f7d6-d189-4ccc-ad57-f446ad3611e1",
   "metadata": {},
   "source": [
    "---\n",
    "### More Correlations"
   ]
  },
  {
   "cell_type": "markdown",
   "id": "0fa521f6-0356-4708-8956-696da0c2dd4d",
   "metadata": {},
   "source": [
    "> This short program creates a plot showing\n",
    "> the correlation between GDP and life expectancy for 2007,\n",
    "> normalizing marker size by population:\n",
    ">\n"
   ]
  },
  {
   "cell_type": "code",
   "execution_count": null,
   "id": "ccb83780-1cf7-413f-b243-3fca0d37a64b",
   "metadata": {},
   "outputs": [],
   "source": [
    "data_all = pd.read_csv('data/gapminder_all.csv', index_col='country')\n",
    "data_all.plot(kind='scatter', x='gdpPercap_2007', y='lifeExp_2007',\n",
    "              s=data_all['pop_2007']/1e6)"
   ]
  },
  {
   "cell_type": "markdown",
   "id": "546b491b-00cc-4efe-9d7e-919fc8b9ad30",
   "metadata": {},
   "source": [
    "> Using online help and other resources,\n",
    "> explain what each argument to `plot` does.\n",
    ">\n"
   ]
  },
  {
   "cell_type": "markdown",
   "id": "226a6bd4-37d6-4ef8-9e3d-768547c642d7",
   "metadata": {
    "jp-MarkdownHeadingCollapsed": true,
    "tags": []
   },
   "source": [
    "### Solution"
   ]
  },
  {
   "cell_type": "markdown",
   "id": "1f9a293b-0815-4d8f-a948-40de52298097",
   "metadata": {},
   "source": [
    "> > A good place to look is the documentation for the plot function -\n",
    "> > `help(data_all.plot)`.\n",
    "> >\n",
    "> > kind - As seen already this determines the kind of plot to be drawn.\n",
    "> >\n",
    "> > x and y - A column name or index that determines what data will be\n",
    "> > placed on the x and y axes of the plot\n",
    "> >\n",
    "> > s - Details for this can be found in the documentation of plt.scatter.\n",
    "> > A single number or one value for each data point. Determines the size\n",
    "> > of the plotted points."
   ]
  },
  {
   "cell_type": "markdown",
   "id": "fd01c529-4cf6-4e92-84d6-b77785e7942a",
   "metadata": {},
   "source": [
    "---\n",
    "### Saving your plot to a file"
   ]
  },
  {
   "cell_type": "markdown",
   "id": "fdc85041-cc82-4240-a31a-535791504aff",
   "metadata": {},
   "source": [
    "> If you are satisfied with the plot you see you may want to save it to a file,\n",
    "> perhaps to include it in a publication. There is a function in the\n",
    "> matplotlib.pyplot module that accomplishes this:\n",
    "> [savefig](https://matplotlib.org/api/_as_gen/matplotlib.pyplot.savefig.html).\n",
    "> Calling this function, e.g. with\n"
   ]
  },
  {
   "cell_type": "markdown",
   "id": "692af367-d7c3-4db5-9ffc-01bd1d052b68",
   "metadata": {},
   "source": [
    "> ~~~ python\n",
    "> plt.savefig('my_figure.png')\n",
    "> ~~~\n",
    ">"
   ]
  },
  {
   "cell_type": "markdown",
   "id": "53bf85a5-24ee-4cd1-b5a9-202399a18f59",
   "metadata": {},
   "source": [
    "> will save the current figure to the file `my_figure.png`. The file format\n",
    "> will automatically be deduced from the file name extension (other formats\n",
    "> are pdf, ps, eps and svg).\n",
    ">\n",
    "> Note that functions in `plt` refer to a global figure variable\n",
    "> and after a figure has been displayed to the screen (e.g. with `plt.show`) \n",
    "> matplotlib will make this  variable refer to a new empty figure.\n",
    "> Therefore, make sure you call `plt.savefig` before the plot is displayed to\n",
    "> the screen, otherwise you may find a file with an empty plot.\n",
    ">\n",
    "> When using dataframes, data is often generated and plotted to screen in one line,\n",
    "> and `plt.savefig` seems not to be a possible approach.\n",
    "> One possibility to save the figure to file is then to\n",
    ">\n",
    "> * save a reference to the current figure in a local variable (with `plt.gcf`) \n",
    "> * call the `savefig` class method from that variable.\n",
    ">\n"
   ]
  },
  {
   "cell_type": "markdown",
   "id": "2087e031-6447-43a2-bdc3-10193e3eedb9",
   "metadata": {},
   "source": [
    "> ~~~ python\n",
    "> data.plot(kind='bar')\n",
    "> fig = plt.gcf() # get current figure\n",
    "> fig.savefig('my_figure.png')\n",
    "> ~~~"
   ]
  },
  {
   "cell_type": "markdown",
   "id": "aea2f340-3c5a-40d9-afb9-1dbfa3795006",
   "metadata": {},
   "source": [
    "---\n",
    "### Making your plots accessible"
   ]
  },
  {
   "cell_type": "markdown",
   "id": "2718e33a-c427-411f-a5d8-34aae87d5861",
   "metadata": {},
   "source": [
    "> Whenever you are generating plots to go into a paper or a presentation, there are a few things you can do to make sure that everyone can understand your plots.\n",
    "> * Always make sure your text is large enough to read. Use the `fontsize` parameter in `xlabel`, `ylabel`, `title`, and `legend`, and [`tick_params` with `labelsize`](https://matplotlib.org/2.1.1/api/_as_gen/matplotlib.pyplot.tick_params.html) to increase the text size of the numbers on your axes.\n",
    "> * Similarly, you should make your graph elements easy to see. Use `s` to increase the size of your scatterplot markers and `linewidth` to increase the sizes of your plot lines.\n",
    "> * Using color (and nothing else) to distinguish between different plot elements will make your plots unreadable to anyone who is colorblind, or who happens to have a black-and-white office printer. For lines, the `linestyle` parameter lets you use different types of lines. For scatterplots, `marker` lets you change the shape of your points. If you're unsure about your colors, you can use [Coblis](https://www.color-blindness.com/coblis-color-blindness-simulator/) or [Color Oracle](https://colororacle.org/) to simulate what your plots would look like to those with colorblindness."
   ]
  },
  {
   "cell_type": "markdown",
   "id": "f0926f18-1c76-44ca-853e-daccb9bef9a7",
   "metadata": {},
   "source": [
    "---\n",
    "## Keypoints:\n",
    "- \"[`matplotlib`](https://matplotlib.org/) is the most widely used scientific plotting library in Python.\"\n",
    "- \"Plot data directly from a Pandas dataframe.\"\n",
    "- \"Select and transform data, then plot it.\"\n",
    "- \"Many styles of plot are available: see the [Python Graph Gallery](https://python-graph-gallery.com/matplotlib/) for more options.\"\n",
    "- \"Can plot many sets of data together.\"\n",
    "---"
   ]
  },
  {
   "cell_type": "markdown",
   "id": "8c389a0d-2044-4fa8-b05a-7894bf6c1208",
   "metadata": {},
   "source": [
    "*This course material was created from the [Plotting and Programming in Python](http://swcarpentry.github.io/python-novice-gapminder/) curriculum developed by [The Software Carpentry Foundation](https://software-carpentry.org/) of [The Carpentries](https://carpentries.org/) licensed under [CC-BY 4.0](https://creativecommons.org/licenses/by/4.0/)*"
   ]
  }
 ],
 "metadata": {
  "kernelspec": {
   "display_name": "Python 3 (ipykernel)",
   "language": "python",
   "name": "python3"
  },
  "language_info": {
   "codemirror_mode": {
    "name": "ipython",
    "version": 3
   },
   "file_extension": ".py",
   "mimetype": "text/x-python",
   "name": "python",
   "nbconvert_exporter": "python",
   "pygments_lexer": "ipython3",
   "version": "3.9.12"
  }
 },
 "nbformat": 4,
 "nbformat_minor": 5
}
