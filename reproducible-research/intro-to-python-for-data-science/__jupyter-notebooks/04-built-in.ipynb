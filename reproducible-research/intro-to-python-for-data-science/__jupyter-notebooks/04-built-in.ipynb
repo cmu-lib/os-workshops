{
 "cells": [
  {
   "cell_type": "markdown",
   "id": "d9b94da2-9e2d-4d09-9baa-689e1f069d55",
   "metadata": {},
   "source": [
    "# Built-in Functions and Help"
   ]
  },
  {
   "cell_type": "markdown",
   "id": "d59336c6-1b9a-46d1-86dc-fa26ab4dcaeb",
   "metadata": {},
   "source": [
    "---\n",
    "## Overview\n",
    "\n",
    "Teaching: 15 minutes\n",
    "\n",
    "Exercises: 10 minutes\n",
    "\n",
    "### Questions:\n",
    "- \"How can I use built-in functions?\"\n",
    "- \"How can I find out what they do?\"\n",
    "- \"What kind of errors can occur in programs?\"\n",
    "\n",
    "### Objectives:\n",
    "- \"Explain the purpose of functions.\"\n",
    "- \"Correctly call built-in Python functions.\"\n",
    "- \"Correctly nest calls to built-in functions.\"\n",
    "- \"Use help to display documentation for built-in functions.\"\n",
    "- \"Correctly describe situations in which SyntaxError and NameError occur.\"\n",
    "---"
   ]
  },
  {
   "cell_type": "markdown",
   "id": "3ab98d38-97c1-4310-be01-d0bc6d3ee6c4",
   "metadata": {},
   "source": [
    "## Use comments to add documentation to programs.\n",
    "\n"
   ]
  },
  {
   "cell_type": "code",
   "execution_count": null,
   "id": "31cde070-c116-4688-b180-c9a5dae96b5a",
   "metadata": {},
   "outputs": [],
   "source": [
    "# This sentence isn't executed by Python.\n",
    "adjustment = 0.5   # Neither is this - anything after '#' is ignored."
   ]
  },
  {
   "cell_type": "markdown",
   "id": "6804ea95-4947-449b-b75e-72cd15a7e5f1",
   "metadata": {},
   "source": [
    "## A function may take zero or more arguments.\n",
    "\n"
   ]
  },
  {
   "cell_type": "markdown",
   "id": "a2207c26-1377-4eb4-8da5-ab80ed20b3fd",
   "metadata": {},
   "source": [
    "*   We have seen some functions already --- now let's take a closer look.\n",
    "*   An *argument* is a value passed into a function.\n",
    "*   `len` takes exactly one.\n",
    "*   `int`, `str`, and `float` create a new value from an existing one.\n",
    "*   `print` takes zero or more.\n",
    "*   `print` with no arguments prints a blank line.\n",
    "    *   Must always use parentheses, even if they're empty,\n",
    "        so that Python knows a function is being called.\n",
    "\n"
   ]
  },
  {
   "cell_type": "code",
   "execution_count": null,
   "id": "4e66b55c-7a98-4b7c-80f0-05afbe6ac254",
   "metadata": {},
   "outputs": [],
   "source": [
    "print('before')\n",
    "print()\n",
    "print('after')"
   ]
  },
  {
   "cell_type": "markdown",
   "id": "d2dff4af-b913-47aa-93a6-df9b6ebd5ae9",
   "metadata": {},
   "source": [
    "## Every function returns something.\n",
    "\n"
   ]
  },
  {
   "cell_type": "markdown",
   "id": "0c4338e8-e5c7-49d4-b233-548623940dfe",
   "metadata": {},
   "source": [
    "*   Every function call produces some result.\n",
    "*   If the function doesn't have a useful result to return,\n",
    "    it usually returns the special value `None`. `None` is a Python\n",
    "    object that stands in anytime there is no value.\n",
    "\n"
   ]
  },
  {
   "cell_type": "code",
   "execution_count": null,
   "id": "200a42e4-9254-4455-a46b-d70893a531ee",
   "metadata": {},
   "outputs": [],
   "source": [
    "result = print('example')\n",
    "print('result of print is', result)"
   ]
  },
  {
   "cell_type": "markdown",
   "id": "e79ed0fd-9ba3-4293-a47b-d4732c988e3f",
   "metadata": {},
   "source": [
    "## Commonly-used built-in functions include `max`, `min`, and `round`.\n",
    "\n"
   ]
  },
  {
   "cell_type": "markdown",
   "id": "204eb57e-ba9b-4643-8ffd-bf081a945780",
   "metadata": {},
   "source": [
    "*   Use `max` to find the largest value of one or more values.\n",
    "*   Use `min` to find the smallest.\n",
    "*   Both work on character strings as well as numbers.\n",
    "    *   \"Larger\" and \"smaller\" use (0-9, A-Z, a-z) to compare letters.\n",
    "\n"
   ]
  },
  {
   "cell_type": "code",
   "execution_count": null,
   "id": "13c5f682-83ac-4221-83b6-b9277a89b2f8",
   "metadata": {},
   "outputs": [],
   "source": [
    "print(max(1, 2, 3))\n",
    "print(min('a', 'A', '0'))"
   ]
  },
  {
   "cell_type": "markdown",
   "id": "7ec29693-df7d-46d2-bbf7-1cab72f071c6",
   "metadata": {},
   "source": [
    "## Functions may only work for certain (combinations of) arguments.\n",
    "\n"
   ]
  },
  {
   "cell_type": "markdown",
   "id": "e769933e-ba00-4a64-aafe-ee30c575214c",
   "metadata": {},
   "source": [
    "*   `max` and `min` must be given at least one argument.\n",
    "    *   \"Largest of the empty set\" is a meaningless question.\n",
    "*   And they must be given things that can meaningfully be compared.\n",
    "\n"
   ]
  },
  {
   "cell_type": "code",
   "execution_count": null,
   "id": "9ad3ba5e-1b6a-4f14-9860-b66cf4d482dc",
   "metadata": {},
   "outputs": [],
   "source": [
    "print(max(1, 'a'))"
   ]
  },
  {
   "cell_type": "markdown",
   "id": "0dbd8f10-b3df-4551-989c-9d4817692191",
   "metadata": {},
   "source": [
    "## Functions may have default values for some arguments.\n",
    "\n"
   ]
  },
  {
   "cell_type": "markdown",
   "id": "d58c2d16-0792-4b3b-a62f-8c834f7594ac",
   "metadata": {},
   "source": [
    "*   `round` will round off a floating-point number.\n",
    "*   By default, rounds to zero decimal places.\n",
    "\n"
   ]
  },
  {
   "cell_type": "code",
   "execution_count": null,
   "id": "565a8d26-ccb3-47ce-89d9-479e053d5df6",
   "metadata": {},
   "outputs": [],
   "source": [
    "round(3.712)"
   ]
  },
  {
   "cell_type": "markdown",
   "id": "21feae56-5d96-4a23-a11b-a989ee35fbdf",
   "metadata": {},
   "source": [
    "*   We can specify the number of decimal places we want.\n",
    "\n"
   ]
  },
  {
   "cell_type": "code",
   "execution_count": null,
   "id": "2d5caa66-9f11-4cf5-9e1c-27358bdea95d",
   "metadata": {},
   "outputs": [],
   "source": [
    "round(3.712, 1)"
   ]
  },
  {
   "cell_type": "markdown",
   "id": "f4783118-196e-4347-bf9c-348dbcc6477c",
   "metadata": {},
   "source": [
    "## Functions attached to objects are called methods\n",
    "\n"
   ]
  },
  {
   "cell_type": "markdown",
   "id": "c5afeabf-1752-42b7-8896-88e21cb40e0a",
   "metadata": {},
   "source": [
    "* Functions take another form that will be common in the pandas episodes.\n",
    "* Methods have parentheses like functions, but come after the variable.\n",
    "* Some methods are used for internal Python operations, and are marked with double underlines.\n",
    "\n"
   ]
  },
  {
   "cell_type": "code",
   "execution_count": null,
   "id": "0d32e0df-fbce-432e-8ea0-854b68cdc986",
   "metadata": {},
   "outputs": [],
   "source": [
    "my_string = 'Hello world!'  # creation of a string object \n",
    "\n",
    "print(len(my_string))       # the len function takes a string as an argument and returns the length of the string\n",
    "\n",
    "print(my_string.swapcase()) # calling the swapcase method on the my_string object\n",
    "\n",
    "print(my_string.__len__())  # calling the internal __len__ method on the my_string object, used by len(my_string)"
   ]
  },
  {
   "cell_type": "markdown",
   "id": "a27b5f18-c63b-4d3b-8c16-c733787eeb75",
   "metadata": {},
   "source": [
    "* You might even see them chained together.  They operate left to right.\n",
    "\n"
   ]
  },
  {
   "cell_type": "code",
   "execution_count": null,
   "id": "f9160d4b-28a2-46e8-a907-9a0e8ae819f0",
   "metadata": {},
   "outputs": [],
   "source": [
    "print(my_string.isupper())          # Not all the letters are uppercase\n",
    "print(my_string.upper())            # This capitalizes all the letters\n",
    "\n",
    "print(my_string.upper().isupper())  # Now all the letters are uppercase"
   ]
  },
  {
   "cell_type": "markdown",
   "id": "52df6664-88ef-478a-b20c-daa993c77c6a",
   "metadata": {},
   "source": [
    "## Use the built-in function `help` to get help for a function.\n",
    "\n"
   ]
  },
  {
   "cell_type": "markdown",
   "id": "d1e85cdb-b5bc-45d3-8e86-d1ecc94eeb86",
   "metadata": {},
   "source": [
    "*   Every built-in function has online documentation.\n",
    "\n"
   ]
  },
  {
   "cell_type": "code",
   "execution_count": null,
   "id": "62f4fd87-6bfc-44fe-98a4-c55d0dd1fac5",
   "metadata": {},
   "outputs": [],
   "source": [
    "help(round)"
   ]
  },
  {
   "cell_type": "markdown",
   "id": "3e70eafe-6ae3-4d47-9ce3-e09660f4877b",
   "metadata": {},
   "source": [
    "## The Jupyter Notebook has two ways to get help.\n",
    "\n"
   ]
  },
  {
   "cell_type": "markdown",
   "id": "96ecef97-605b-412b-baed-35e0e233b62e",
   "metadata": {},
   "source": [
    "*   Option 1: Place the cursor near where the function is invoked in a cell\n",
    "    (i.e., the function name or its parameters),\n",
    "    * Hold down <kbd>Shift</kbd>, and press <kbd>Tab</kbd>.\n",
    "    * Do this several times to expand the information returned.\n",
    "*   Option 2: Type the function name in a cell with a question mark after it. Then run the cell.\n",
    "\n",
    "\n"
   ]
  },
  {
   "cell_type": "markdown",
   "id": "3e0e71a2-5784-42fe-871e-8f28d79ab2b4",
   "metadata": {},
   "source": [
    "## Python reports a syntax error when it can't understand the source of a program.\n",
    "\n"
   ]
  },
  {
   "cell_type": "markdown",
   "id": "64f12523-06f0-4152-bf2d-66fb7903ae73",
   "metadata": {},
   "source": [
    "*   Won't even try to run the program if it can't be parsed.\n",
    "\n"
   ]
  },
  {
   "cell_type": "code",
   "execution_count": null,
   "id": "388c524a-077a-49fc-96ea-01e60f30a9b7",
   "metadata": {},
   "outputs": [],
   "source": [
    "# Forgot to close the quote marks around the string.\n",
    "name = 'Feng"
   ]
  },
  {
   "cell_type": "code",
   "execution_count": null,
   "id": "54e6319e-1a41-4935-a2f3-287725b680a9",
   "metadata": {},
   "outputs": [],
   "source": [
    "# An extra '=' in the assignment.\n",
    "age = = 52"
   ]
  },
  {
   "cell_type": "markdown",
   "id": "9915732b-b0e5-4f50-a979-3e2f3bf29657",
   "metadata": {},
   "source": [
    "*   Look more closely at the error message:\n",
    "\n"
   ]
  },
  {
   "cell_type": "code",
   "execution_count": null,
   "id": "0477cf36-0ce7-40e4-915a-39f3b7ecd3e7",
   "metadata": {},
   "outputs": [],
   "source": [
    "print(\"hello world\""
   ]
  },
  {
   "cell_type": "markdown",
   "id": "b3ff57f4-cbf3-42ac-b37b-48c08c1fb875",
   "metadata": {},
   "source": [
    "*   The message indicates a problem on first line of the input (\"line 1\").\n",
    "    *   In this case the \"ipython-input\" section of the file name tells us that\n",
    "        we are working with input into IPython,\n",
    "        the Python interpreter used by the Jupyter Notebook.\n",
    "*   The `-6-` part of the filename indicates that\n",
    "    the error occurred in cell 6 of our Notebook.\n",
    "*   Next is the problematic line of code,\n",
    "    indicating the problem with a `^` pointer.\n",
    "\n"
   ]
  },
  {
   "cell_type": "markdown",
   "id": "e1cfc7d0-1d3e-4aa1-b182-bf03fa93c886",
   "metadata": {},
   "source": [
    "## <a name='runtime-error'></a> Python reports a runtime error when something goes wrong while a program is executing.\n",
    "\n"
   ]
  },
  {
   "cell_type": "code",
   "execution_count": null,
   "id": "986c0ba5-48ac-44c4-85eb-67ddb3487bf3",
   "metadata": {},
   "outputs": [],
   "source": [
    "age = 53\n",
    "remaining = 100 - aege # mis-spelled 'age'"
   ]
  },
  {
   "cell_type": "markdown",
   "id": "4ce27e57-a418-4327-b67d-613d8a9d359d",
   "metadata": {},
   "source": [
    "*   Fix syntax errors by reading the source and runtime errors by tracing execution.\n",
    "\n"
   ]
  },
  {
   "cell_type": "markdown",
   "id": "239f4489-4a1b-4ae0-bc05-d45fa092e458",
   "metadata": {},
   "source": [
    "---\n",
    "### What Happens When"
   ]
  },
  {
   "cell_type": "markdown",
   "id": "3f50e3db-f08d-4052-a317-1ca26864b502",
   "metadata": {},
   "source": [
    "> 1. Explain in simple terms the order of operations in the following program:\n",
    ">    when does the addition happen, when does the subtraction happen,\n",
    ">    when is each function called, etc.\n",
    "> 2. What is the final value of `radiance`?\n",
    ">\n"
   ]
  },
  {
   "cell_type": "markdown",
   "id": "261db6be-bdd3-477a-ab9f-89d0f519ee60",
   "metadata": {},
   "source": [
    "> ~~~ python\n",
    "> radiance = 1.0\n",
    "> radiance = max(2.1, 2.0 + min(radiance, 1.1 * radiance - 0.5))\n",
    "> ~~~"
   ]
  },
  {
   "cell_type": "markdown",
   "id": "e7276a9a-bf85-459b-8ba6-806571ff9f0a",
   "metadata": {
    "jp-MarkdownHeadingCollapsed": true,
    "tags": []
   },
   "source": [
    "### Solution"
   ]
  },
  {
   "cell_type": "code",
   "execution_count": null,
   "id": "0105f51a-b2f0-4007-82d2-ec126100fed2",
   "metadata": {},
   "outputs": [],
   "source": [
    "radiance = 1.0\n",
    "radiance = max(2.1, 2.0 + min(radiance, 1.1 * radiance - 0.5))"
   ]
  },
  {
   "cell_type": "markdown",
   "id": "84d0a385-684d-46d2-b6a7-051bb19c013a",
   "metadata": {},
   "source": [
    "> > 1. Order of operations:\n",
    "> >    1. `1.1 * radiance = 1.1`\n",
    "> >    2. `1.1 - 0.5 = 0.6`\n",
    "> >    3. `min(radiance, 0.6) = 0.6`\n",
    "> >    4. `2.0 + 0.6 = 2.6`\n",
    "> >    5. `max(2.1, 2.6) = 2.6`\n",
    "> > 2. At the end, `radiance = 2.6`"
   ]
  },
  {
   "cell_type": "markdown",
   "id": "77ca0590-b816-400c-9186-bcd1e4db6278",
   "metadata": {},
   "source": [
    "---\n",
    "### Spot the Difference"
   ]
  },
  {
   "cell_type": "markdown",
   "id": "ec3420b6-1d77-4111-864d-549b0fcc5688",
   "metadata": {},
   "source": [
    "> 1. Predict what each of the `print` statements in the program below will print.\n",
    "> 2. Does `max(len(rich), poor)` run or produce an error message?\n",
    ">    If it runs, does its result make any sense?\n",
    ">"
   ]
  },
  {
   "cell_type": "markdown",
   "id": "61a85fad-8b42-4183-abc3-b7ab49ca7ba2",
   "metadata": {},
   "source": [
    "> ~~~ python\n",
    "> easy_string = \"abc\"\n",
    "> print(max(easy_string))\n",
    "> rich = \"gold\"\n",
    "> poor = \"tin\"\n",
    "> print(max(rich, poor))\n",
    "> print(max(len(rich), len(poor)))\n",
    "> ~~~"
   ]
  },
  {
   "cell_type": "markdown",
   "id": "09edcd27-0ad2-4196-bd48-a8ec2607b9de",
   "metadata": {
    "jp-MarkdownHeadingCollapsed": true,
    "tags": []
   },
   "source": [
    "### Solution"
   ]
  },
  {
   "cell_type": "code",
   "execution_count": null,
   "id": "29404160-2da6-4cdd-ae1b-25853d85deb6",
   "metadata": {},
   "outputs": [],
   "source": [
    "easy_string = \"abc\"\n",
    "rich = \"gold\"\n",
    "poor = \"tin\""
   ]
  },
  {
   "cell_type": "code",
   "execution_count": null,
   "id": "71dc974c-427b-4b1c-a89c-80563f1e85e6",
   "metadata": {},
   "outputs": [],
   "source": [
    "print(max(easy_string))"
   ]
  },
  {
   "cell_type": "code",
   "execution_count": null,
   "id": "5c299082-9aa7-4785-8aa7-c1214dd6e6a2",
   "metadata": {},
   "outputs": [],
   "source": [
    "print(max(rich, poor))"
   ]
  },
  {
   "cell_type": "code",
   "execution_count": null,
   "id": "39c131df-f832-4763-bfed-031553589f7c",
   "metadata": {},
   "outputs": [],
   "source": [
    "print(max(len(rich), len(poor)))"
   ]
  },
  {
   "cell_type": "markdown",
   "id": "294c0bf3-f52b-4a71-9354-679d1c470b02",
   "metadata": {},
   "source": [
    "> > `max(len(rich), poor)` throws a TypeError. This turns into `max(4, 'tin')` and \n",
    "> > as we discussed earlier a string and integer cannot meaningfully be compared."
   ]
  },
  {
   "cell_type": "code",
   "execution_count": null,
   "id": "beec5c82-37d3-4dcf-9d3b-b5e442ff2690",
   "metadata": {},
   "outputs": [],
   "source": [
    "max(len(rich), poor)"
   ]
  },
  {
   "cell_type": "markdown",
   "id": "3daa1e2a-198f-4724-b21d-86df162804fc",
   "metadata": {},
   "source": [
    "---\n",
    "### Why Not?"
   ]
  },
  {
   "cell_type": "markdown",
   "id": "f07664bc-b773-45b2-9029-166e70101cf8",
   "metadata": {},
   "source": [
    "> Why is it that `max` and `min` do not return `None` when they are called with no arguments?\n",
    ">\n"
   ]
  },
  {
   "cell_type": "markdown",
   "id": "7a98086f-c387-420b-8a03-1d117afb1d99",
   "metadata": {
    "jp-MarkdownHeadingCollapsed": true,
    "tags": []
   },
   "source": [
    "### Solution"
   ]
  },
  {
   "cell_type": "code",
   "execution_count": null,
   "id": "77a0cc5c-3de5-440e-9b29-4e25bde627fb",
   "metadata": {},
   "outputs": [],
   "source": [
    "max()"
   ]
  },
  {
   "cell_type": "code",
   "execution_count": null,
   "id": "45d65876-59cd-4ed7-a915-3b1c68cd0588",
   "metadata": {},
   "outputs": [],
   "source": [
    "min()"
   ]
  },
  {
   "cell_type": "markdown",
   "id": "88faeba0-61a9-4844-81df-63c1688ebe03",
   "metadata": {},
   "source": [
    "> > `max` and `min` return TypeErrors in this case because the correct number of parameters\n",
    "> > was not supplied. If it just returned `None`, the error would be much harder to trace as it\n",
    "> > would likely be stored into a variable and used later in the program, only to likely throw\n",
    "> > a runtime error."
   ]
  },
  {
   "cell_type": "markdown",
   "id": "11278ae9-9d63-499a-b3f9-80a7f56a7441",
   "metadata": {},
   "source": [
    "---\n",
    "### Last Character of a String"
   ]
  },
  {
   "cell_type": "markdown",
   "id": "16bdc575-3185-44a7-a6dc-e2c98c648fca",
   "metadata": {},
   "source": [
    "> If Python starts counting from zero,\n",
    "> and `len` returns the number of characters in a string,\n",
    "> what index expression will get the last character in the string `name`?\n",
    "> (Note: we will see a simpler way to do this in a later episode.)\n",
    ">"
   ]
  },
  {
   "cell_type": "markdown",
   "id": "356939df-e99f-4ab8-b309-e5603f26da99",
   "metadata": {
    "jp-MarkdownHeadingCollapsed": true,
    "tags": []
   },
   "source": [
    "### Solution"
   ]
  },
  {
   "cell_type": "markdown",
   "id": "78b05caf-e7a9-46ee-86f9-79f3fe585b3f",
   "metadata": {},
   "source": [
    "> > `name[len(name) - 1]`"
   ]
  },
  {
   "cell_type": "markdown",
   "id": "297f72c8-7ff8-4266-ab8f-6b57a946c753",
   "metadata": {},
   "source": [
    "---\n",
    "### Explore the Python docs!"
   ]
  },
  {
   "cell_type": "markdown",
   "id": "5b6def41-a232-4b2b-84f0-630c6a7fd420",
   "metadata": {},
   "source": [
    "> The [official Python documentation](https://docs.python.org/3/) is arguably the most complete\n",
    "> source of information about the language. It is available in different languages and contains a lot of useful\n",
    "> resources. The [Built-in Functions page](https://docs.python.org/3/library/functions.html) contains a catalogue of\n",
    "> all of these functions, including the ones that we've covered in this lesson. Some of these are more advanced and \n",
    "> unnecessary at the moment, but others are very simple and useful.\n",
    "> "
   ]
  },
  {
   "cell_type": "markdown",
   "id": "0477ba5c-2e82-464c-a102-547ec60640ed",
   "metadata": {},
   "source": [
    "---\n",
    "## Keypoints:\n",
    "- \"Use comments to add documentation to programs.\"\n",
    "- \"A function may take zero or more arguments.\"\n",
    "- \"Commonly-used built-in functions include `max`, `min`, and `round`.\"\n",
    "- \"Functions may only work for certain (combinations of) arguments.\"\n",
    "- \"Functions may have default values for some arguments.\"\n",
    "- \"Use the built-in function `help` to get help for a function.\"\n",
    "- \"The Jupyter Notebook has two ways to get help.\"\n",
    "- \"Every function returns something.\"\n",
    "- \"Python reports a syntax error when it can't understand the source of a program.\"\n",
    "- \"Python reports a runtime error when something goes wrong while a program is executing.\"\n",
    "- \"Fix syntax errors by reading the source code, and runtime errors by tracing the program's execution.\"\n",
    "---"
   ]
  },
  {
   "cell_type": "markdown",
   "id": "b22b3313-039f-4d73-b5a8-69b5619f5baf",
   "metadata": {},
   "source": [
    "*This course material was created from the [Plotting and Programming in Python](http://swcarpentry.github.io/python-novice-gapminder/) curriculum developed by [The Software Carpentry Foundation](https://software-carpentry.org/) of [The Carpentries](https://carpentries.org/) licensed under [CC-BY 4.0](https://creativecommons.org/licenses/by/4.0/)*"
   ]
  }
 ],
 "metadata": {
  "kernelspec": {
   "display_name": "Python 3 (ipykernel)",
   "language": "python",
   "name": "python3"
  },
  "language_info": {
   "codemirror_mode": {
    "name": "ipython",
    "version": 3
   },
   "file_extension": ".py",
   "mimetype": "text/x-python",
   "name": "python",
   "nbconvert_exporter": "python",
   "pygments_lexer": "ipython3",
   "version": "3.9.12"
  }
 },
 "nbformat": 4,
 "nbformat_minor": 5
}
