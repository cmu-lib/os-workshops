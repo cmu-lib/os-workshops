{
 "cells": [
  {
   "cell_type": "markdown",
   "id": "4db71dea-861c-4051-a11b-dff93c2ce23d",
   "metadata": {},
   "source": [
    "# Data Types and Type Conversion"
   ]
  },
  {
   "cell_type": "markdown",
   "id": "7dcad40c-0f9c-4423-b20c-2f8fea230260",
   "metadata": {},
   "source": [
    "---\n",
    "## Overview\n",
    "\n",
    "Teaching: 10 minutes\n",
    "\n",
    "Exercises: 10 minutes\n",
    "\n",
    "### Questions:\n",
    "- \"What kinds of data do programs store?\"\n",
    "- \"How can I convert one type to another?\"\n",
    "\n",
    "### Objectives:\n",
    "- \"Explain key differences between integers and floating point numbers.\"\n",
    "- \"Explain key differences between numbers and character strings.\"\n",
    "- \"Use built-in functions to convert between integers, floating point numbers, and strings.\"\n",
    "---"
   ]
  },
  {
   "cell_type": "markdown",
   "id": "44afb01b-3dbc-4c64-8abc-636658cc46ac",
   "metadata": {},
   "source": [
    "## Every value has a type.\n",
    "\n"
   ]
  },
  {
   "cell_type": "markdown",
   "id": "30549b90-1ea7-4bd1-8e6a-8ef4c17263f9",
   "metadata": {},
   "source": [
    "*   Every value in a program has a specific type.\n",
    "*   Integer (`int`): represents positive or negative whole numbers like 3 or -512.\n",
    "*   Floating point number (`float`): represents real numbers like 3.14159 or -2.5.\n",
    "*   Character string (usually called \"string\", `str`): text.\n",
    "    *   Written in either single quotes or double quotes (as long as they match).\n",
    "    *   The quote marks aren't printed when the string is displayed."
   ]
  },
  {
   "cell_type": "markdown",
   "id": "644f82c6-508c-41ca-98f8-08ea7e989ae5",
   "metadata": {},
   "source": [
    "## Use the built-in function `type` to find the type of a value.\n",
    "\n"
   ]
  },
  {
   "cell_type": "markdown",
   "id": "cff0bf64-69f2-4481-b639-3ea2c19ff53a",
   "metadata": {},
   "source": [
    "*   Use the built-in function `type` to find out what type a value has.\n",
    "*   Works on variables as well.\n",
    "    *   But remember: the *value* has the type --- the *variable* is just a label.\n",
    "\n"
   ]
  },
  {
   "cell_type": "code",
   "execution_count": null,
   "id": "6b4a5cac-22b8-436d-b4e6-c2ff55b6312f",
   "metadata": {},
   "outputs": [],
   "source": [
    "print(type(52))"
   ]
  },
  {
   "cell_type": "code",
   "execution_count": null,
   "id": "df470178-a736-43b6-a211-639eba2db12e",
   "metadata": {},
   "outputs": [],
   "source": [
    "fitness = 'average'\n",
    "print(type(fitness))"
   ]
  },
  {
   "cell_type": "markdown",
   "id": "37826bc1-bc07-43e5-9042-de801a546892",
   "metadata": {},
   "source": [
    "## Types control what operations (or methods) can be performed on a given value.\n",
    "\n"
   ]
  },
  {
   "cell_type": "markdown",
   "id": "f83fc15b-5ece-4798-bd4b-42fb9a447f18",
   "metadata": {},
   "source": [
    "*   A value's type determines what the program can do to it.\n",
    "\n"
   ]
  },
  {
   "cell_type": "code",
   "execution_count": null,
   "id": "c8da2901-17d7-4c0f-a95e-e8c8be1a233f",
   "metadata": {},
   "outputs": [],
   "source": [
    "print(5 - 3)"
   ]
  },
  {
   "cell_type": "code",
   "execution_count": null,
   "id": "3253e867-cbdb-44f0-b110-4ccce0acc3cc",
   "metadata": {},
   "outputs": [],
   "source": [
    "print('hello' - 'h')"
   ]
  },
  {
   "cell_type": "markdown",
   "id": "89c89a5b-f7f6-41e4-9452-e05c4a156c83",
   "metadata": {},
   "source": [
    "## You can use the \"+\" and \"*\" operators on strings.\n",
    "\n"
   ]
  },
  {
   "cell_type": "markdown",
   "id": "cf422e3d-84aa-423d-b288-751aa8b2c8c3",
   "metadata": {},
   "source": [
    "*   \"Adding\" character strings concatenates them.\n",
    "\n"
   ]
  },
  {
   "cell_type": "code",
   "execution_count": null,
   "id": "05a734b3-5c7e-4c0e-bfd4-ef7ca189ad1a",
   "metadata": {},
   "outputs": [],
   "source": [
    "full_name = 'Ahmed' + ' ' + 'Walsh'\n",
    "print(full_name)"
   ]
  },
  {
   "cell_type": "markdown",
   "id": "5f458bed-b61d-4a18-aa4c-bb38b0eb6300",
   "metadata": {},
   "source": [
    "*   Multiplying a character string by an integer _N_ creates a new string that consists of that character string repeated  _N_ times.\n",
    "    *   Since multiplication is repeated addition.\n",
    "\n"
   ]
  },
  {
   "cell_type": "code",
   "execution_count": null,
   "id": "030ecc9a-2231-471a-b74a-3b5582d55f07",
   "metadata": {},
   "outputs": [],
   "source": [
    "separator = '=' * 10\n",
    "print(separator)"
   ]
  },
  {
   "cell_type": "markdown",
   "id": "514a1065-40f9-4a56-8e73-e70b63a3b897",
   "metadata": {},
   "source": [
    "## Strings have a length (but numbers don't).\n",
    "\n"
   ]
  },
  {
   "cell_type": "markdown",
   "id": "153caebf-3276-44a4-b8b6-875099a60d46",
   "metadata": {},
   "source": [
    "*   The built-in function `len` counts the number of characters in a string.\n",
    "\n"
   ]
  },
  {
   "cell_type": "code",
   "execution_count": null,
   "id": "2ec7c528-ffd9-4b6b-82ae-258603f94431",
   "metadata": {},
   "outputs": [],
   "source": [
    "print(len(full_name))"
   ]
  },
  {
   "cell_type": "markdown",
   "id": "4ea43d70-7e69-4aec-aaa3-5dbe2b124eb4",
   "metadata": {},
   "source": [
    "*   But numbers don't have a length (not even zero).\n",
    "\n"
   ]
  },
  {
   "cell_type": "code",
   "execution_count": null,
   "id": "e80b500a-6f9a-4c27-b6de-26ee76460ada",
   "metadata": {},
   "outputs": [],
   "source": [
    "print(len(52))"
   ]
  },
  {
   "cell_type": "markdown",
   "id": "a58f9486-6846-49ce-bbbc-b3cc9f4c61c1",
   "metadata": {},
   "source": [
    "## <a name='convert-numbers-and-strings'></a> Must convert numbers to strings or vice versa when operating on them.\n",
    "\n"
   ]
  },
  {
   "cell_type": "markdown",
   "id": "83495b9f-7c34-4463-b065-b2e35ee66391",
   "metadata": {},
   "source": [
    "*   Cannot add numbers and strings.\n",
    "\n"
   ]
  },
  {
   "cell_type": "code",
   "execution_count": null,
   "id": "5a81be9c-0465-419e-9e9b-49bf1d85874a",
   "metadata": {},
   "outputs": [],
   "source": [
    "print(1 + '2')"
   ]
  },
  {
   "cell_type": "markdown",
   "id": "b0fc2431-a12a-4478-8703-da15e44f95a0",
   "metadata": {},
   "source": [
    "*   Not allowed because it's ambiguous: should `1 + '2'` be `3` or `'12'`?\n",
    "*   Some types can be converted to other types by using the type name as a function.\n",
    "\n"
   ]
  },
  {
   "cell_type": "code",
   "execution_count": null,
   "id": "27edf2f5-ebd0-4fa5-b12b-ffcf151b611d",
   "metadata": {},
   "outputs": [],
   "source": [
    "print(1 + int('2'))\n",
    "print(str(1) + '2')"
   ]
  },
  {
   "cell_type": "markdown",
   "id": "6c569c9f-0e0d-4886-a728-6b3d983071ef",
   "metadata": {},
   "source": [
    "## Can mix integers and floats freely in operations.\n",
    "\n"
   ]
  },
  {
   "cell_type": "markdown",
   "id": "427b7170-41a8-451d-bcf2-e434f94c1c3b",
   "metadata": {},
   "source": [
    "*   Integers and floating-point numbers can be mixed in arithmetic.\n",
    "    *   Python 3 automatically converts integers to floats as needed.\n",
    "\n"
   ]
  },
  {
   "cell_type": "code",
   "execution_count": null,
   "id": "1de65d1e-b757-43a7-850d-b6e5b0fbad7e",
   "metadata": {},
   "outputs": [],
   "source": [
    "print('half is', 1 / 2.0)\n",
    "print('three squared is', 3.0 ** 2)"
   ]
  },
  {
   "cell_type": "markdown",
   "id": "d8f7de18-7cae-428a-9a9c-2f082ac4c28e",
   "metadata": {},
   "source": [
    "## Variables only change value when something is assigned to them.\n",
    "\n",
    "*   If we make one cell in a spreadsheet depend on another,\n",
    "    and update the latter,\n",
    "    the former updates automatically.\n",
    "*   This does **not** happen in programming languages.\n",
    "\n"
   ]
  },
  {
   "cell_type": "code",
   "execution_count": null,
   "id": "c24d9d5b-b984-40e2-95ff-bd19ea37e4d5",
   "metadata": {},
   "outputs": [],
   "source": [
    "variable_one = 1\n",
    "variable_two = 5 * variable_one\n",
    "variable_one = 2\n",
    "print('first is', variable_one, 'and second is', variable_two)"
   ]
  },
  {
   "cell_type": "markdown",
   "id": "46961b3e-38d4-446d-9b56-2be85e4d2f22",
   "metadata": {},
   "source": [
    "*   The computer reads the value of `first` when doing the multiplication,\n",
    "    creates a new value, and assigns it to `second`.\n",
    "*   After that, `second` does not remember where it came from.\n",
    "\n"
   ]
  },
  {
   "cell_type": "markdown",
   "id": "7e9c27cd-57c7-4359-9722-9a8c60566fc6",
   "metadata": {},
   "source": [
    "---\n",
    "### Fractions"
   ]
  },
  {
   "cell_type": "markdown",
   "id": "41824d74-1e5f-46ae-bec4-21bb6d97b7df",
   "metadata": {},
   "source": [
    "> What type of value is 3.4?\n",
    "> How can you find out?\n",
    ">"
   ]
  },
  {
   "cell_type": "markdown",
   "id": "6bffa8b8-77f6-48f1-9592-1c0a7cb4a2d5",
   "metadata": {
    "jp-MarkdownHeadingCollapsed": true,
    "tags": []
   },
   "source": [
    "### Solution"
   ]
  },
  {
   "cell_type": "markdown",
   "id": "d6f5e529-8b5f-484d-8d6a-58d80305f3f4",
   "metadata": {},
   "source": [
    "> > It is a floating-point number (often abbreviated \"float\").\n",
    "> > It is possible to find out by using the built-in function `type()`.\n",
    "> >"
   ]
  },
  {
   "cell_type": "code",
   "execution_count": null,
   "id": "82a22619-a740-444e-ab0b-1f5815dad678",
   "metadata": {},
   "outputs": [],
   "source": [
    "print(type(3.4))"
   ]
  },
  {
   "cell_type": "markdown",
   "id": "064cfb04-37b1-4401-bd22-0194b3a4e8e5",
   "metadata": {},
   "source": [
    "---\n",
    "### Automatic Type Conversion"
   ]
  },
  {
   "cell_type": "markdown",
   "id": "cb3a6612-8028-4185-b0a3-4d412f4262b0",
   "metadata": {},
   "source": [
    "> What type of value is `3.25 + 4`?\n",
    ">\n"
   ]
  },
  {
   "cell_type": "markdown",
   "id": "badf2b10-c512-4a5e-8aa2-0daa2198db3b",
   "metadata": {
    "jp-MarkdownHeadingCollapsed": true,
    "tags": []
   },
   "source": [
    "### Solution"
   ]
  },
  {
   "cell_type": "markdown",
   "id": "7f111123-4c40-48b9-b6b4-cf3b88c674d7",
   "metadata": {},
   "source": [
    "> > It is a float:\n",
    "> > integers are automatically converted to floats as necessary.\n",
    "> >\n"
   ]
  },
  {
   "cell_type": "code",
   "execution_count": null,
   "id": "9bcf601c-7913-4052-9570-1205e1c54971",
   "metadata": {},
   "outputs": [],
   "source": [
    "result = 3.25 + 4\n",
    "print(result, 'is', type(result))"
   ]
  },
  {
   "cell_type": "markdown",
   "id": "8c9cfe08-bc70-41fb-ba38-a76a7b3424ae",
   "metadata": {},
   "source": [
    "---\n",
    "### Choose a Type"
   ]
  },
  {
   "cell_type": "markdown",
   "id": "b7b53230-3d59-447d-aae1-6b38147710e6",
   "metadata": {},
   "source": [
    "> What type of value (integer, floating point number, or character string)\n",
    "> would you use to represent each of the following?  Try to come up with more than one good answer for each problem.  For example, in  # 1, when would counting days with a floating point variable make more sense than using an integer?  \n",
    ">\n",
    "> 1. Number of days since the start of the year.\n",
    "> 2. Time elapsed from the start of the year until now in days.\n",
    "> 3. Serial number of a piece of lab equipment.\n",
    "> 4. A lab specimen's age\n",
    "> 5. Current population of a city.\n",
    "> 6. Average population of a city over time."
   ]
  },
  {
   "cell_type": "markdown",
   "id": "476ad095-5d1b-428e-a838-6727ad32662e",
   "metadata": {
    "jp-MarkdownHeadingCollapsed": true,
    "tags": []
   },
   "source": [
    "### Solution"
   ]
  },
  {
   "cell_type": "markdown",
   "id": "b4af4d10-0e48-47fd-9b27-146dd05cb3ca",
   "metadata": {
    "tags": []
   },
   "source": [
    "> > The answers to the questions are:\n",
    "> > 1. Integer, since the number of days would lie between 1 and 365. \n",
    "> > 2. Floating point, since fractional days are required\n",
    "> > 3. Character string if serial number contains letters and numbers, otherwise integer if the serial number consists only of numerals\n",
    "> > 4. This will vary! How do you define a specimen's age? whole days since collection (integer)? date and time (string)?\n",
    "> > 5. Choose floating point to represent population as large aggregates (eg millions), or integer to represent population in units of individuals.\n",
    "> > 6. Floating point number, since an average is likely to have a fractional part."
   ]
  },
  {
   "cell_type": "markdown",
   "id": "b4354491-6f67-487c-8a9c-46c18d2ca17f",
   "metadata": {},
   "source": [
    "---\n",
    "### Division Types"
   ]
  },
  {
   "cell_type": "markdown",
   "id": "ca245d80-9388-4f02-8cb5-682c6519b68a",
   "metadata": {},
   "source": [
    "> In Python 3, the `//` operator performs integer (whole-number) floor division, the `/` operator performs floating-point\n",
    "> division, and the `%` (or *modulo*) operator calculates and returns the remainder from integer division:\n",
    ">\n"
   ]
  },
  {
   "cell_type": "code",
   "execution_count": null,
   "id": "4b85bf86-b2a1-405f-b785-021751e3b654",
   "metadata": {},
   "outputs": [],
   "source": [
    "print('5 // 3:', 5 // 3)\n",
    "print('5 / 3:', 5 / 3)\n",
    "print('5 % 3:', 5 % 3)"
   ]
  },
  {
   "cell_type": "markdown",
   "id": "5c22e2b5-0383-4604-8068-2a8424a7ea24",
   "metadata": {},
   "source": [
    "> If `num_subjects` is the number of subjects taking part in a study,\n",
    "> and `num_per_survey` is the number that can take part in a single survey,\n",
    "> write an expression that calculates the number of surveys needed\n",
    "> to reach everyone once.\n",
    ">"
   ]
  },
  {
   "cell_type": "markdown",
   "id": "222ec5c2-1ee2-4fe8-a169-a3b10722b1d7",
   "metadata": {
    "jp-MarkdownHeadingCollapsed": true,
    "tags": []
   },
   "source": [
    "### Solution"
   ]
  },
  {
   "cell_type": "markdown",
   "id": "ffa5cf42-fc5f-4ab3-af88-83742b86e848",
   "metadata": {},
   "source": [
    "> > We want the minimum number of surveys that reaches everyone once, which is\n",
    "> > the rounded up value of `num_subjects/ num_per_survey`. This is \n",
    "> > equivalent to performing a floor division with `//` and adding 1. Before\n",
    "> > the division we need to subtract 1 from the number of subjects to deal with \n",
    "> > the case where `num_subjects` is evenly divisible by `num_per_survey`."
   ]
  },
  {
   "cell_type": "code",
   "execution_count": null,
   "id": "da867f1f-3de9-4662-8c21-4d0963fa543d",
   "metadata": {},
   "outputs": [],
   "source": [
    "num_subjects = 600\n",
    "num_per_survey = 42\n",
    "num_surveys = (num_subjects - 1) // num_per_survey + 1\n",
    "\n",
    "print(num_subjects, 'subjects,', num_per_survey, 'per survey:', num_surveys)"
   ]
  },
  {
   "cell_type": "markdown",
   "id": "60fbb6b1-7cd3-4ffb-9559-c77c3f1b2fa4",
   "metadata": {},
   "source": [
    "---\n",
    "### Strings to Numbers"
   ]
  },
  {
   "cell_type": "markdown",
   "id": "150f95ea-32c3-4a8d-b98c-f046524766c4",
   "metadata": {},
   "source": [
    "> Where reasonable, `float()` will convert a string to a floating point number,\n",
    "> and `int()` will convert a floating point number to an integer:\n",
    ">\n"
   ]
  },
  {
   "cell_type": "code",
   "execution_count": null,
   "id": "e98bea8d-269b-4ea6-aa07-cbe0d67f82d6",
   "metadata": {},
   "outputs": [],
   "source": [
    "print(\"string to float:\", float(\"3.4\"))\n",
    "print(\"float to int:\", int(3.4))"
   ]
  },
  {
   "cell_type": "markdown",
   "id": "cbe8c50c-92cc-4082-9563-f4aa86a0fdf7",
   "metadata": {},
   "source": [
    "> If the conversion doesn't make sense, however, an error message will occur.\n",
    ">\n"
   ]
  },
  {
   "cell_type": "code",
   "execution_count": null,
   "id": "e756aac1-c35e-41e8-a973-3d4032a69641",
   "metadata": {},
   "outputs": [],
   "source": [
    "print(\"string to float:\", float(\"Hello world!\"))"
   ]
  },
  {
   "cell_type": "markdown",
   "id": "45396db2-0caf-4f19-9a1a-7219d4857449",
   "metadata": {},
   "source": [
    "> Given this information, what do you expect the following program to do?\n",
    ">\n",
    "> What does it actually do?\n",
    ">\n",
    "> Why do you think it does that?\n",
    ">\n"
   ]
  },
  {
   "cell_type": "markdown",
   "id": "1db4fcb9-8fa3-4412-a051-daa20cc6bbf4",
   "metadata": {},
   "source": [
    "> ~~~ python\n",
    "> print(\"fractional string to int:\", int(\"3.4\"))\n",
    "> ~~~"
   ]
  },
  {
   "cell_type": "markdown",
   "id": "d2af4a77-fde0-454a-aa55-f89ea710c007",
   "metadata": {
    "jp-MarkdownHeadingCollapsed": true,
    "tags": []
   },
   "source": [
    "### Solution"
   ]
  },
  {
   "cell_type": "markdown",
   "id": "87affabf-b625-4312-975b-2e173e516548",
   "metadata": {},
   "source": [
    "> > What do you expect this program to do? It would not be so unreasonable to expect the Python 3 `int` command to\n",
    "> > convert the string \"3.4\" to 3.4 and an additional type conversion to 3. After all, Python 3 performs a lot of other\n",
    "> > magic - isn't that part of its charm?\n",
    "> >\n"
   ]
  },
  {
   "cell_type": "code",
   "execution_count": null,
   "id": "2e76e278-e3f9-466b-8b3e-61b7ed376481",
   "metadata": {},
   "outputs": [],
   "source": [
    "int(\"3.4\")"
   ]
  },
  {
   "cell_type": "markdown",
   "id": "2a8975d5-6df1-4018-ae4d-a94155545820",
   "metadata": {},
   "source": [
    "> > However, Python 3 throws an error. Why? To be consistent, possibly. If you ask Python to perform two consecutive\n",
    "> > typecasts, you must convert it explicitly in code.\n"
   ]
  },
  {
   "cell_type": "code",
   "execution_count": null,
   "id": "e39e7952-5a57-486a-b44a-1a96f5948c2c",
   "metadata": {},
   "outputs": [],
   "source": [
    "int(float(\"3.4\"))"
   ]
  },
  {
   "cell_type": "markdown",
   "id": "78533536-9490-4d5a-aa82-84df06910bf4",
   "metadata": {},
   "source": [
    "---\n",
    "### Arithmetic with Different Types"
   ]
  },
  {
   "cell_type": "markdown",
   "id": "45d67e1a-7303-4d6f-abec-8a720cfd3b70",
   "metadata": {},
   "source": [
    "> Which of the following will return the floating point number `2.0`?\n",
    "> Note: there may be more than one right answer.\n",
    ">\n"
   ]
  },
  {
   "cell_type": "markdown",
   "id": "4e43294b-f3c2-4221-b643-db4676bdab07",
   "metadata": {},
   "source": [
    ">~~~ python\n",
    ">first = 1.0\n",
    ">second = \"1\"\n",
    ">third = \"1.1\"\n",
    ">~~~"
   ]
  },
  {
   "cell_type": "markdown",
   "id": "c3a379cd-1d02-4510-bfbf-be8e62b04b74",
   "metadata": {},
   "source": [
    "> 1. `first + float(second)`\n",
    "> 2. `float(second) + float(third)`\n",
    "> 3. `first + int(third)`\n",
    "> 4. `first + int(float(third))`\n",
    "> 5. `int(first) + int(float(third))`\n",
    "> 6. `2.0 * second`\n",
    ">"
   ]
  },
  {
   "cell_type": "markdown",
   "id": "5999e155-e6bc-48b6-ab71-812db2958f50",
   "metadata": {
    "jp-MarkdownHeadingCollapsed": true,
    "tags": []
   },
   "source": [
    "### Solution"
   ]
  },
  {
   "cell_type": "markdown",
   "id": "c38c1bc3-ef4c-4d2c-ba46-cbb07df061e3",
   "metadata": {},
   "source": [
    "> > Answer: 1 and 4\n",
    ">"
   ]
  },
  {
   "cell_type": "markdown",
   "id": "0068c7de-3e4d-4244-9af2-15bab3730191",
   "metadata": {},
   "source": [
    "---\n",
    "### Complex Numbers"
   ]
  },
  {
   "cell_type": "markdown",
   "id": "0a57cc94-26b3-4f5d-b393-2bc186999a02",
   "metadata": {},
   "source": [
    "> Python provides complex numbers,\n",
    "> which are written as `1.0+2.0j`.\n",
    "> If `val` is a complex number,\n",
    "> its real and imaginary parts can be accessed using *dot notation*\n",
    "> as `val.real` and `val.imag`.\n",
    ">\n"
   ]
  },
  {
   "cell_type": "code",
   "execution_count": null,
   "id": "756d6d8a-f061-48cb-b81e-103e2f5ed5fa",
   "metadata": {},
   "outputs": [],
   "source": [
    "a_complex_number = 6 + 2j\n",
    "print(a_complex_number.real)\n",
    "print(a_complex_number.imag)"
   ]
  },
  {
   "cell_type": "markdown",
   "id": "65f64948-93be-45cf-8ddb-a699287d0ddf",
   "metadata": {},
   "source": [
    "> 1.  Why do you think Python uses `j` instead of `i` for the imaginary part?\n",
    "> 2.  What do you expect `1 + 2j + 3` to produce?\n",
    "> 3.  What do you expect `4j` to be?  What about `4 j` or `4 + j`?\n",
    "> "
   ]
  },
  {
   "cell_type": "markdown",
   "id": "3fd4ced9-b3e2-4b8d-8439-ddda8638ec8e",
   "metadata": {
    "jp-MarkdownHeadingCollapsed": true,
    "tags": []
   },
   "source": [
    "### Solution"
   ]
  },
  {
   "cell_type": "markdown",
   "id": "53b76bbf-16ce-4d38-a776-e43a6596c83b",
   "metadata": {
    "tags": []
   },
   "source": [
    "> > 1. Standard mathematics treatments typically use `i` to denote an imaginary number. However, from media reports it\n",
    "> > was an early convention established from electrical engineering that now presents a technically expensive area to\n",
    "> > change. [Stack Overflow provides additional explanation and\n",
    "> > discussion.](http://stackoverflow.com/questions/24812444/why-are-complex-numbers-in-python-denoted-with-j-instead-of-i)\n",
    "> > 2. `(4+2j)`\n",
    "> > 3. `4j` and `Syntax Error: invalid syntax`. In the latter cases, `j` is considered a variable and the statement\n",
    "> > depends on if `j` is defined and if so, its assigned value.\n"
   ]
  },
  {
   "cell_type": "markdown",
   "id": "047852ba-19c4-491c-b0d9-53a6315c1eaf",
   "metadata": {
    "tags": []
   },
   "source": [
    "---\n",
    "## Keypoints:\n",
    "- \"Every value has a type.\"\n",
    "- \"Use the built-in function `type` to find the type of a value.\"\n",
    "- \"Types control what operations can be done on values.\"\n",
    "- \"Strings can be added and multiplied.\"\n",
    "- \"Strings have a length (but numbers don't).\"\n",
    "- \"Must convert numbers to strings or vice versa when operating on them.\"\n",
    "- \"Can mix integers and floats freely in operations.\"\n",
    "- \"Variables only change value when something is assigned to them.\"\n",
    "---\n"
   ]
  },
  {
   "cell_type": "markdown",
   "id": "9c8fb93b-ffe7-4075-bf45-a5352a9e392b",
   "metadata": {},
   "source": [
    "*This course material was created from the [Plotting and Programming in Python](http://swcarpentry.github.io/python-novice-gapminder/) curriculum developed by [The Software Carpentry Foundation](https://software-carpentry.org/) of [The Carpentries](https://carpentries.org/) licensed under [CC-BY 4.0](https://creativecommons.org/licenses/by/4.0/)*"
   ]
  }
 ],
 "metadata": {
  "kernelspec": {
   "display_name": "Python 3 (ipykernel)",
   "language": "python",
   "name": "python3"
  },
  "language_info": {
   "codemirror_mode": {
    "name": "ipython",
    "version": 3
   },
   "file_extension": ".py",
   "mimetype": "text/x-python",
   "name": "python",
   "nbconvert_exporter": "python",
   "pygments_lexer": "ipython3",
   "version": "3.9.12"
  }
 },
 "nbformat": 4,
 "nbformat_minor": 5
}
