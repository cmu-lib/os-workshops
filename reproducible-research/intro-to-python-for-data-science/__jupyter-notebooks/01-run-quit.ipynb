{
 "cells": [
  {
   "cell_type": "markdown",
   "id": "7ad5693e-17e6-4fda-9731-fd141749c9ad",
   "metadata": {},
   "source": [
    "# Running and Quitting"
   ]
  },
  {
   "cell_type": "markdown",
   "id": "efffaeff-a166-487b-a170-174307aeddd7",
   "metadata": {},
   "source": [
    "---\n",
    "## Overview\n",
    "\n",
    "Teaching: 15 minutes\n",
    "\n",
    "Exercises: 0 minutes\n",
    "\n",
    "### Questions:\n",
    "- \"How can I run Python programs?\"\n",
    "\n",
    "### Objectives:\n",
    "- \"Launch the JupyterLab server.\" \n",
    "- \"Create a new Python script.\" \n",
    "- \"Create a Jupyter notebook.\"\n",
    "- \"Shutdown the JupyterLab server.\"\n",
    "- \"Understand the difference between a Python script and a Jupyter notebook.\"\n",
    "- \"Create Markdown cells in a notebook.\"\n",
    "- \"Create and run Python cells in a notebook.\"\n",
    "---"
   ]
  },
  {
   "cell_type": "markdown",
   "id": "e1f9449e-1c65-4e96-940d-5aaaff9e2733",
   "metadata": {},
   "source": [
    "Many software developers will often use an integrated development environment (IDE) or a \n",
    "text editor to create and edit their Python programs which can be executed through the IDE or command line directly. While this is a common approach, we are going to use the [Jupyter Notebook][jupyterlab-notebook-docs] via [JupyterLab][jupyterlab] for the remainder of this workshop.\n",
    "\n",
    "This has several advantages:\n",
    "  *   You can easily type, edit, and copy and paste blocks of code.\n",
    "  *   Tab complete allows you to easily access the names of things you are using\n",
    "      and learn more about them.\n",
    "  *   It allows you to annotate your code with links, different sized text, bullets, etc.\n",
    "      to make it more accessible to you and your collaborators.\n",
    "  *   It allows you to display figures next to the code that produces them\n",
    "      to tell a complete story of the analysis.\n",
    "\n",
    "Each notebook contains one or more cells that contain code, text, or images.\n",
    "\n",
    "[jupyterlab]: https://jupyterlab.readthedocs.io/en/stable/\n",
    "[jupyterlab-notebook-docs]: https://jupyterlab.readthedocs.io/en/stable/user/notebook.html"
   ]
  },
  {
   "cell_type": "markdown",
   "id": "c1e84bf1-e9a6-4fc0-9221-c75595df5f38",
   "metadata": {
    "tags": []
   },
   "source": [
    "## Getting Started with JupyterLab"
   ]
  },
  {
   "cell_type": "markdown",
   "id": "87f99cae-cefb-4094-b6dc-056e2fed1c4b",
   "metadata": {
    "tags": []
   },
   "source": [
    "JupyterLab is an application with a web-based user interface from [Project Jupyter][jupyter] that \n",
    "enables one to work with documents and activities such as Jupyter notebooks, text editors, terminals,\n",
    "and even custom components in a flexible, integrated, and extensible manner. JupyterLab requires a\n",
    "reasonably up-to-date browser (ideally a current version of Chrome, Safari, or Firefox); Internet\n",
    "Explorer versions 9 and below are *not* supported.\n",
    "\n",
    "JupyterLab is included as part of the Anaconda Python distribution. If you have not already\n",
    "installed the Anaconda Python distribution, see [the setup instructions](https://swcarpentry.github.io/python-novice-gapminder/setup.html)\n",
    "for installation instructions.\n",
    "\n",
    "Even though JupyterLab is a web-based application, JupyterLab runs locally on your machine and \n",
    "does not require an internet connection.\n",
    "*   The JupyterLab server sends messages to your web browser.\n",
    "*   The JupyterLab server does the work and the web browser renders the result.\n",
    "*   You will type code into the browser and see the result when the web page talks to the \n",
    "    JupyterLab server.\n",
    "---\n",
    "> ## JupyterLab? What about Jupyter notebooks?\n",
    "> \n",
    "> JupyterLab is the [next stage in the evolution of the Jupyter Notebook](https://jupyterlab.readthedocs.io/en/stable/getting_started/overview.html#overview).\n",
    "> If you have prior experience working with Jupyter notebooks, then you will have a good idea of what to expect from JupyterLab. \n",
    "> \n",
    "> Experienced users of Jupyter notebooks interested in a more detailed discussion of the similarities and differences\n",
    "> between the JupyterLab and Jupyter notebook user interfaces can find more information in the \n",
    "> [JupyterLab user interface documentation][jupyterlab-ui].\n",
    "\n",
    "[anaconda]: https://docs.continuum.io/anaconda/install\n",
    "[jupyter]: https://jupyter.org/\n",
    "[jupyterlab]: https://jupyterlab.readthedocs.io/en/stable/\n",
    "[jupyterlab-ui]: https://jupyterlab.readthedocs.io/en/stable/user/interface.html\n",
    "[jupyterlab-notebook-docs]: https://jupyterlab.readthedocs.io/en/stable/user/notebook.html\n",
    "[markdown]: https://en.wikipedia.org/wiki/Markdown\n",
    "---"
   ]
  },
  {
   "cell_type": "markdown",
   "id": "bf0e3aa7-5487-486d-b409-f60e52d4038a",
   "metadata": {
    "tags": []
   },
   "source": [
    "## Starting JupyterLab\n",
    "\n"
   ]
  },
  {
   "cell_type": "markdown",
   "id": "7d04daa5-5d85-4d9e-8afc-7cb8380aebcb",
   "metadata": {},
   "source": [
    "You can start the JupyterLab server through the command line or through an application called \n",
    "`Anaconda Navigator`. Anaconda Navigator is included as part of the Anaconda Python distribution.\n",
    "\n"
   ]
  },
  {
   "cell_type": "markdown",
   "id": "5aaf0fc9-d8ab-45c0-8dd8-5bd5570634b2",
   "metadata": {
    "tags": []
   },
   "source": [
    "### macOS - Command Line\n"
   ]
  },
  {
   "cell_type": "markdown",
   "id": "b9c8fe07-013a-4d13-9501-ee5fa775c161",
   "metadata": {},
   "source": [
    "To start the JupyterLab server you will need to access the command line through the Terminal. \n",
    "There are two ways to open Terminal on Mac.\n",
    "\n",
    "1. In your Applications folder, open Utilities and double-click on Terminal\n",
    "2. Press <kbd>Command</kbd> + <kbd>spacebar</kbd> to launch Spotlight. Type `Terminal` and then \n",
    "double-click the search result or hit <kbd>Enter</kbd>\n",
    "\n",
    "After you have launched Terminal, type the command to launch the JupyterLab server.\n",
    "\n",
    "~~~ bash\n",
    "$ jupyter lab\n",
    "~~~"
   ]
  },
  {
   "cell_type": "markdown",
   "id": "ada71d4a-8371-40fb-b4de-81ae5672c7fc",
   "metadata": {
    "tags": []
   },
   "source": [
    "### Windows Users - Command Line\n"
   ]
  },
  {
   "cell_type": "markdown",
   "id": "fbaf90b2-8881-4add-904f-d5d6d48e6402",
   "metadata": {},
   "source": [
    "To start the JupyterLab server you will need to access the Anaconda Prompt.\n",
    "\n",
    "Press <kbd>Windows Logo Key</kbd> and search for `Anaconda Prompt`, click the result or press enter.\n",
    "\n",
    "After you have launched the Anaconda Prompt, type the command:\n",
    "\n",
    "~~~ bash\n",
    "$ jupyter lab\n",
    "~~~\n",
    "\n"
   ]
  },
  {
   "cell_type": "markdown",
   "id": "3f175a30-459a-4a0e-8351-9771941706b7",
   "metadata": {
    "tags": []
   },
   "source": [
    "###  Anaconda Navigator\n",
    "\n"
   ]
  },
  {
   "cell_type": "markdown",
   "id": "c3774e77-e70b-4ee2-920a-1457ecff03d5",
   "metadata": {
    "jp-MarkdownHeadingCollapsed": true,
    "tags": []
   },
   "source": [
    "To start a JupyterLab server from Anaconda Navigator you must first [start Anaconda Navigator (click for detailed instructions on macOS, Windows, and Linux)](https://docs.anaconda.com/anaconda/navigator/getting-started/#starting-navigator). You can search for Anaconda Navigator via Spotlight on macOS (<kbd>Command</kbd> + <kbd>spacebar</kbd>), the Windows search function (<kbd>Windows Logo Key</kbd>) or opening a terminal shell and executing the `anaconda-navigator` executable from the command line.\n",
    "\n",
    "After you have launched Anaconda Navigator, click the `Launch` button under JupyterLab. You may need\n",
    "to scroll down to find it.\n",
    "\n",
    "Here is a screenshot of an Anaconda Navigator page similar to the one that should open on either macOS\n",
    "or Windows.\n",
    "\n",
    "<p align='center'>\n",
    "  <img alt=\"Anaconda Navigator landing page\" src=\"../fig/0_anaconda_navigator_landing_page.png\" width=\"750\"/>\n",
    "</p>\n",
    "\n",
    "And here is a screenshot of a JupyterLab landing page that should be similar to the one that opens in your \n",
    "default web browser after starting the JupyterLab server on either macOS or Windows.\n",
    "\n",
    "<p align='center'>\n",
    "  <img alt=\"JupyterLab landing page\" src=\"../fig/0_jupyterlab_landing_page.png\" width=\"750\"/>\n",
    "</p>"
   ]
  },
  {
   "cell_type": "markdown",
   "id": "3bb84e70-46a3-4706-9c92-c2aba7f10318",
   "metadata": {
    "tags": []
   },
   "source": [
    "## The JupyterLab Interface\n",
    "\n"
   ]
  },
  {
   "cell_type": "markdown",
   "id": "2aff125f-a7e2-4772-a8e3-db311e3b0254",
   "metadata": {},
   "source": [
    "JupyterLab has many features found in traditional integrated development environments (IDEs) but \n",
    "is focused on providing flexible building blocks for interactive, exploratory computing.\n",
    "\n",
    "The [JupyterLab Interface](https://jupyterlab.readthedocs.io/en/stable/user/interface.html) \n",
    "consists of the Menu Bar, a collapsable Left Side Bar, and the Main Work Area which contains tabs \n",
    "of documents and activities.\n",
    "\n"
   ]
  },
  {
   "cell_type": "markdown",
   "id": "79620afe-ce23-4b85-908f-70c20efc0dda",
   "metadata": {
    "tags": []
   },
   "source": [
    "### Menu Bar\n"
   ]
  },
  {
   "cell_type": "markdown",
   "id": "7bf6b189-8df3-40ab-94f8-60046e39b3d6",
   "metadata": {},
   "source": [
    "The Menu Bar at the top of JupyterLab has the top-level menus that expose various actions \n",
    "available in JupyterLab along with their keyboard shortcuts (where applicable). The following \n",
    "menus are included by default.\n",
    "\n",
    "*   **File:** Actions related to files and directories such as *New*, *Open*, *Close*, *Save*, etc. The *File* menu also includes the *Shut Down* action used to shutdown the JupyterLab server.\n",
    "*   **Edit:** Actions related to editing documents and other activities such as *Undo*, *Cut*, *Copy*, *Paste*, etc.\n",
    "*   **View:** Actions that alter the appearance of JupyterLab.\n",
    "*   **Run:** Actions for running code in different activities such as notebooks and code consoles (discussed below).\n",
    "*   **Kernel:** Actions for managing kernels. Kernels in Jupyter will be explained in more detail below.\n",
    "*   **Tabs:** A list of the open documents and activities in the main work area.\n",
    "*   **Settings:** Common JupyterLab settings can be configured using this menu. There is also an *Advanced Settings Editor* option in the dropdown menu that provides more fine-grained control of JupyterLab settings and configuration options.\n",
    "*   **Help:** A list of JupyterLab and kernel help links."
   ]
  },
  {
   "cell_type": "markdown",
   "id": "8e441b7c-caad-4eb9-a446-c64b53749c7c",
   "metadata": {},
   "source": [
    "---\n",
    "> ## Kernels\n",
    "> The JupyterLab [docs](https://jupyterlab.readthedocs.io/en/stable/user/documents_kernels.html) \n",
    "> define kernels as \"separate processes started by the server that run your code in different programming languages and environments.\"\n",
    "> When we open a Jupyter Notebook, that starts a kernel - a process - that is going to run the code. \n",
    "> In this lesson, we'll be using the Jupyter ipython kernel which lets us run Python 3 code interactively.\n",
    "> \n",
    "> Using other Jupyter [kernels for other programming languages](https://github.com/jupyter/jupyter/wiki/Jupyter-kernels) would let us \n",
    "> write and execute code in other programming languages in the same JupyterLab interface, like R, Java, Julia, Ruby, JavaScript, Fortran, \n",
    "> etc.\n",
    "---"
   ]
  },
  {
   "cell_type": "markdown",
   "id": "50f12d9e-7f77-4eb5-a539-d0c17a9036c8",
   "metadata": {},
   "source": [
    "\n",
    "A screenshot of the default Menu Bar is provided below.\n",
    "\n",
    "<p align='center'>\n",
    "    <img alt=\"JupyterLab Menu Bar\" src=\"../fig/0_jupyterlab_menu_bar.png\" width=\"750\"/>\n",
    "</p>"
   ]
  },
  {
   "cell_type": "markdown",
   "id": "86060079-73d6-4ed2-9854-3333bb41566e",
   "metadata": {
    "tags": []
   },
   "source": [
    "\n",
    "\n",
    "### Left Sidebar"
   ]
  },
  {
   "cell_type": "markdown",
   "id": "dd367b51-d51e-4021-9c8e-eaa72729bfe0",
   "metadata": {},
   "source": [
    "\n",
    "\n",
    "The left sidebar contains a number of commonly used tabs, such as a file browser (showing the \n",
    "contents of the directory where the JupyterLab server was launched), a list of running kernels \n",
    "and terminals, the command palette, and a list of open tabs in the main work area. A screenshot of \n",
    "the default Left Side Bar is provided below.\n",
    "\n",
    "<p align='center'>\n",
    "    <img alt=\"JupyterLab Left Side Bar\" src=\"../fig/0_jupyterlab_left_side_bar.png\" width=\"250\"/>\n",
    "</p>\n",
    "\n",
    "The left sidebar can be collapsed or expanded by selecting “Show Left Sidebar” in the View menu or \n",
    "by clicking on the active sidebar tab.\n",
    "\n"
   ]
  },
  {
   "cell_type": "markdown",
   "id": "20bc266a-5005-441f-ae63-6ae513d6d0dd",
   "metadata": {
    "tags": []
   },
   "source": [
    "### Main Work Area\n",
    "\n"
   ]
  },
  {
   "cell_type": "markdown",
   "id": "f8983e8b-83bb-46b2-a752-73138733720d",
   "metadata": {},
   "source": [
    "The main work area in JupyterLab enables you to arrange documents (notebooks, text files, etc.) \n",
    "and other activities (terminals, code consoles, etc.) into panels of tabs that can be resized or \n",
    "subdivided. A screenshot of the default Main Work Area is provided below.\n",
    "\n",
    "<p align='center'>\n",
    "    <img alt=\"JupyterLab Main Work Area\" src=\"../fig/0_jupyterlab_main_work_area.png\" width=\"750\"/>\n",
    "</p>\n",
    "\n",
    "Drag a tab to the center of a tab panel to move the tab to the panel. Subdivide a tab panel by \n",
    "dragging a tab to the left, right, top, or bottom of the panel. The work area has a single current \n",
    "activity. The tab for the current activity is marked with a colored top border (blue by default).\n",
    "\n"
   ]
  },
  {
   "cell_type": "markdown",
   "id": "4aea6413-93cc-4629-9f9b-295fdb210cb9",
   "metadata": {
    "tags": []
   },
   "source": [
    "## Creating a Python script\n",
    "\n"
   ]
  },
  {
   "cell_type": "markdown",
   "id": "ff29e338-b119-4298-9add-37c3eeef4e62",
   "metadata": {},
   "source": [
    "*   To start writing a new Python program click the Text File icon under the *Other* header in the Launcher tab of the Main Work Area.\n",
    "    *   You can also create a new plain text file by selecting the *New -> Text File* from the *File* menu in the Menu Bar.\n",
    "*   To convert this plain text file to a Python program, select the *Save File As* action from the *File* menu in the Menu Bar and give your new text file a name that ends with the `.py` extension.\n",
    "    *   The `.py` extension lets everyone (including the operating system) know that this text file is a Python program.\n",
    "    *   This is convention, not a requirement.\n",
    "\n"
   ]
  },
  {
   "cell_type": "markdown",
   "id": "ccef23f7-94ed-4265-a933-790fbdaf05ce",
   "metadata": {
    "tags": []
   },
   "source": [
    "## Creating a Jupyter Notebook\n",
    "\n"
   ]
  },
  {
   "cell_type": "markdown",
   "id": "a3db8725-1057-4897-ac7b-6a78a4c43c9e",
   "metadata": {},
   "source": [
    "To open a new notebook click the Python 3 icon under the *Notebook* header in the Launcher tab in \n",
    "the main work area. You can also create a new notebook by selecting *New -> Notebook* from the *File* menu in the Menu Bar.\n",
    "\n",
    "Additional notes on Jupyter notebooks.\n",
    "\n",
    "  *   Notebook files have the extension `.ipynb` to distinguish them from plain-text Python programs.\n",
    "  *   Notebooks can be exported as Python scripts that can be run from the command line.\n",
    "\n",
    "Below is a screenshot of a Jupyter notebook running inside JupyterLab. If you are interested in \n",
    "more details, then see the [official notebook documentation][jupyterlab-notebook-docs].\n",
    "\n",
    "<p align='center'>\n",
    "    <img alt=\"Example Jupyter Notebook\" src=\"../fig/0_jupyterlab_notebook_screenshot.png\" width=\"750\"/>\n",
    "</p>\n",
    "\n",
    "[jupyterlab-notebook-docs]: https://jupyterlab.readthedocs.io/en/stable/user/notebook.html"
   ]
  },
  {
   "cell_type": "markdown",
   "id": "7aefbd9b-ac7e-45f0-9cac-f9e505968dfb",
   "metadata": {},
   "source": [
    "---\n",
    "> ## How It's Stored\n",
    ">\n",
    "> *   The notebook file is stored in a format called JSON.\n",
    "> *   Just like a webpage, what's saved looks different from what you see in your browser.\n",
    "> *   But this format allows Jupyter to mix source code, text, and images, all in one file.\n",
    "---\n"
   ]
  },
  {
   "cell_type": "markdown",
   "id": "057c4d66-677f-45ca-ae79-3951e367651c",
   "metadata": {
    "tags": []
   },
   "source": [
    "### Arranging Documents into Panels of Tabs\n"
   ]
  },
  {
   "cell_type": "markdown",
   "id": "c95b292c-a0f9-4b02-95c3-150417b1f8c9",
   "metadata": {},
   "source": [
    "> In the JupyterLab Main Work Area you can arrange documents into panels of tabs. Here is an \n",
    "> example from the [official documentation][jupyterlab].\n",
    "> \n",
    "> <p align='center'>\n",
    ">    <img alt=\"Multi-panel JupyterLab\" src=\"../fig/0_multipanel_jupyterlab_screenshot.png\" width=\"750\"/>\n",
    "> </p>\n",
    ">\n",
    "> First, create a text file, Python console, and terminal window and arrange them into three \n",
    "> panels in the main work area. Next, create a notebook, terminal window, and text file and \n",
    "> arrange them into three panels in the main work area. Finally, create your own combination of \n",
    "> panels and tabs. What combination of panels and tabs do you think will be most useful for your \n",
    "> workflow?\n",
    ">\n",
    "\n",
    "[jupyterlab]: https://jupyterlab.readthedocs.io/en/stable/"
   ]
  },
  {
   "cell_type": "markdown",
   "id": "9a7fe7e4-656b-4ca4-923c-f0fa16099925",
   "metadata": {
    "jp-MarkdownHeadingCollapsed": true,
    "tags": []
   },
   "source": [
    "### Solution"
   ]
  },
  {
   "cell_type": "markdown",
   "id": "4420489a-2ac8-4ca9-9b91-ca3783a4b674",
   "metadata": {},
   "source": [
    "> > After creating the necessary tabs, you can drag one of the tabs to the center of a panel to \n",
    "> > move the tab to the panel; next you can subdivide a tab panel by dragging a tab to the left, \n",
    "> > right, top, or bottom of the panel."
   ]
  },
  {
   "cell_type": "markdown",
   "id": "1137e547-15d3-40ac-ae83-1e40464c4c0b",
   "metadata": {},
   "source": [
    "---\n",
    "### Code vs. Text"
   ]
  },
  {
   "cell_type": "markdown",
   "id": "d0d0e9b9-08aa-4614-9162-bcb72367a000",
   "metadata": {},
   "source": [
    "> Jupyter mixes code and text in different types of blocks, called cells. We often use the term\n",
    "> \"code\" to mean \"the source code of software written in a language such as Python\".\n",
    "> A \"code cell\" in a Notebook is a cell that contains software;\n",
    "> a \"text cell\" is one that contains ordinary prose written for human beings.\n",
    "---"
   ]
  },
  {
   "cell_type": "markdown",
   "id": "e4358520-ae98-4197-b797-e7adfe336fbf",
   "metadata": {
    "tags": []
   },
   "source": [
    "## The Notebook has Command and Edit modes.\n",
    "\n"
   ]
  },
  {
   "cell_type": "markdown",
   "id": "f58fbc9f-0b94-4a58-8c47-18db554cd45d",
   "metadata": {},
   "source": [
    "*   If you press <kbd>Esc</kbd> and <kbd>Return</kbd> alternately, the outer border of your code cell will change from gray to blue.\n",
    "*   These are the **Command** (gray) and **Edit** (blue) modes of your notebook.\n",
    "*   Command mode allows you to edit notebook-level features, and Edit mode changes the content of cells.\n",
    "*   When in Command mode (esc/gray),\n",
    "    *   The <kbd>b</kbd> key will make a new cell below the currently selected cell.\n",
    "    *   The <kbd>a</kbd> key will make one above.\n",
    "    *   The <kbd>x</kbd> key will delete the current cell.\n",
    "    *   The <kbd>z</kbd> key will undo your last cell operation (which could be a deletion, creation, etc).\n",
    "*   All actions can be done using the menus, but there are lots of keyboard shortcuts to speed things up.\n",
    "\n"
   ]
  },
  {
   "cell_type": "markdown",
   "id": "b8353d50-3082-40e9-bacb-2488b02447cd",
   "metadata": {},
   "source": [
    "---\n",
    "### Command Vs. Edit"
   ]
  },
  {
   "cell_type": "markdown",
   "id": "a99eb2f0-940f-4fff-935b-1537efd9313a",
   "metadata": {},
   "source": [
    "> In the Jupyter notebook page are you currently in Command or Edit mode?  \n",
    "> Switch between the modes. \n",
    "> Use the shortcuts to generate a new cell. \n",
    "> Use the shortcuts to delete a cell.\n",
    "> Use the shortcuts to undo the last cell operation you performed.\n",
    ">"
   ]
  },
  {
   "cell_type": "markdown",
   "id": "4db2b196-e9e9-4429-8401-d3a155c0ab17",
   "metadata": {
    "jp-MarkdownHeadingCollapsed": true,
    "tags": []
   },
   "source": [
    "### Solution"
   ]
  },
  {
   "cell_type": "markdown",
   "id": "ab4fc6c1-c295-4909-bf84-5ae1c7b83f4d",
   "metadata": {},
   "source": [
    "> > Command mode has a grey border and Edit mode has a blue border. \n",
    "> > Use <kbd>Esc</kbd> and <kbd>Return</kbd> to switch between modes. \n",
    "> > You need to be in Command mode (Press <kbd>Esc</kbd> if your cell is blue).  Type <kbd>b</kbd> or <kbd>a</kbd>.\n",
    "> > You need to be in Command mode (Press <kbd>Esc</kbd> if your cell is blue).  Type <kbd>x</kbd>.\n",
    "> > You need to be in Command mode (Press <kbd>Esc</kbd> if your cell is blue).  Type <kbd>z</kbd>.\n",
    ">\n"
   ]
  },
  {
   "cell_type": "markdown",
   "id": "2787b553-48b6-4eff-9379-e5e4398f496d",
   "metadata": {
    "tags": []
   },
   "source": [
    "---\n",
    "### Use the keyboard and mouse to select and edit cells.\n",
    "\n"
   ]
  },
  {
   "cell_type": "markdown",
   "id": "b61b14b5-7651-4eb5-938f-d6a98825be1e",
   "metadata": {},
   "source": [
    "*   Pressing the <kbd>Return</kbd> key turns the border blue and engages Edit mode, which allows \n",
    "    you to type within the cell.\n",
    "*   Because we want to be able to write many lines of code in a single cell,\n",
    "    pressing the <kbd>Return</kbd> key when in Edit mode (blue) moves the cursor to the next line \n",
    "    in the cell just like in a text editor.\n",
    "*   We need some other way to tell the Notebook we want to run what's in the cell.\n",
    "*   Pressing <kbd>Shift</kbd>+<kbd>Return</kbd> together will execute the contents of the cell.\n",
    "*   Notice that the <kbd>Return</kbd> and <kbd>Shift</kbd> keys on the right of the keyboard are \n",
    "    right next to each other.\n",
    "\n"
   ]
  },
  {
   "cell_type": "markdown",
   "id": "b8f2987c-8a27-407f-8e15-96a8b05796ab",
   "metadata": {
    "tags": []
   },
   "source": [
    "### The Notebook will turn Markdown into pretty-printed documentation.\n",
    "\n"
   ]
  },
  {
   "cell_type": "markdown",
   "id": "4350e13b-05a3-49ae-9a1e-4f92eaf22865",
   "metadata": {},
   "source": [
    "*   Notebooks can also render [Markdown][markdown].\n",
    "    *   A simple plain-text format for writing lists, links, \n",
    "        and other things that might go into a web page.\n",
    "    *   Equivalently, a subset of HTML that looks like what you'd send in an old-fashioned email.\n",
    "*   Turn the current cell into a Markdown cell by entering the Command mode (<kbd>Esc</kbd>/gray) \n",
    "    and press the <kbd>M</kbd> key.\n",
    "*   `In [ ]:` will disappear to show it is no longer a code cell and you will be able to write in \n",
    "    Markdown.\n",
    "*   Turn the current cell into a Code cell by entering the Command mode (<kbd>Esc</kbd>/gray) and \n",
    "    press the <kbd>y</kbd> key.\n",
    "\n",
    "[markdown]: https://en.wikipedia.org/wiki/Markdown"
   ]
  },
  {
   "cell_type": "markdown",
   "id": "675b2ef5-e4d8-4c52-a5d1-8ab397f4cef5",
   "metadata": {
    "tags": []
   },
   "source": [
    "### Markdown does most of what HTML does.\n",
    "\n"
   ]
  },
  {
   "cell_type": "markdown",
   "id": "6dac87b3-ee37-4fde-b43d-b23b5eaa1fd6",
   "metadata": {},
   "source": [
    "<div class=\"row\">\n",
    "  <div class=\"col-md-6\" markdown=\"1\">\n",
    "    \n",
    "~~~ markdown\n",
    "*   Use asterisks\n",
    "*   to create\n",
    "*   bullet lists.\n",
    "~~~\n",
    "\n",
    "  </div>\n",
    "  <div class=\"col-md-6\" markdown=\"1\">\n",
    "  \n",
    "*   Use asterisks\n",
    "*   to create\n",
    "*   bullet lists.\n",
    "\n",
    "  </div>\n",
    "</div>\n",
    "\n"
   ]
  },
  {
   "cell_type": "markdown",
   "id": "a57c5b88-831e-428f-8fa9-ec884d5aab3f",
   "metadata": {},
   "source": [
    "<div class=\"row\">\n",
    "  <div class=\"col-md-6\" markdown=\"1\">\n",
    "    \n",
    "~~~ markdown\n",
    "1.  Use numbers\n",
    "1.  to create\n",
    "1.  numbered lists.\n",
    "~~~\n",
    "\n",
    "  </div>\n",
    "  <div class=\"col-md-6\" markdown=\"1\">\n",
    "\n",
    "1.  Use numbers\n",
    "1.  to create\n",
    "1.  numbered lists.\n",
    "\n",
    "  </div>\n",
    "</div>\n",
    "\n"
   ]
  },
  {
   "cell_type": "markdown",
   "id": "4faa15b9-6fa0-4c90-99ff-fc5021222fe2",
   "metadata": {},
   "source": [
    "<div class=\"row\">\n",
    "  <div class=\"col-md-6\" markdown=\"1\">\n",
    "    \n",
    "~~~ markdown\n",
    "*  You can use indents\n",
    "\t*  To create sublists \n",
    "\t*  of the same type\n",
    "*  Or sublists\n",
    "\t1. Of different\n",
    "\t1. types\n",
    "~~~\n",
    "\n",
    "  </div>\n",
    "  <div class=\"col-md-6\" markdown=\"1\">\n",
    "  \n",
    "*  You can use indents\n",
    "\t*  To create sublists\n",
    "\t*  of the same type\n",
    "*  Or sublists\n",
    "\t1. Of different\n",
    "\t1. types\n",
    "  \n",
    "  </div>\n",
    "</div>\n",
    "\n"
   ]
  },
  {
   "cell_type": "markdown",
   "id": "6f820927-db41-48ec-baff-0dff8536f96b",
   "metadata": {},
   "source": [
    "<div class=\"row\">\n",
    "  <div class=\"col-md-6\" markdown=\"1\">\n",
    "    \n",
    "~~~ markdown\n",
    "# A Level-1 Heading\n",
    "~~~\n",
    "\n",
    "  </div>\n",
    "  <div class=\"col-md-6\" markdown=\"1\">\n",
    "  \n",
    "# A Level-1 Heading\n",
    "\n",
    "  </div>\n",
    "</div>\n",
    "\n",
    "<div class=\"row\">\n",
    "  <div class=\"col-md-6\" markdown=\"1\">\n",
    "    \n",
    "~~~ markdown\n",
    "## A Level-2 Heading (etc.)\n",
    "~~~\n",
    "\n",
    "  </div>\n",
    "  <div class=\"col-md-6\" markdown=\"1\">\n",
    "  \n",
    "## A Level-2 Heading (etc.)\n",
    "\n",
    "  </div>\n",
    "</div>\n",
    "\n"
   ]
  },
  {
   "cell_type": "markdown",
   "id": "74e91a48-6570-4fc1-a5de-f91d3db94124",
   "metadata": {},
   "source": [
    "<div class=\"row\">\n",
    "  <div class=\"col-md-6\" markdown=\"1\">\n",
    "    \n",
    "~~~ markdown\n",
    "Line breaks\n",
    "don't matter.\n",
    "\n",
    "But blank lines\n",
    "create new paragraphs.\n",
    "~~~\n",
    "\n",
    "  </div>\n",
    "</div>"
   ]
  },
  {
   "cell_type": "markdown",
   "id": "44cbd167-8f71-4b2a-909a-ca1ec37042b7",
   "metadata": {},
   "source": [
    "<div>\n",
    "  <div class=\"col-md-6\" markdown=\"1\">\n",
    "  \n",
    "Line breaks\n",
    "don't matter.\n",
    "\n",
    "But blank lines\n",
    "create new paragraphs.\n",
    "\n",
    "  </div>\n",
    "</div>\n",
    "\n"
   ]
  },
  {
   "cell_type": "markdown",
   "id": "af9543dd-8b2b-4f32-b898-cc1238f63b80",
   "metadata": {},
   "source": [
    "<div class=\"row\">\n",
    "  <div class=\"col-md-6\" markdown=\"1\">\n",
    "    \n",
    "~~~ markdown\n",
    "[Create links](http://software-carpentry.org) with `[...](...)`.\n",
    "Or use [named links][data_carpentry].\n",
    "\n",
    "[data_carpentry]: http://datacarpentry.org\n",
    "~~~\n",
    "\n",
    "  </div>\n",
    "</div>\n"
   ]
  },
  {
   "cell_type": "markdown",
   "id": "ff08f2fc-b938-4921-a936-08aabc7d7bf3",
   "metadata": {},
   "source": [
    "<div>\n",
    "  <div class=\"col-md-6\" markdown=\"1\">\n",
    "  \n",
    "[Create links](http://software-carpentry.org) with `[...](...)`.\n",
    "Or use [named links][data_carpentry].\n",
    "\n",
    "[data_carpentry]: http://datacarpentry.org\n",
    "\n",
    "  </div>\n",
    "</div>\n",
    "\n"
   ]
  },
  {
   "cell_type": "markdown",
   "id": "33791ad9-b358-47bb-856d-0a3a0246eb38",
   "metadata": {},
   "source": [
    "---\n",
    "### Creating Lists in Markdown"
   ]
  },
  {
   "cell_type": "markdown",
   "id": "32fc5655-675f-4729-b34e-a5b9dce6ea76",
   "metadata": {},
   "source": [
    "> Create a nested list in a Markdown cell in a notebook that looks like this:\n",
    ">\n",
    "> 1.  Get funding.\n",
    "> 2.  Do work.\n",
    ">     *   Design experiment.\n",
    ">     *   Collect data.\n",
    ">     *   Analyze.\n",
    "> 3.  Write up.\n",
    "> 4.  Publish.\n",
    "> "
   ]
  },
  {
   "cell_type": "markdown",
   "id": "7b22d233-5048-46d8-af46-a7bf9631e16d",
   "metadata": {
    "jp-MarkdownHeadingCollapsed": true,
    "tags": []
   },
   "source": [
    "### Solution"
   ]
  },
  {
   "cell_type": "markdown",
   "id": "6a05885b-4e30-4a6b-8801-05643ad944e2",
   "metadata": {
    "tags": []
   },
   "source": [
    "> > \n",
    "> > This challenge integrates both the numbered list and bullet list. \n",
    "> > Note that the bullet list is indented 2 spaces so that it is inline with the items of the numbered list.\n",
    "> > ~~~ markdown\n",
    "> > 1.  Get funding.\n",
    "> > 2.  Do work.\n",
    "> >     *   Design experiment.\n",
    "> >     *   Collect data.\n",
    "> >     *   Analyze.\n",
    "> > 3.  Write up.\n",
    "> > 4.  Publish.\n",
    "> > ~~~\n",
    "> "
   ]
  },
  {
   "cell_type": "markdown",
   "id": "d73fd368-a38f-4e7c-bb1f-721319fc9397",
   "metadata": {},
   "source": [
    "---\n",
    "### More Math"
   ]
  },
  {
   "cell_type": "markdown",
   "id": "c8fc5666-3e7b-4e08-891f-8ae946676a67",
   "metadata": {},
   "source": [
    "> What is displayed when a Python cell in a notebook\n",
    "> that contains several calculations is executed?\n",
    "> For example, what happens when this cell is executed?\n",
    ">\n",
    "> ~~~ python\n",
    "> 7 * 3\n",
    "> 2 + 1\n",
    "> ~~~\n",
    ">"
   ]
  },
  {
   "cell_type": "markdown",
   "id": "94c0ea2e-d561-4b11-8b31-28b9b401e212",
   "metadata": {
    "jp-MarkdownHeadingCollapsed": true,
    "tags": []
   },
   "source": [
    "### Solution"
   ]
  },
  {
   "cell_type": "markdown",
   "id": "69476795-94e9-421b-b5fe-f9305e2cde19",
   "metadata": {},
   "source": [
    "> > Python returns the output of the last calculation."
   ]
  },
  {
   "cell_type": "code",
   "execution_count": null,
   "id": "365a8c24-fdfd-4596-9f8b-8e5e447b0ce0",
   "metadata": {},
   "outputs": [],
   "source": [
    "7 * 3\n",
    "2 + 1"
   ]
  },
  {
   "cell_type": "markdown",
   "id": "408b99f5-c96a-4d90-ba31-622b938603f7",
   "metadata": {},
   "source": [
    "---\n",
    "### Change an Existing Cell from Code to Markdown"
   ]
  },
  {
   "cell_type": "markdown",
   "id": "6c6a0b61-e533-433d-a5a9-50adb576204b",
   "metadata": {},
   "source": [
    "> What happens if you write some Python in a code cell\n",
    "> and then you switch it to a Markdown cell?\n",
    "> For example,\n",
    "> put the following in a code cell:\n",
    ">\n",
    "> ~~~ python\n",
    "> x = 6 * 7 + 12\n",
    "> print(x)\n",
    "> ~~~"
   ]
  },
  {
   "cell_type": "markdown",
   "id": "f093db65-87b8-423f-b068-610561f2baa6",
   "metadata": {},
   "source": [
    ">\n",
    "> And then run it with <kbd>Shift</kbd>+<kbd>Return</kbd> to be sure that it works as a code cell.\n",
    "> Now go back to the cell and use <kbd>Esc</kbd> then <kbd>m</kbd> to switch the cell to Markdown\n",
    "> and \"run\" it with <kbd>Shift</kbd>+<kbd>Return</kbd>.\n",
    "> What happened and how might this be useful?\n",
    "> "
   ]
  },
  {
   "cell_type": "markdown",
   "id": "140ca1f1-d5ba-4ec3-868b-c75e590d8b84",
   "metadata": {
    "jp-MarkdownHeadingCollapsed": true,
    "tags": []
   },
   "source": [
    "### Solution"
   ]
  },
  {
   "cell_type": "markdown",
   "id": "46c13476-e11e-42db-a247-970ed4290f65",
   "metadata": {},
   "source": [
    "> > The Python code gets treated like Markdown text.\n",
    "> > The lines appear as if they are part of one contiguous paragraph.\n",
    "> > This could be useful to temporarily turn on and off cells in notebooks that get used for multiple purposes. "
   ]
  },
  {
   "cell_type": "markdown",
   "id": "6990d34d-50dc-4391-bb79-52a7c8da0905",
   "metadata": {},
   "source": [
    "x = 6 * 7 + 12\n",
    "print(x)"
   ]
  },
  {
   "cell_type": "markdown",
   "id": "72f259fd-2c07-46e2-b5ab-5ab438ec98b3",
   "metadata": {},
   "source": [
    "---\n",
    "### Equations"
   ]
  },
  {
   "cell_type": "markdown",
   "id": "951eedf7-6db4-4c9a-bb68-56b3ef33e91c",
   "metadata": {},
   "source": [
    "> Standard Markdown (such as we're using for these notes) won't render equations,\n",
    "> but the Notebook will.\n",
    "> Create a new Markdown cell\n",
    "> and enter the following:\n",
    ">\n"
   ]
  },
  {
   "cell_type": "markdown",
   "id": "94556dcc-b5f8-4fa2-a3ff-af1bda11a510",
   "metadata": {},
   "source": [
    "> ~~~\n",
    "> $\\sum_{i=1}^{N} 2^{-i} \\approx 1$\n",
    "> ~~~\n",
    ">"
   ]
  },
  {
   "cell_type": "markdown",
   "id": "a9831341-444e-400c-81e3-b3fc2c442de3",
   "metadata": {},
   "source": [
    "> (It's probably easier to copy and paste.)\n",
    "> What does it display?\n",
    "> What do you think the underscore, `_`, circumflex, `^`, and dollar sign, `$`, do?\n",
    "> \n"
   ]
  },
  {
   "cell_type": "markdown",
   "id": "ee5d554a-b111-4d33-81db-2b3859dcf98d",
   "metadata": {
    "jp-MarkdownHeadingCollapsed": true,
    "tags": []
   },
   "source": [
    "### Solution"
   ]
  },
  {
   "cell_type": "markdown",
   "id": "317d8369-b747-4e21-b4cb-a7cfb17182c8",
   "metadata": {},
   "source": [
    "$\\sum_{i=1}^{N} 2^{-i} \\approx 1$"
   ]
  },
  {
   "cell_type": "markdown",
   "id": "bb0734ce-c7cc-491b-8e49-b428b85163fe",
   "metadata": {},
   "source": [
    "> > The notebook shows the equation as it would be rendered from LaTeX equation syntax.\n",
    "> > The dollar sign, `$`, is used to tell Markdown that the text in between is a LaTeX equation.\n",
    "> > If you're not familiar with LaTeX,  underscore, `_`, is used for subscripts and circumflex, `^`, is used for superscripts.\n",
    "> > A pair of curly braces, `{` and `}`, is used to group text together so that the statement `i=1` becomes the subscript and `N` becomes the superscript.\n",
    "> > Similarly, `-i` is in curly braces to make the whole statement the superscript for `2`.\n",
    "> > `\\sum` and `\\approx` are LaTeX commands for \"sum over\" and \"approximate\" symbols. \n",
    "> "
   ]
  },
  {
   "cell_type": "markdown",
   "id": "9574bd7f-fde9-4992-a640-4d734c6b11d8",
   "metadata": {
    "tags": []
   },
   "source": [
    "---\n",
    "## Closing JupyterLab\n"
   ]
  },
  {
   "cell_type": "markdown",
   "id": "e1155c61-a290-44aa-ab86-a1a2fd830fae",
   "metadata": {},
   "source": [
    "*   From the Menu Bar select the \"File\" menu and then choose \"Shut Down\" at the bottom of the dropdown menu. You will be prompted to confirm that you wish to shutdown the JupyterLab server (don't forget to save your work!). Click \"Shut Down\" to shutdown the JupyterLab server.\n",
    "*   To restart the JupyterLab server you will need to re-run the following command from a shell.\n",
    "\n",
    "~~~ bash\n",
    "$ jupyter lab\n",
    "~~~\n",
    "\n"
   ]
  },
  {
   "cell_type": "markdown",
   "id": "fdc31bd8-564b-47a1-8204-e70e255cd037",
   "metadata": {},
   "source": [
    "> ## Closing JupyterLab\n",
    ">\n",
    "> Practice closing and restarting the JupyterLab server.\n"
   ]
  },
  {
   "cell_type": "markdown",
   "id": "22c47169-b726-4914-b131-7bbb719a666a",
   "metadata": {
    "tags": []
   },
   "source": [
    "---\n",
    "## Keypoints:\n",
    "- \"Python scripts are plain text files.\"\n",
    "- \"Use the Jupyter Notebook for editing and running Python.\"\n",
    "- \"The Notebook has Command and Edit modes.\"\n",
    "- \"Use the keyboard and mouse to select and edit cells.\"\n",
    "- \"The Notebook will turn Markdown into pretty-printed documentation.\"\n",
    "- \"Markdown does most of what HTML does.\"\n",
    "---"
   ]
  },
  {
   "cell_type": "markdown",
   "id": "2b5e5ba8-f230-4cef-916d-81b41f4ca6ec",
   "metadata": {},
   "source": [
    "*This course material was created from the [Plotting and Programming in Python](http://swcarpentry.github.io/python-novice-gapminder/) curriculum developed by [The Software Carpentry Foundation](https://software-carpentry.org/) of [The Carpentries](https://carpentries.org/) licensed under [CC-BY 4.0](https://creativecommons.org/licenses/by/4.0/)*"
   ]
  }
 ],
 "metadata": {
  "kernelspec": {
   "display_name": "Python 3 (ipykernel)",
   "language": "python",
   "name": "python3"
  },
  "language_info": {
   "codemirror_mode": {
    "name": "ipython",
    "version": 3
   },
   "file_extension": ".py",
   "mimetype": "text/x-python",
   "name": "python",
   "nbconvert_exporter": "python",
   "pygments_lexer": "ipython3",
   "version": "3.9.12"
  }
 },
 "nbformat": 4,
 "nbformat_minor": 5
}
